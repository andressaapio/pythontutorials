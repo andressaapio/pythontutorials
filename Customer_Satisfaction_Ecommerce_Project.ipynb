{
  "cells": [
    {
      "cell_type": "markdown",
      "id": "9d78b873",
      "metadata": {
        "id": "9d78b873"
      },
      "source": [
        "# Customer Satisfaction Ecommerce"
      ]
    },
    {
      "cell_type": "markdown",
      "id": "b9d42569",
      "metadata": {
        "id": "b9d42569"
      },
      "source": [
        "O objetivo deste projeto prático é prever a satisfação do cliente a partir de um conjunto de dados de ecommerce do Brasil.\n",
        "\n",
        "Dados podem ser baixados aqui: https://www.kaggle.com/datasets/olistbr/brazilian-ecommerce\n",
        "\n",
        "Colunas da tabela:\n",
        "\n",
        "1. **order_status**: status do pedido (entregue ou cancelado) (delivered or canceled).\n",
        "\n",
        "2. **order_purchase_timestamp**: timestamp (data/hora) da compra de cada item.\n",
        "\n",
        "3. **order_delivered_customer_date**: data real de entrega do pedido do cliente.\n",
        "\n",
        "4. **order_estimated_delievy_date**: data de entrega estimada que foi fornecida ao cliente no momento da compra.\n",
        "\n",
        "5. **shipping_limit_date**: data limite de envio do vendedor para a transferência do pedido ao parceiro logístico.\n",
        "\n",
        "6. **payment_sequential**: método de pagamento utilizado pelo consumidor.\n",
        "\n",
        "7. **payment_type**: método de pagamento preferido do cliente.\n",
        "\n",
        "8. **payment_installments**: número de parcelas de pagamento preferido do cliente.\n",
        "\n",
        "9. **payment_value**: valor da transação.\n",
        "\n",
        "10. **price**: custo de cada item.\n",
        "\n",
        "11. **freight_value**: custo de transporte para cada item (se um pedido tiver mais de um item, o valor do frete é dividido entre os itens).\n",
        "\n",
        "12. **product_category**: categoria de cada item.\n",
        "\n",
        "13. **product_name_length**: número de caracteres extraídos do nome do produto.\n",
        "\n",
        "14. **product_description_length**: número de caracteres extraídos da descrição do produto.\n",
        "\n",
        "15. **product_photos_qty**: número de fotos de produtos que foram publicadas.\n",
        "\n",
        "16. **review_score**: classificação dada por um cliente em uma pesquisa de satisfação que varia de 1 a 5."
      ]
    },
    {
      "cell_type": "code",
      "execution_count": 137,
      "id": "4f887fda",
      "metadata": {
        "id": "4f887fda"
      },
      "outputs": [],
      "source": [
        "import pandas as pd\n",
        "import matplotlib.pyplot as plt\n",
        "import seaborn as sns"
      ]
    },
    {
      "cell_type": "markdown",
      "id": "f88b2933",
      "metadata": {
        "id": "f88b2933"
      },
      "source": [
        "# Carregamento dos dados"
      ]
    },
    {
      "cell_type": "markdown",
      "source": [
        "Vamos carregar os dados de um diretório do GitHub. Poderíamos também carregar através de um diretório nosso no Google Drive. \n",
        "São várias tabelas em csv. Vamos carregar uma por uma."
      ],
      "metadata": {
        "id": "dxihO7bzpQzK"
      },
      "id": "dxihO7bzpQzK"
    },
    {
      "cell_type": "code",
      "execution_count": 138,
      "id": "9ecbb327",
      "metadata": {
        "id": "9ecbb327"
      },
      "outputs": [],
      "source": [
        "# definição do caminho dos arquivos para ler os dados\n",
        "diretorio = 'https://raw.githubusercontent.com/andressaapio/pythontutorials/main/data/olist/' "
      ]
    },
    {
      "cell_type": "code",
      "execution_count": 139,
      "id": "5730b1f6",
      "metadata": {
        "id": "5730b1f6",
        "outputId": "30244f6a-9133-4aaf-ae11-d91357b3245c",
        "colab": {
          "base_uri": "https://localhost:8080/",
          "height": 270
        }
      },
      "outputs": [
        {
          "output_type": "execute_result",
          "data": {
            "text/plain": [
              "                           order_id                       customer_id  \\\n",
              "0  e481f51cbdc54678b7cc49136f2d6af7  9ef432eb6251297304e76186b10a928d   \n",
              "1  53cdb2fc8bc7dce0b6741e2150273451  b0830fb4747a6c6d20dea0b8c802d7ef   \n",
              "2  47770eb9100c2d0c44946d9cf07ec65d  41ce2a54c0b03bf3443c3d931a367089   \n",
              "3  949d5b44dbf5de918fe9c16f97b45f8a  f88197465ea7920adcdbec7375364d82   \n",
              "4  ad21c59c0840e6cb83a9ceb5573f8159  8ab97904e6daea8866dbdbc4fb7aad2c   \n",
              "\n",
              "  order_status order_purchase_timestamp    order_approved_at  \\\n",
              "0    delivered      2017-10-02 10:56:33  2017-10-02 11:07:15   \n",
              "1    delivered      2018-07-24 20:41:37  2018-07-26 03:24:27   \n",
              "2    delivered      2018-08-08 08:38:49  2018-08-08 08:55:23   \n",
              "3    delivered      2017-11-18 19:28:06  2017-11-18 19:45:59   \n",
              "4    delivered      2018-02-13 21:18:39  2018-02-13 22:20:29   \n",
              "\n",
              "  order_delivered_carrier_date order_delivered_customer_date  \\\n",
              "0          2017-10-04 19:55:00           2017-10-10 21:25:13   \n",
              "1          2018-07-26 14:31:00           2018-08-07 15:27:45   \n",
              "2          2018-08-08 13:50:00           2018-08-17 18:06:29   \n",
              "3          2017-11-22 13:39:59           2017-12-02 00:28:42   \n",
              "4          2018-02-14 19:46:34           2018-02-16 18:17:02   \n",
              "\n",
              "  order_estimated_delivery_date  \n",
              "0           2017-10-18 00:00:00  \n",
              "1           2018-08-13 00:00:00  \n",
              "2           2018-09-04 00:00:00  \n",
              "3           2017-12-15 00:00:00  \n",
              "4           2018-02-26 00:00:00  "
            ],
            "text/html": [
              "\n",
              "  <div id=\"df-71558d04-b468-48e1-b685-b077efc4979e\">\n",
              "    <div class=\"colab-df-container\">\n",
              "      <div>\n",
              "<style scoped>\n",
              "    .dataframe tbody tr th:only-of-type {\n",
              "        vertical-align: middle;\n",
              "    }\n",
              "\n",
              "    .dataframe tbody tr th {\n",
              "        vertical-align: top;\n",
              "    }\n",
              "\n",
              "    .dataframe thead th {\n",
              "        text-align: right;\n",
              "    }\n",
              "</style>\n",
              "<table border=\"1\" class=\"dataframe\">\n",
              "  <thead>\n",
              "    <tr style=\"text-align: right;\">\n",
              "      <th></th>\n",
              "      <th>order_id</th>\n",
              "      <th>customer_id</th>\n",
              "      <th>order_status</th>\n",
              "      <th>order_purchase_timestamp</th>\n",
              "      <th>order_approved_at</th>\n",
              "      <th>order_delivered_carrier_date</th>\n",
              "      <th>order_delivered_customer_date</th>\n",
              "      <th>order_estimated_delivery_date</th>\n",
              "    </tr>\n",
              "  </thead>\n",
              "  <tbody>\n",
              "    <tr>\n",
              "      <th>0</th>\n",
              "      <td>e481f51cbdc54678b7cc49136f2d6af7</td>\n",
              "      <td>9ef432eb6251297304e76186b10a928d</td>\n",
              "      <td>delivered</td>\n",
              "      <td>2017-10-02 10:56:33</td>\n",
              "      <td>2017-10-02 11:07:15</td>\n",
              "      <td>2017-10-04 19:55:00</td>\n",
              "      <td>2017-10-10 21:25:13</td>\n",
              "      <td>2017-10-18 00:00:00</td>\n",
              "    </tr>\n",
              "    <tr>\n",
              "      <th>1</th>\n",
              "      <td>53cdb2fc8bc7dce0b6741e2150273451</td>\n",
              "      <td>b0830fb4747a6c6d20dea0b8c802d7ef</td>\n",
              "      <td>delivered</td>\n",
              "      <td>2018-07-24 20:41:37</td>\n",
              "      <td>2018-07-26 03:24:27</td>\n",
              "      <td>2018-07-26 14:31:00</td>\n",
              "      <td>2018-08-07 15:27:45</td>\n",
              "      <td>2018-08-13 00:00:00</td>\n",
              "    </tr>\n",
              "    <tr>\n",
              "      <th>2</th>\n",
              "      <td>47770eb9100c2d0c44946d9cf07ec65d</td>\n",
              "      <td>41ce2a54c0b03bf3443c3d931a367089</td>\n",
              "      <td>delivered</td>\n",
              "      <td>2018-08-08 08:38:49</td>\n",
              "      <td>2018-08-08 08:55:23</td>\n",
              "      <td>2018-08-08 13:50:00</td>\n",
              "      <td>2018-08-17 18:06:29</td>\n",
              "      <td>2018-09-04 00:00:00</td>\n",
              "    </tr>\n",
              "    <tr>\n",
              "      <th>3</th>\n",
              "      <td>949d5b44dbf5de918fe9c16f97b45f8a</td>\n",
              "      <td>f88197465ea7920adcdbec7375364d82</td>\n",
              "      <td>delivered</td>\n",
              "      <td>2017-11-18 19:28:06</td>\n",
              "      <td>2017-11-18 19:45:59</td>\n",
              "      <td>2017-11-22 13:39:59</td>\n",
              "      <td>2017-12-02 00:28:42</td>\n",
              "      <td>2017-12-15 00:00:00</td>\n",
              "    </tr>\n",
              "    <tr>\n",
              "      <th>4</th>\n",
              "      <td>ad21c59c0840e6cb83a9ceb5573f8159</td>\n",
              "      <td>8ab97904e6daea8866dbdbc4fb7aad2c</td>\n",
              "      <td>delivered</td>\n",
              "      <td>2018-02-13 21:18:39</td>\n",
              "      <td>2018-02-13 22:20:29</td>\n",
              "      <td>2018-02-14 19:46:34</td>\n",
              "      <td>2018-02-16 18:17:02</td>\n",
              "      <td>2018-02-26 00:00:00</td>\n",
              "    </tr>\n",
              "  </tbody>\n",
              "</table>\n",
              "</div>\n",
              "      <button class=\"colab-df-convert\" onclick=\"convertToInteractive('df-71558d04-b468-48e1-b685-b077efc4979e')\"\n",
              "              title=\"Convert this dataframe to an interactive table.\"\n",
              "              style=\"display:none;\">\n",
              "        \n",
              "  <svg xmlns=\"http://www.w3.org/2000/svg\" height=\"24px\"viewBox=\"0 0 24 24\"\n",
              "       width=\"24px\">\n",
              "    <path d=\"M0 0h24v24H0V0z\" fill=\"none\"/>\n",
              "    <path d=\"M18.56 5.44l.94 2.06.94-2.06 2.06-.94-2.06-.94-.94-2.06-.94 2.06-2.06.94zm-11 1L8.5 8.5l.94-2.06 2.06-.94-2.06-.94L8.5 2.5l-.94 2.06-2.06.94zm10 10l.94 2.06.94-2.06 2.06-.94-2.06-.94-.94-2.06-.94 2.06-2.06.94z\"/><path d=\"M17.41 7.96l-1.37-1.37c-.4-.4-.92-.59-1.43-.59-.52 0-1.04.2-1.43.59L10.3 9.45l-7.72 7.72c-.78.78-.78 2.05 0 2.83L4 21.41c.39.39.9.59 1.41.59.51 0 1.02-.2 1.41-.59l7.78-7.78 2.81-2.81c.8-.78.8-2.07 0-2.86zM5.41 20L4 18.59l7.72-7.72 1.47 1.35L5.41 20z\"/>\n",
              "  </svg>\n",
              "      </button>\n",
              "      \n",
              "  <style>\n",
              "    .colab-df-container {\n",
              "      display:flex;\n",
              "      flex-wrap:wrap;\n",
              "      gap: 12px;\n",
              "    }\n",
              "\n",
              "    .colab-df-convert {\n",
              "      background-color: #E8F0FE;\n",
              "      border: none;\n",
              "      border-radius: 50%;\n",
              "      cursor: pointer;\n",
              "      display: none;\n",
              "      fill: #1967D2;\n",
              "      height: 32px;\n",
              "      padding: 0 0 0 0;\n",
              "      width: 32px;\n",
              "    }\n",
              "\n",
              "    .colab-df-convert:hover {\n",
              "      background-color: #E2EBFA;\n",
              "      box-shadow: 0px 1px 2px rgba(60, 64, 67, 0.3), 0px 1px 3px 1px rgba(60, 64, 67, 0.15);\n",
              "      fill: #174EA6;\n",
              "    }\n",
              "\n",
              "    [theme=dark] .colab-df-convert {\n",
              "      background-color: #3B4455;\n",
              "      fill: #D2E3FC;\n",
              "    }\n",
              "\n",
              "    [theme=dark] .colab-df-convert:hover {\n",
              "      background-color: #434B5C;\n",
              "      box-shadow: 0px 1px 3px 1px rgba(0, 0, 0, 0.15);\n",
              "      filter: drop-shadow(0px 1px 2px rgba(0, 0, 0, 0.3));\n",
              "      fill: #FFFFFF;\n",
              "    }\n",
              "  </style>\n",
              "\n",
              "      <script>\n",
              "        const buttonEl =\n",
              "          document.querySelector('#df-71558d04-b468-48e1-b685-b077efc4979e button.colab-df-convert');\n",
              "        buttonEl.style.display =\n",
              "          google.colab.kernel.accessAllowed ? 'block' : 'none';\n",
              "\n",
              "        async function convertToInteractive(key) {\n",
              "          const element = document.querySelector('#df-71558d04-b468-48e1-b685-b077efc4979e');\n",
              "          const dataTable =\n",
              "            await google.colab.kernel.invokeFunction('convertToInteractive',\n",
              "                                                     [key], {});\n",
              "          if (!dataTable) return;\n",
              "\n",
              "          const docLinkHtml = 'Like what you see? Visit the ' +\n",
              "            '<a target=\"_blank\" href=https://colab.research.google.com/notebooks/data_table.ipynb>data table notebook</a>'\n",
              "            + ' to learn more about interactive tables.';\n",
              "          element.innerHTML = '';\n",
              "          dataTable['output_type'] = 'display_data';\n",
              "          await google.colab.output.renderOutput(dataTable, element);\n",
              "          const docLink = document.createElement('div');\n",
              "          docLink.innerHTML = docLinkHtml;\n",
              "          element.appendChild(docLink);\n",
              "        }\n",
              "      </script>\n",
              "    </div>\n",
              "  </div>\n",
              "  "
            ]
          },
          "metadata": {},
          "execution_count": 139
        }
      ],
      "source": [
        "# carrega dataset com infos sobre os pedidos: olist_orders_dataset.csv\n",
        "orders = pd.read_csv(diretorio + 'olist_orders_dataset.csv')\n",
        "orders.head()"
      ]
    },
    {
      "cell_type": "code",
      "execution_count": 140,
      "id": "eeb1f449",
      "metadata": {
        "id": "eeb1f449",
        "outputId": "72691e33-178f-446b-d50b-602e9ef9d2a2",
        "colab": {
          "base_uri": "https://localhost:8080/",
          "height": 305
        }
      },
      "outputs": [
        {
          "output_type": "execute_result",
          "data": {
            "text/plain": [
              "                          review_id                          order_id  \\\n",
              "0  7bc2406110b926393aa56f80a40eba40  73fc7af87114b39712e6da79b0a377eb   \n",
              "1  80e641a11e56f04c1ad469d5645fdfde  a548910a1c6147796b98fdf73dbeba33   \n",
              "2  228ce5500dc1d8e020d8d1322874b6f0  f9e4b658b201a9f2ecdecbb34bed034b   \n",
              "3  e64fb393e7b32834bb789ff8bb30750e  658677c97b385a9be170737859d3511b   \n",
              "4  f7c4243c7fe1938f181bec41a392bdeb  8e6bfb81e283fa7e4f11123a3fb894f1   \n",
              "\n",
              "   review_score review_comment_title  \\\n",
              "0             4                  NaN   \n",
              "1             5                  NaN   \n",
              "2             5                  NaN   \n",
              "3             5                  NaN   \n",
              "4             5                  NaN   \n",
              "\n",
              "                              review_comment_message review_creation_date  \\\n",
              "0                                                NaN  2018-01-18 00:00:00   \n",
              "1                                                NaN  2018-03-10 00:00:00   \n",
              "2                                                NaN  2018-02-17 00:00:00   \n",
              "3              Recebi bem antes do prazo estipulado.  2017-04-21 00:00:00   \n",
              "4  Parabéns lojas lannister adorei comprar pela I...  2018-03-01 00:00:00   \n",
              "\n",
              "  review_answer_timestamp  \n",
              "0     2018-01-18 21:46:59  \n",
              "1     2018-03-11 03:05:13  \n",
              "2     2018-02-18 14:36:24  \n",
              "3     2017-04-21 22:02:06  \n",
              "4     2018-03-02 10:26:53  "
            ],
            "text/html": [
              "\n",
              "  <div id=\"df-66457df1-fff4-42cb-8334-fff2c5a77478\">\n",
              "    <div class=\"colab-df-container\">\n",
              "      <div>\n",
              "<style scoped>\n",
              "    .dataframe tbody tr th:only-of-type {\n",
              "        vertical-align: middle;\n",
              "    }\n",
              "\n",
              "    .dataframe tbody tr th {\n",
              "        vertical-align: top;\n",
              "    }\n",
              "\n",
              "    .dataframe thead th {\n",
              "        text-align: right;\n",
              "    }\n",
              "</style>\n",
              "<table border=\"1\" class=\"dataframe\">\n",
              "  <thead>\n",
              "    <tr style=\"text-align: right;\">\n",
              "      <th></th>\n",
              "      <th>review_id</th>\n",
              "      <th>order_id</th>\n",
              "      <th>review_score</th>\n",
              "      <th>review_comment_title</th>\n",
              "      <th>review_comment_message</th>\n",
              "      <th>review_creation_date</th>\n",
              "      <th>review_answer_timestamp</th>\n",
              "    </tr>\n",
              "  </thead>\n",
              "  <tbody>\n",
              "    <tr>\n",
              "      <th>0</th>\n",
              "      <td>7bc2406110b926393aa56f80a40eba40</td>\n",
              "      <td>73fc7af87114b39712e6da79b0a377eb</td>\n",
              "      <td>4</td>\n",
              "      <td>NaN</td>\n",
              "      <td>NaN</td>\n",
              "      <td>2018-01-18 00:00:00</td>\n",
              "      <td>2018-01-18 21:46:59</td>\n",
              "    </tr>\n",
              "    <tr>\n",
              "      <th>1</th>\n",
              "      <td>80e641a11e56f04c1ad469d5645fdfde</td>\n",
              "      <td>a548910a1c6147796b98fdf73dbeba33</td>\n",
              "      <td>5</td>\n",
              "      <td>NaN</td>\n",
              "      <td>NaN</td>\n",
              "      <td>2018-03-10 00:00:00</td>\n",
              "      <td>2018-03-11 03:05:13</td>\n",
              "    </tr>\n",
              "    <tr>\n",
              "      <th>2</th>\n",
              "      <td>228ce5500dc1d8e020d8d1322874b6f0</td>\n",
              "      <td>f9e4b658b201a9f2ecdecbb34bed034b</td>\n",
              "      <td>5</td>\n",
              "      <td>NaN</td>\n",
              "      <td>NaN</td>\n",
              "      <td>2018-02-17 00:00:00</td>\n",
              "      <td>2018-02-18 14:36:24</td>\n",
              "    </tr>\n",
              "    <tr>\n",
              "      <th>3</th>\n",
              "      <td>e64fb393e7b32834bb789ff8bb30750e</td>\n",
              "      <td>658677c97b385a9be170737859d3511b</td>\n",
              "      <td>5</td>\n",
              "      <td>NaN</td>\n",
              "      <td>Recebi bem antes do prazo estipulado.</td>\n",
              "      <td>2017-04-21 00:00:00</td>\n",
              "      <td>2017-04-21 22:02:06</td>\n",
              "    </tr>\n",
              "    <tr>\n",
              "      <th>4</th>\n",
              "      <td>f7c4243c7fe1938f181bec41a392bdeb</td>\n",
              "      <td>8e6bfb81e283fa7e4f11123a3fb894f1</td>\n",
              "      <td>5</td>\n",
              "      <td>NaN</td>\n",
              "      <td>Parabéns lojas lannister adorei comprar pela I...</td>\n",
              "      <td>2018-03-01 00:00:00</td>\n",
              "      <td>2018-03-02 10:26:53</td>\n",
              "    </tr>\n",
              "  </tbody>\n",
              "</table>\n",
              "</div>\n",
              "      <button class=\"colab-df-convert\" onclick=\"convertToInteractive('df-66457df1-fff4-42cb-8334-fff2c5a77478')\"\n",
              "              title=\"Convert this dataframe to an interactive table.\"\n",
              "              style=\"display:none;\">\n",
              "        \n",
              "  <svg xmlns=\"http://www.w3.org/2000/svg\" height=\"24px\"viewBox=\"0 0 24 24\"\n",
              "       width=\"24px\">\n",
              "    <path d=\"M0 0h24v24H0V0z\" fill=\"none\"/>\n",
              "    <path d=\"M18.56 5.44l.94 2.06.94-2.06 2.06-.94-2.06-.94-.94-2.06-.94 2.06-2.06.94zm-11 1L8.5 8.5l.94-2.06 2.06-.94-2.06-.94L8.5 2.5l-.94 2.06-2.06.94zm10 10l.94 2.06.94-2.06 2.06-.94-2.06-.94-.94-2.06-.94 2.06-2.06.94z\"/><path d=\"M17.41 7.96l-1.37-1.37c-.4-.4-.92-.59-1.43-.59-.52 0-1.04.2-1.43.59L10.3 9.45l-7.72 7.72c-.78.78-.78 2.05 0 2.83L4 21.41c.39.39.9.59 1.41.59.51 0 1.02-.2 1.41-.59l7.78-7.78 2.81-2.81c.8-.78.8-2.07 0-2.86zM5.41 20L4 18.59l7.72-7.72 1.47 1.35L5.41 20z\"/>\n",
              "  </svg>\n",
              "      </button>\n",
              "      \n",
              "  <style>\n",
              "    .colab-df-container {\n",
              "      display:flex;\n",
              "      flex-wrap:wrap;\n",
              "      gap: 12px;\n",
              "    }\n",
              "\n",
              "    .colab-df-convert {\n",
              "      background-color: #E8F0FE;\n",
              "      border: none;\n",
              "      border-radius: 50%;\n",
              "      cursor: pointer;\n",
              "      display: none;\n",
              "      fill: #1967D2;\n",
              "      height: 32px;\n",
              "      padding: 0 0 0 0;\n",
              "      width: 32px;\n",
              "    }\n",
              "\n",
              "    .colab-df-convert:hover {\n",
              "      background-color: #E2EBFA;\n",
              "      box-shadow: 0px 1px 2px rgba(60, 64, 67, 0.3), 0px 1px 3px 1px rgba(60, 64, 67, 0.15);\n",
              "      fill: #174EA6;\n",
              "    }\n",
              "\n",
              "    [theme=dark] .colab-df-convert {\n",
              "      background-color: #3B4455;\n",
              "      fill: #D2E3FC;\n",
              "    }\n",
              "\n",
              "    [theme=dark] .colab-df-convert:hover {\n",
              "      background-color: #434B5C;\n",
              "      box-shadow: 0px 1px 3px 1px rgba(0, 0, 0, 0.15);\n",
              "      filter: drop-shadow(0px 1px 2px rgba(0, 0, 0, 0.3));\n",
              "      fill: #FFFFFF;\n",
              "    }\n",
              "  </style>\n",
              "\n",
              "      <script>\n",
              "        const buttonEl =\n",
              "          document.querySelector('#df-66457df1-fff4-42cb-8334-fff2c5a77478 button.colab-df-convert');\n",
              "        buttonEl.style.display =\n",
              "          google.colab.kernel.accessAllowed ? 'block' : 'none';\n",
              "\n",
              "        async function convertToInteractive(key) {\n",
              "          const element = document.querySelector('#df-66457df1-fff4-42cb-8334-fff2c5a77478');\n",
              "          const dataTable =\n",
              "            await google.colab.kernel.invokeFunction('convertToInteractive',\n",
              "                                                     [key], {});\n",
              "          if (!dataTable) return;\n",
              "\n",
              "          const docLinkHtml = 'Like what you see? Visit the ' +\n",
              "            '<a target=\"_blank\" href=https://colab.research.google.com/notebooks/data_table.ipynb>data table notebook</a>'\n",
              "            + ' to learn more about interactive tables.';\n",
              "          element.innerHTML = '';\n",
              "          dataTable['output_type'] = 'display_data';\n",
              "          await google.colab.output.renderOutput(dataTable, element);\n",
              "          const docLink = document.createElement('div');\n",
              "          docLink.innerHTML = docLinkHtml;\n",
              "          element.appendChild(docLink);\n",
              "        }\n",
              "      </script>\n",
              "    </div>\n",
              "  </div>\n",
              "  "
            ]
          },
          "metadata": {},
          "execution_count": 140
        }
      ],
      "source": [
        "# carrega dataset com infos sobre as avaliações dos pedidos: olist_order_reviews_dataset.csv\n",
        "order_reviews = pd.read_csv(diretorio + 'olist_order_reviews_dataset.csv')\n",
        "order_reviews.head()"
      ]
    },
    {
      "cell_type": "code",
      "execution_count": 141,
      "id": "4d095d93",
      "metadata": {
        "id": "4d095d93",
        "outputId": "1593b0b2-0b16-49c3-8397-ca1dd48b8682",
        "colab": {
          "base_uri": "https://localhost:8080/",
          "height": 206
        }
      },
      "outputs": [
        {
          "output_type": "execute_result",
          "data": {
            "text/plain": [
              "                           order_id  payment_sequential payment_type  \\\n",
              "0  b81ef226f3fe1789b1e8b2acac839d17                   1  credit_card   \n",
              "1  a9810da82917af2d9aefd1278f1dcfa0                   1  credit_card   \n",
              "2  25e8ea4e93396b6fa0d3dd708e76c1bd                   1  credit_card   \n",
              "3  ba78997921bbcdc1373bb41e913ab953                   1  credit_card   \n",
              "4  42fdf880ba16b47b59251dd489d4441a                   1  credit_card   \n",
              "\n",
              "   payment_installments  payment_value  \n",
              "0                     8          99.33  \n",
              "1                     1          24.39  \n",
              "2                     1          65.71  \n",
              "3                     8         107.78  \n",
              "4                     2         128.45  "
            ],
            "text/html": [
              "\n",
              "  <div id=\"df-8f0e986a-e71a-4ae7-8bce-c8212786d18b\">\n",
              "    <div class=\"colab-df-container\">\n",
              "      <div>\n",
              "<style scoped>\n",
              "    .dataframe tbody tr th:only-of-type {\n",
              "        vertical-align: middle;\n",
              "    }\n",
              "\n",
              "    .dataframe tbody tr th {\n",
              "        vertical-align: top;\n",
              "    }\n",
              "\n",
              "    .dataframe thead th {\n",
              "        text-align: right;\n",
              "    }\n",
              "</style>\n",
              "<table border=\"1\" class=\"dataframe\">\n",
              "  <thead>\n",
              "    <tr style=\"text-align: right;\">\n",
              "      <th></th>\n",
              "      <th>order_id</th>\n",
              "      <th>payment_sequential</th>\n",
              "      <th>payment_type</th>\n",
              "      <th>payment_installments</th>\n",
              "      <th>payment_value</th>\n",
              "    </tr>\n",
              "  </thead>\n",
              "  <tbody>\n",
              "    <tr>\n",
              "      <th>0</th>\n",
              "      <td>b81ef226f3fe1789b1e8b2acac839d17</td>\n",
              "      <td>1</td>\n",
              "      <td>credit_card</td>\n",
              "      <td>8</td>\n",
              "      <td>99.33</td>\n",
              "    </tr>\n",
              "    <tr>\n",
              "      <th>1</th>\n",
              "      <td>a9810da82917af2d9aefd1278f1dcfa0</td>\n",
              "      <td>1</td>\n",
              "      <td>credit_card</td>\n",
              "      <td>1</td>\n",
              "      <td>24.39</td>\n",
              "    </tr>\n",
              "    <tr>\n",
              "      <th>2</th>\n",
              "      <td>25e8ea4e93396b6fa0d3dd708e76c1bd</td>\n",
              "      <td>1</td>\n",
              "      <td>credit_card</td>\n",
              "      <td>1</td>\n",
              "      <td>65.71</td>\n",
              "    </tr>\n",
              "    <tr>\n",
              "      <th>3</th>\n",
              "      <td>ba78997921bbcdc1373bb41e913ab953</td>\n",
              "      <td>1</td>\n",
              "      <td>credit_card</td>\n",
              "      <td>8</td>\n",
              "      <td>107.78</td>\n",
              "    </tr>\n",
              "    <tr>\n",
              "      <th>4</th>\n",
              "      <td>42fdf880ba16b47b59251dd489d4441a</td>\n",
              "      <td>1</td>\n",
              "      <td>credit_card</td>\n",
              "      <td>2</td>\n",
              "      <td>128.45</td>\n",
              "    </tr>\n",
              "  </tbody>\n",
              "</table>\n",
              "</div>\n",
              "      <button class=\"colab-df-convert\" onclick=\"convertToInteractive('df-8f0e986a-e71a-4ae7-8bce-c8212786d18b')\"\n",
              "              title=\"Convert this dataframe to an interactive table.\"\n",
              "              style=\"display:none;\">\n",
              "        \n",
              "  <svg xmlns=\"http://www.w3.org/2000/svg\" height=\"24px\"viewBox=\"0 0 24 24\"\n",
              "       width=\"24px\">\n",
              "    <path d=\"M0 0h24v24H0V0z\" fill=\"none\"/>\n",
              "    <path d=\"M18.56 5.44l.94 2.06.94-2.06 2.06-.94-2.06-.94-.94-2.06-.94 2.06-2.06.94zm-11 1L8.5 8.5l.94-2.06 2.06-.94-2.06-.94L8.5 2.5l-.94 2.06-2.06.94zm10 10l.94 2.06.94-2.06 2.06-.94-2.06-.94-.94-2.06-.94 2.06-2.06.94z\"/><path d=\"M17.41 7.96l-1.37-1.37c-.4-.4-.92-.59-1.43-.59-.52 0-1.04.2-1.43.59L10.3 9.45l-7.72 7.72c-.78.78-.78 2.05 0 2.83L4 21.41c.39.39.9.59 1.41.59.51 0 1.02-.2 1.41-.59l7.78-7.78 2.81-2.81c.8-.78.8-2.07 0-2.86zM5.41 20L4 18.59l7.72-7.72 1.47 1.35L5.41 20z\"/>\n",
              "  </svg>\n",
              "      </button>\n",
              "      \n",
              "  <style>\n",
              "    .colab-df-container {\n",
              "      display:flex;\n",
              "      flex-wrap:wrap;\n",
              "      gap: 12px;\n",
              "    }\n",
              "\n",
              "    .colab-df-convert {\n",
              "      background-color: #E8F0FE;\n",
              "      border: none;\n",
              "      border-radius: 50%;\n",
              "      cursor: pointer;\n",
              "      display: none;\n",
              "      fill: #1967D2;\n",
              "      height: 32px;\n",
              "      padding: 0 0 0 0;\n",
              "      width: 32px;\n",
              "    }\n",
              "\n",
              "    .colab-df-convert:hover {\n",
              "      background-color: #E2EBFA;\n",
              "      box-shadow: 0px 1px 2px rgba(60, 64, 67, 0.3), 0px 1px 3px 1px rgba(60, 64, 67, 0.15);\n",
              "      fill: #174EA6;\n",
              "    }\n",
              "\n",
              "    [theme=dark] .colab-df-convert {\n",
              "      background-color: #3B4455;\n",
              "      fill: #D2E3FC;\n",
              "    }\n",
              "\n",
              "    [theme=dark] .colab-df-convert:hover {\n",
              "      background-color: #434B5C;\n",
              "      box-shadow: 0px 1px 3px 1px rgba(0, 0, 0, 0.15);\n",
              "      filter: drop-shadow(0px 1px 2px rgba(0, 0, 0, 0.3));\n",
              "      fill: #FFFFFF;\n",
              "    }\n",
              "  </style>\n",
              "\n",
              "      <script>\n",
              "        const buttonEl =\n",
              "          document.querySelector('#df-8f0e986a-e71a-4ae7-8bce-c8212786d18b button.colab-df-convert');\n",
              "        buttonEl.style.display =\n",
              "          google.colab.kernel.accessAllowed ? 'block' : 'none';\n",
              "\n",
              "        async function convertToInteractive(key) {\n",
              "          const element = document.querySelector('#df-8f0e986a-e71a-4ae7-8bce-c8212786d18b');\n",
              "          const dataTable =\n",
              "            await google.colab.kernel.invokeFunction('convertToInteractive',\n",
              "                                                     [key], {});\n",
              "          if (!dataTable) return;\n",
              "\n",
              "          const docLinkHtml = 'Like what you see? Visit the ' +\n",
              "            '<a target=\"_blank\" href=https://colab.research.google.com/notebooks/data_table.ipynb>data table notebook</a>'\n",
              "            + ' to learn more about interactive tables.';\n",
              "          element.innerHTML = '';\n",
              "          dataTable['output_type'] = 'display_data';\n",
              "          await google.colab.output.renderOutput(dataTable, element);\n",
              "          const docLink = document.createElement('div');\n",
              "          docLink.innerHTML = docLinkHtml;\n",
              "          element.appendChild(docLink);\n",
              "        }\n",
              "      </script>\n",
              "    </div>\n",
              "  </div>\n",
              "  "
            ]
          },
          "metadata": {},
          "execution_count": 141
        }
      ],
      "source": [
        "# carrega dataset com infos sobre os pedidos: olist_order_payments_dataset.csv\n",
        "order_payments = pd.read_csv(diretorio + 'olist_order_payments_dataset.csv')\n",
        "order_payments.head()"
      ]
    },
    {
      "cell_type": "code",
      "execution_count": 142,
      "id": "6bdad2a5",
      "metadata": {
        "id": "6bdad2a5",
        "outputId": "f0fda1f0-5024-48bd-d7c3-2abe1d1eff34",
        "colab": {
          "base_uri": "https://localhost:8080/",
          "height": 206
        }
      },
      "outputs": [
        {
          "output_type": "execute_result",
          "data": {
            "text/plain": [
              "                        customer_id                customer_unique_id  \\\n",
              "0  06b8999e2fba1a1fbc88172c00ba8bc7  861eff4711a542e4b93843c6dd7febb0   \n",
              "1  18955e83d337fd6b2def6b18a428ac77  290c77bc529b7ac935b93aa66c333dc3   \n",
              "2  4e7b3e00288586ebd08712fdd0374a03  060e732b5b29e8181a18229c7b0b2b5e   \n",
              "3  b2b6027bc5c5109e529d4dc6358b12c3  259dac757896d24d7702b9acbbff3f3c   \n",
              "4  4f2d8ab171c80ec8364f7c12e35b23ad  345ecd01c38d18a9036ed96c73b8d066   \n",
              "\n",
              "   customer_zip_code_prefix          customer_city customer_state  \n",
              "0                     14409                 franca             SP  \n",
              "1                      9790  sao bernardo do campo             SP  \n",
              "2                      1151              sao paulo             SP  \n",
              "3                      8775        mogi das cruzes             SP  \n",
              "4                     13056               campinas             SP  "
            ],
            "text/html": [
              "\n",
              "  <div id=\"df-8c9beb99-1c04-42ec-904a-d54cadc052cf\">\n",
              "    <div class=\"colab-df-container\">\n",
              "      <div>\n",
              "<style scoped>\n",
              "    .dataframe tbody tr th:only-of-type {\n",
              "        vertical-align: middle;\n",
              "    }\n",
              "\n",
              "    .dataframe tbody tr th {\n",
              "        vertical-align: top;\n",
              "    }\n",
              "\n",
              "    .dataframe thead th {\n",
              "        text-align: right;\n",
              "    }\n",
              "</style>\n",
              "<table border=\"1\" class=\"dataframe\">\n",
              "  <thead>\n",
              "    <tr style=\"text-align: right;\">\n",
              "      <th></th>\n",
              "      <th>customer_id</th>\n",
              "      <th>customer_unique_id</th>\n",
              "      <th>customer_zip_code_prefix</th>\n",
              "      <th>customer_city</th>\n",
              "      <th>customer_state</th>\n",
              "    </tr>\n",
              "  </thead>\n",
              "  <tbody>\n",
              "    <tr>\n",
              "      <th>0</th>\n",
              "      <td>06b8999e2fba1a1fbc88172c00ba8bc7</td>\n",
              "      <td>861eff4711a542e4b93843c6dd7febb0</td>\n",
              "      <td>14409</td>\n",
              "      <td>franca</td>\n",
              "      <td>SP</td>\n",
              "    </tr>\n",
              "    <tr>\n",
              "      <th>1</th>\n",
              "      <td>18955e83d337fd6b2def6b18a428ac77</td>\n",
              "      <td>290c77bc529b7ac935b93aa66c333dc3</td>\n",
              "      <td>9790</td>\n",
              "      <td>sao bernardo do campo</td>\n",
              "      <td>SP</td>\n",
              "    </tr>\n",
              "    <tr>\n",
              "      <th>2</th>\n",
              "      <td>4e7b3e00288586ebd08712fdd0374a03</td>\n",
              "      <td>060e732b5b29e8181a18229c7b0b2b5e</td>\n",
              "      <td>1151</td>\n",
              "      <td>sao paulo</td>\n",
              "      <td>SP</td>\n",
              "    </tr>\n",
              "    <tr>\n",
              "      <th>3</th>\n",
              "      <td>b2b6027bc5c5109e529d4dc6358b12c3</td>\n",
              "      <td>259dac757896d24d7702b9acbbff3f3c</td>\n",
              "      <td>8775</td>\n",
              "      <td>mogi das cruzes</td>\n",
              "      <td>SP</td>\n",
              "    </tr>\n",
              "    <tr>\n",
              "      <th>4</th>\n",
              "      <td>4f2d8ab171c80ec8364f7c12e35b23ad</td>\n",
              "      <td>345ecd01c38d18a9036ed96c73b8d066</td>\n",
              "      <td>13056</td>\n",
              "      <td>campinas</td>\n",
              "      <td>SP</td>\n",
              "    </tr>\n",
              "  </tbody>\n",
              "</table>\n",
              "</div>\n",
              "      <button class=\"colab-df-convert\" onclick=\"convertToInteractive('df-8c9beb99-1c04-42ec-904a-d54cadc052cf')\"\n",
              "              title=\"Convert this dataframe to an interactive table.\"\n",
              "              style=\"display:none;\">\n",
              "        \n",
              "  <svg xmlns=\"http://www.w3.org/2000/svg\" height=\"24px\"viewBox=\"0 0 24 24\"\n",
              "       width=\"24px\">\n",
              "    <path d=\"M0 0h24v24H0V0z\" fill=\"none\"/>\n",
              "    <path d=\"M18.56 5.44l.94 2.06.94-2.06 2.06-.94-2.06-.94-.94-2.06-.94 2.06-2.06.94zm-11 1L8.5 8.5l.94-2.06 2.06-.94-2.06-.94L8.5 2.5l-.94 2.06-2.06.94zm10 10l.94 2.06.94-2.06 2.06-.94-2.06-.94-.94-2.06-.94 2.06-2.06.94z\"/><path d=\"M17.41 7.96l-1.37-1.37c-.4-.4-.92-.59-1.43-.59-.52 0-1.04.2-1.43.59L10.3 9.45l-7.72 7.72c-.78.78-.78 2.05 0 2.83L4 21.41c.39.39.9.59 1.41.59.51 0 1.02-.2 1.41-.59l7.78-7.78 2.81-2.81c.8-.78.8-2.07 0-2.86zM5.41 20L4 18.59l7.72-7.72 1.47 1.35L5.41 20z\"/>\n",
              "  </svg>\n",
              "      </button>\n",
              "      \n",
              "  <style>\n",
              "    .colab-df-container {\n",
              "      display:flex;\n",
              "      flex-wrap:wrap;\n",
              "      gap: 12px;\n",
              "    }\n",
              "\n",
              "    .colab-df-convert {\n",
              "      background-color: #E8F0FE;\n",
              "      border: none;\n",
              "      border-radius: 50%;\n",
              "      cursor: pointer;\n",
              "      display: none;\n",
              "      fill: #1967D2;\n",
              "      height: 32px;\n",
              "      padding: 0 0 0 0;\n",
              "      width: 32px;\n",
              "    }\n",
              "\n",
              "    .colab-df-convert:hover {\n",
              "      background-color: #E2EBFA;\n",
              "      box-shadow: 0px 1px 2px rgba(60, 64, 67, 0.3), 0px 1px 3px 1px rgba(60, 64, 67, 0.15);\n",
              "      fill: #174EA6;\n",
              "    }\n",
              "\n",
              "    [theme=dark] .colab-df-convert {\n",
              "      background-color: #3B4455;\n",
              "      fill: #D2E3FC;\n",
              "    }\n",
              "\n",
              "    [theme=dark] .colab-df-convert:hover {\n",
              "      background-color: #434B5C;\n",
              "      box-shadow: 0px 1px 3px 1px rgba(0, 0, 0, 0.15);\n",
              "      filter: drop-shadow(0px 1px 2px rgba(0, 0, 0, 0.3));\n",
              "      fill: #FFFFFF;\n",
              "    }\n",
              "  </style>\n",
              "\n",
              "      <script>\n",
              "        const buttonEl =\n",
              "          document.querySelector('#df-8c9beb99-1c04-42ec-904a-d54cadc052cf button.colab-df-convert');\n",
              "        buttonEl.style.display =\n",
              "          google.colab.kernel.accessAllowed ? 'block' : 'none';\n",
              "\n",
              "        async function convertToInteractive(key) {\n",
              "          const element = document.querySelector('#df-8c9beb99-1c04-42ec-904a-d54cadc052cf');\n",
              "          const dataTable =\n",
              "            await google.colab.kernel.invokeFunction('convertToInteractive',\n",
              "                                                     [key], {});\n",
              "          if (!dataTable) return;\n",
              "\n",
              "          const docLinkHtml = 'Like what you see? Visit the ' +\n",
              "            '<a target=\"_blank\" href=https://colab.research.google.com/notebooks/data_table.ipynb>data table notebook</a>'\n",
              "            + ' to learn more about interactive tables.';\n",
              "          element.innerHTML = '';\n",
              "          dataTable['output_type'] = 'display_data';\n",
              "          await google.colab.output.renderOutput(dataTable, element);\n",
              "          const docLink = document.createElement('div');\n",
              "          docLink.innerHTML = docLinkHtml;\n",
              "          element.appendChild(docLink);\n",
              "        }\n",
              "      </script>\n",
              "    </div>\n",
              "  </div>\n",
              "  "
            ]
          },
          "metadata": {},
          "execution_count": 142
        }
      ],
      "source": [
        "# carrega dataset do consumidor: olist_customers_dataset.csv\n",
        "customer = pd.read_csv(diretorio + 'olist_customers_dataset.csv')\n",
        "customer.head()"
      ]
    },
    {
      "cell_type": "code",
      "execution_count": 143,
      "id": "f54fb44c",
      "metadata": {
        "id": "f54fb44c",
        "outputId": "92a7b7ff-bbde-4672-8d7b-86429f882e33",
        "colab": {
          "base_uri": "https://localhost:8080/",
          "height": 250
        }
      },
      "outputs": [
        {
          "output_type": "execute_result",
          "data": {
            "text/plain": [
              "                           order_id  order_item_id  \\\n",
              "0  00010242fe8c5a6d1ba2dd792cb16214              1   \n",
              "1  00018f77f2f0320c557190d7a144bdd3              1   \n",
              "2  000229ec398224ef6ca0657da4fc703e              1   \n",
              "3  00024acbcdf0a6daa1e931b038114c75              1   \n",
              "4  00042b26cf59d7ce69dfabb4e55b4fd9              1   \n",
              "\n",
              "                         product_id                         seller_id  \\\n",
              "0  4244733e06e7ecb4970a6e2683c13e61  48436dade18ac8b2bce089ec2a041202   \n",
              "1  e5f2d52b802189ee658865ca93d83a8f  dd7ddc04e1b6c2c614352b383efe2d36   \n",
              "2  c777355d18b72b67abbeef9df44fd0fd  5b51032eddd242adc84c38acab88f23d   \n",
              "3  7634da152a4610f1595efa32f14722fc  9d7a1d34a5052409006425275ba1c2b4   \n",
              "4  ac6c3623068f30de03045865e4e10089  df560393f3a51e74553ab94004ba5c87   \n",
              "\n",
              "   shipping_limit_date   price  freight_value  \n",
              "0  2017-09-19 09:45:35   58.90          13.29  \n",
              "1  2017-05-03 11:05:13  239.90          19.93  \n",
              "2  2018-01-18 14:48:30  199.00          17.87  \n",
              "3  2018-08-15 10:10:18   12.99          12.79  \n",
              "4  2017-02-13 13:57:51  199.90          18.14  "
            ],
            "text/html": [
              "\n",
              "  <div id=\"df-c4d3a574-06e4-4280-bd6b-f2b667aaf63d\">\n",
              "    <div class=\"colab-df-container\">\n",
              "      <div>\n",
              "<style scoped>\n",
              "    .dataframe tbody tr th:only-of-type {\n",
              "        vertical-align: middle;\n",
              "    }\n",
              "\n",
              "    .dataframe tbody tr th {\n",
              "        vertical-align: top;\n",
              "    }\n",
              "\n",
              "    .dataframe thead th {\n",
              "        text-align: right;\n",
              "    }\n",
              "</style>\n",
              "<table border=\"1\" class=\"dataframe\">\n",
              "  <thead>\n",
              "    <tr style=\"text-align: right;\">\n",
              "      <th></th>\n",
              "      <th>order_id</th>\n",
              "      <th>order_item_id</th>\n",
              "      <th>product_id</th>\n",
              "      <th>seller_id</th>\n",
              "      <th>shipping_limit_date</th>\n",
              "      <th>price</th>\n",
              "      <th>freight_value</th>\n",
              "    </tr>\n",
              "  </thead>\n",
              "  <tbody>\n",
              "    <tr>\n",
              "      <th>0</th>\n",
              "      <td>00010242fe8c5a6d1ba2dd792cb16214</td>\n",
              "      <td>1</td>\n",
              "      <td>4244733e06e7ecb4970a6e2683c13e61</td>\n",
              "      <td>48436dade18ac8b2bce089ec2a041202</td>\n",
              "      <td>2017-09-19 09:45:35</td>\n",
              "      <td>58.90</td>\n",
              "      <td>13.29</td>\n",
              "    </tr>\n",
              "    <tr>\n",
              "      <th>1</th>\n",
              "      <td>00018f77f2f0320c557190d7a144bdd3</td>\n",
              "      <td>1</td>\n",
              "      <td>e5f2d52b802189ee658865ca93d83a8f</td>\n",
              "      <td>dd7ddc04e1b6c2c614352b383efe2d36</td>\n",
              "      <td>2017-05-03 11:05:13</td>\n",
              "      <td>239.90</td>\n",
              "      <td>19.93</td>\n",
              "    </tr>\n",
              "    <tr>\n",
              "      <th>2</th>\n",
              "      <td>000229ec398224ef6ca0657da4fc703e</td>\n",
              "      <td>1</td>\n",
              "      <td>c777355d18b72b67abbeef9df44fd0fd</td>\n",
              "      <td>5b51032eddd242adc84c38acab88f23d</td>\n",
              "      <td>2018-01-18 14:48:30</td>\n",
              "      <td>199.00</td>\n",
              "      <td>17.87</td>\n",
              "    </tr>\n",
              "    <tr>\n",
              "      <th>3</th>\n",
              "      <td>00024acbcdf0a6daa1e931b038114c75</td>\n",
              "      <td>1</td>\n",
              "      <td>7634da152a4610f1595efa32f14722fc</td>\n",
              "      <td>9d7a1d34a5052409006425275ba1c2b4</td>\n",
              "      <td>2018-08-15 10:10:18</td>\n",
              "      <td>12.99</td>\n",
              "      <td>12.79</td>\n",
              "    </tr>\n",
              "    <tr>\n",
              "      <th>4</th>\n",
              "      <td>00042b26cf59d7ce69dfabb4e55b4fd9</td>\n",
              "      <td>1</td>\n",
              "      <td>ac6c3623068f30de03045865e4e10089</td>\n",
              "      <td>df560393f3a51e74553ab94004ba5c87</td>\n",
              "      <td>2017-02-13 13:57:51</td>\n",
              "      <td>199.90</td>\n",
              "      <td>18.14</td>\n",
              "    </tr>\n",
              "  </tbody>\n",
              "</table>\n",
              "</div>\n",
              "      <button class=\"colab-df-convert\" onclick=\"convertToInteractive('df-c4d3a574-06e4-4280-bd6b-f2b667aaf63d')\"\n",
              "              title=\"Convert this dataframe to an interactive table.\"\n",
              "              style=\"display:none;\">\n",
              "        \n",
              "  <svg xmlns=\"http://www.w3.org/2000/svg\" height=\"24px\"viewBox=\"0 0 24 24\"\n",
              "       width=\"24px\">\n",
              "    <path d=\"M0 0h24v24H0V0z\" fill=\"none\"/>\n",
              "    <path d=\"M18.56 5.44l.94 2.06.94-2.06 2.06-.94-2.06-.94-.94-2.06-.94 2.06-2.06.94zm-11 1L8.5 8.5l.94-2.06 2.06-.94-2.06-.94L8.5 2.5l-.94 2.06-2.06.94zm10 10l.94 2.06.94-2.06 2.06-.94-2.06-.94-.94-2.06-.94 2.06-2.06.94z\"/><path d=\"M17.41 7.96l-1.37-1.37c-.4-.4-.92-.59-1.43-.59-.52 0-1.04.2-1.43.59L10.3 9.45l-7.72 7.72c-.78.78-.78 2.05 0 2.83L4 21.41c.39.39.9.59 1.41.59.51 0 1.02-.2 1.41-.59l7.78-7.78 2.81-2.81c.8-.78.8-2.07 0-2.86zM5.41 20L4 18.59l7.72-7.72 1.47 1.35L5.41 20z\"/>\n",
              "  </svg>\n",
              "      </button>\n",
              "      \n",
              "  <style>\n",
              "    .colab-df-container {\n",
              "      display:flex;\n",
              "      flex-wrap:wrap;\n",
              "      gap: 12px;\n",
              "    }\n",
              "\n",
              "    .colab-df-convert {\n",
              "      background-color: #E8F0FE;\n",
              "      border: none;\n",
              "      border-radius: 50%;\n",
              "      cursor: pointer;\n",
              "      display: none;\n",
              "      fill: #1967D2;\n",
              "      height: 32px;\n",
              "      padding: 0 0 0 0;\n",
              "      width: 32px;\n",
              "    }\n",
              "\n",
              "    .colab-df-convert:hover {\n",
              "      background-color: #E2EBFA;\n",
              "      box-shadow: 0px 1px 2px rgba(60, 64, 67, 0.3), 0px 1px 3px 1px rgba(60, 64, 67, 0.15);\n",
              "      fill: #174EA6;\n",
              "    }\n",
              "\n",
              "    [theme=dark] .colab-df-convert {\n",
              "      background-color: #3B4455;\n",
              "      fill: #D2E3FC;\n",
              "    }\n",
              "\n",
              "    [theme=dark] .colab-df-convert:hover {\n",
              "      background-color: #434B5C;\n",
              "      box-shadow: 0px 1px 3px 1px rgba(0, 0, 0, 0.15);\n",
              "      filter: drop-shadow(0px 1px 2px rgba(0, 0, 0, 0.3));\n",
              "      fill: #FFFFFF;\n",
              "    }\n",
              "  </style>\n",
              "\n",
              "      <script>\n",
              "        const buttonEl =\n",
              "          document.querySelector('#df-c4d3a574-06e4-4280-bd6b-f2b667aaf63d button.colab-df-convert');\n",
              "        buttonEl.style.display =\n",
              "          google.colab.kernel.accessAllowed ? 'block' : 'none';\n",
              "\n",
              "        async function convertToInteractive(key) {\n",
              "          const element = document.querySelector('#df-c4d3a574-06e4-4280-bd6b-f2b667aaf63d');\n",
              "          const dataTable =\n",
              "            await google.colab.kernel.invokeFunction('convertToInteractive',\n",
              "                                                     [key], {});\n",
              "          if (!dataTable) return;\n",
              "\n",
              "          const docLinkHtml = 'Like what you see? Visit the ' +\n",
              "            '<a target=\"_blank\" href=https://colab.research.google.com/notebooks/data_table.ipynb>data table notebook</a>'\n",
              "            + ' to learn more about interactive tables.';\n",
              "          element.innerHTML = '';\n",
              "          dataTable['output_type'] = 'display_data';\n",
              "          await google.colab.output.renderOutput(dataTable, element);\n",
              "          const docLink = document.createElement('div');\n",
              "          docLink.innerHTML = docLinkHtml;\n",
              "          element.appendChild(docLink);\n",
              "        }\n",
              "      </script>\n",
              "    </div>\n",
              "  </div>\n",
              "  "
            ]
          },
          "metadata": {},
          "execution_count": 143
        }
      ],
      "source": [
        "# carrega dataset com os itens dos pedidos: olist_order_items_datase.csv\n",
        "order_items = pd.read_csv(diretorio + 'olist_order_items_dataset.csv')\n",
        "order_items.head()"
      ]
    },
    {
      "cell_type": "code",
      "execution_count": 144,
      "id": "6e02d60d",
      "metadata": {
        "id": "6e02d60d",
        "outputId": "392577c9-be50-46d1-ad9e-c325811031da",
        "colab": {
          "base_uri": "https://localhost:8080/",
          "height": 270
        }
      },
      "outputs": [
        {
          "output_type": "execute_result",
          "data": {
            "text/plain": [
              "                         product_id  product_category_name  \\\n",
              "0  1e9e8ef04dbcff4541ed26657ea517e5             perfumaria   \n",
              "1  3aa071139cb16b67ca9e5dea641aaa2f                  artes   \n",
              "2  96bd76ec8810374ed1b65e291975717f          esporte_lazer   \n",
              "3  cef67bcfe19066a932b7673e239eb23d                  bebes   \n",
              "4  9dc1a7de274444849c219cff195d0b71  utilidades_domesticas   \n",
              "\n",
              "   product_name_lenght  product_description_lenght  product_photos_qty  \\\n",
              "0                 40.0                       287.0                 1.0   \n",
              "1                 44.0                       276.0                 1.0   \n",
              "2                 46.0                       250.0                 1.0   \n",
              "3                 27.0                       261.0                 1.0   \n",
              "4                 37.0                       402.0                 4.0   \n",
              "\n",
              "   product_weight_g  product_length_cm  product_height_cm  product_width_cm  \n",
              "0             225.0               16.0               10.0              14.0  \n",
              "1            1000.0               30.0               18.0              20.0  \n",
              "2             154.0               18.0                9.0              15.0  \n",
              "3             371.0               26.0                4.0              26.0  \n",
              "4             625.0               20.0               17.0              13.0  "
            ],
            "text/html": [
              "\n",
              "  <div id=\"df-37a3b376-af3a-4f5d-9056-7845a099dba5\">\n",
              "    <div class=\"colab-df-container\">\n",
              "      <div>\n",
              "<style scoped>\n",
              "    .dataframe tbody tr th:only-of-type {\n",
              "        vertical-align: middle;\n",
              "    }\n",
              "\n",
              "    .dataframe tbody tr th {\n",
              "        vertical-align: top;\n",
              "    }\n",
              "\n",
              "    .dataframe thead th {\n",
              "        text-align: right;\n",
              "    }\n",
              "</style>\n",
              "<table border=\"1\" class=\"dataframe\">\n",
              "  <thead>\n",
              "    <tr style=\"text-align: right;\">\n",
              "      <th></th>\n",
              "      <th>product_id</th>\n",
              "      <th>product_category_name</th>\n",
              "      <th>product_name_lenght</th>\n",
              "      <th>product_description_lenght</th>\n",
              "      <th>product_photos_qty</th>\n",
              "      <th>product_weight_g</th>\n",
              "      <th>product_length_cm</th>\n",
              "      <th>product_height_cm</th>\n",
              "      <th>product_width_cm</th>\n",
              "    </tr>\n",
              "  </thead>\n",
              "  <tbody>\n",
              "    <tr>\n",
              "      <th>0</th>\n",
              "      <td>1e9e8ef04dbcff4541ed26657ea517e5</td>\n",
              "      <td>perfumaria</td>\n",
              "      <td>40.0</td>\n",
              "      <td>287.0</td>\n",
              "      <td>1.0</td>\n",
              "      <td>225.0</td>\n",
              "      <td>16.0</td>\n",
              "      <td>10.0</td>\n",
              "      <td>14.0</td>\n",
              "    </tr>\n",
              "    <tr>\n",
              "      <th>1</th>\n",
              "      <td>3aa071139cb16b67ca9e5dea641aaa2f</td>\n",
              "      <td>artes</td>\n",
              "      <td>44.0</td>\n",
              "      <td>276.0</td>\n",
              "      <td>1.0</td>\n",
              "      <td>1000.0</td>\n",
              "      <td>30.0</td>\n",
              "      <td>18.0</td>\n",
              "      <td>20.0</td>\n",
              "    </tr>\n",
              "    <tr>\n",
              "      <th>2</th>\n",
              "      <td>96bd76ec8810374ed1b65e291975717f</td>\n",
              "      <td>esporte_lazer</td>\n",
              "      <td>46.0</td>\n",
              "      <td>250.0</td>\n",
              "      <td>1.0</td>\n",
              "      <td>154.0</td>\n",
              "      <td>18.0</td>\n",
              "      <td>9.0</td>\n",
              "      <td>15.0</td>\n",
              "    </tr>\n",
              "    <tr>\n",
              "      <th>3</th>\n",
              "      <td>cef67bcfe19066a932b7673e239eb23d</td>\n",
              "      <td>bebes</td>\n",
              "      <td>27.0</td>\n",
              "      <td>261.0</td>\n",
              "      <td>1.0</td>\n",
              "      <td>371.0</td>\n",
              "      <td>26.0</td>\n",
              "      <td>4.0</td>\n",
              "      <td>26.0</td>\n",
              "    </tr>\n",
              "    <tr>\n",
              "      <th>4</th>\n",
              "      <td>9dc1a7de274444849c219cff195d0b71</td>\n",
              "      <td>utilidades_domesticas</td>\n",
              "      <td>37.0</td>\n",
              "      <td>402.0</td>\n",
              "      <td>4.0</td>\n",
              "      <td>625.0</td>\n",
              "      <td>20.0</td>\n",
              "      <td>17.0</td>\n",
              "      <td>13.0</td>\n",
              "    </tr>\n",
              "  </tbody>\n",
              "</table>\n",
              "</div>\n",
              "      <button class=\"colab-df-convert\" onclick=\"convertToInteractive('df-37a3b376-af3a-4f5d-9056-7845a099dba5')\"\n",
              "              title=\"Convert this dataframe to an interactive table.\"\n",
              "              style=\"display:none;\">\n",
              "        \n",
              "  <svg xmlns=\"http://www.w3.org/2000/svg\" height=\"24px\"viewBox=\"0 0 24 24\"\n",
              "       width=\"24px\">\n",
              "    <path d=\"M0 0h24v24H0V0z\" fill=\"none\"/>\n",
              "    <path d=\"M18.56 5.44l.94 2.06.94-2.06 2.06-.94-2.06-.94-.94-2.06-.94 2.06-2.06.94zm-11 1L8.5 8.5l.94-2.06 2.06-.94-2.06-.94L8.5 2.5l-.94 2.06-2.06.94zm10 10l.94 2.06.94-2.06 2.06-.94-2.06-.94-.94-2.06-.94 2.06-2.06.94z\"/><path d=\"M17.41 7.96l-1.37-1.37c-.4-.4-.92-.59-1.43-.59-.52 0-1.04.2-1.43.59L10.3 9.45l-7.72 7.72c-.78.78-.78 2.05 0 2.83L4 21.41c.39.39.9.59 1.41.59.51 0 1.02-.2 1.41-.59l7.78-7.78 2.81-2.81c.8-.78.8-2.07 0-2.86zM5.41 20L4 18.59l7.72-7.72 1.47 1.35L5.41 20z\"/>\n",
              "  </svg>\n",
              "      </button>\n",
              "      \n",
              "  <style>\n",
              "    .colab-df-container {\n",
              "      display:flex;\n",
              "      flex-wrap:wrap;\n",
              "      gap: 12px;\n",
              "    }\n",
              "\n",
              "    .colab-df-convert {\n",
              "      background-color: #E8F0FE;\n",
              "      border: none;\n",
              "      border-radius: 50%;\n",
              "      cursor: pointer;\n",
              "      display: none;\n",
              "      fill: #1967D2;\n",
              "      height: 32px;\n",
              "      padding: 0 0 0 0;\n",
              "      width: 32px;\n",
              "    }\n",
              "\n",
              "    .colab-df-convert:hover {\n",
              "      background-color: #E2EBFA;\n",
              "      box-shadow: 0px 1px 2px rgba(60, 64, 67, 0.3), 0px 1px 3px 1px rgba(60, 64, 67, 0.15);\n",
              "      fill: #174EA6;\n",
              "    }\n",
              "\n",
              "    [theme=dark] .colab-df-convert {\n",
              "      background-color: #3B4455;\n",
              "      fill: #D2E3FC;\n",
              "    }\n",
              "\n",
              "    [theme=dark] .colab-df-convert:hover {\n",
              "      background-color: #434B5C;\n",
              "      box-shadow: 0px 1px 3px 1px rgba(0, 0, 0, 0.15);\n",
              "      filter: drop-shadow(0px 1px 2px rgba(0, 0, 0, 0.3));\n",
              "      fill: #FFFFFF;\n",
              "    }\n",
              "  </style>\n",
              "\n",
              "      <script>\n",
              "        const buttonEl =\n",
              "          document.querySelector('#df-37a3b376-af3a-4f5d-9056-7845a099dba5 button.colab-df-convert');\n",
              "        buttonEl.style.display =\n",
              "          google.colab.kernel.accessAllowed ? 'block' : 'none';\n",
              "\n",
              "        async function convertToInteractive(key) {\n",
              "          const element = document.querySelector('#df-37a3b376-af3a-4f5d-9056-7845a099dba5');\n",
              "          const dataTable =\n",
              "            await google.colab.kernel.invokeFunction('convertToInteractive',\n",
              "                                                     [key], {});\n",
              "          if (!dataTable) return;\n",
              "\n",
              "          const docLinkHtml = 'Like what you see? Visit the ' +\n",
              "            '<a target=\"_blank\" href=https://colab.research.google.com/notebooks/data_table.ipynb>data table notebook</a>'\n",
              "            + ' to learn more about interactive tables.';\n",
              "          element.innerHTML = '';\n",
              "          dataTable['output_type'] = 'display_data';\n",
              "          await google.colab.output.renderOutput(dataTable, element);\n",
              "          const docLink = document.createElement('div');\n",
              "          docLink.innerHTML = docLinkHtml;\n",
              "          element.appendChild(docLink);\n",
              "        }\n",
              "      </script>\n",
              "    </div>\n",
              "  </div>\n",
              "  "
            ]
          },
          "metadata": {},
          "execution_count": 144
        }
      ],
      "source": [
        "# carrega dataset com infos sobre os produtos: olist_products_dataset.csv\n",
        "products = pd.read_csv(diretorio + 'olist_products_dataset.csv')\n",
        "products.head()"
      ]
    },
    {
      "cell_type": "code",
      "execution_count": 145,
      "id": "2ae7aa07",
      "metadata": {
        "id": "2ae7aa07",
        "outputId": "eb039a58-6117-47ff-c210-7a37378f45a6",
        "colab": {
          "base_uri": "https://localhost:8080/",
          "height": 206
        }
      },
      "outputs": [
        {
          "output_type": "execute_result",
          "data": {
            "text/plain": [
              "                          seller_id  seller_zip_code_prefix  \\\n",
              "0  3442f8959a84dea7ee197c632cb2df15                   13023   \n",
              "1  d1b65fc7debc3361ea86b5f14c68d2e2                   13844   \n",
              "2  ce3ad9de960102d0677a81f5d0bb7b2d                   20031   \n",
              "3  c0f3eea2e14555b6faeea3dd58c1b1c3                    4195   \n",
              "4  51a04a8a6bdcb23deccc82b0b80742cf                   12914   \n",
              "\n",
              "         seller_city seller_state  \n",
              "0           campinas           SP  \n",
              "1         mogi guacu           SP  \n",
              "2     rio de janeiro           RJ  \n",
              "3          sao paulo           SP  \n",
              "4  braganca paulista           SP  "
            ],
            "text/html": [
              "\n",
              "  <div id=\"df-7d11e410-920d-456d-b575-f1730ede3d96\">\n",
              "    <div class=\"colab-df-container\">\n",
              "      <div>\n",
              "<style scoped>\n",
              "    .dataframe tbody tr th:only-of-type {\n",
              "        vertical-align: middle;\n",
              "    }\n",
              "\n",
              "    .dataframe tbody tr th {\n",
              "        vertical-align: top;\n",
              "    }\n",
              "\n",
              "    .dataframe thead th {\n",
              "        text-align: right;\n",
              "    }\n",
              "</style>\n",
              "<table border=\"1\" class=\"dataframe\">\n",
              "  <thead>\n",
              "    <tr style=\"text-align: right;\">\n",
              "      <th></th>\n",
              "      <th>seller_id</th>\n",
              "      <th>seller_zip_code_prefix</th>\n",
              "      <th>seller_city</th>\n",
              "      <th>seller_state</th>\n",
              "    </tr>\n",
              "  </thead>\n",
              "  <tbody>\n",
              "    <tr>\n",
              "      <th>0</th>\n",
              "      <td>3442f8959a84dea7ee197c632cb2df15</td>\n",
              "      <td>13023</td>\n",
              "      <td>campinas</td>\n",
              "      <td>SP</td>\n",
              "    </tr>\n",
              "    <tr>\n",
              "      <th>1</th>\n",
              "      <td>d1b65fc7debc3361ea86b5f14c68d2e2</td>\n",
              "      <td>13844</td>\n",
              "      <td>mogi guacu</td>\n",
              "      <td>SP</td>\n",
              "    </tr>\n",
              "    <tr>\n",
              "      <th>2</th>\n",
              "      <td>ce3ad9de960102d0677a81f5d0bb7b2d</td>\n",
              "      <td>20031</td>\n",
              "      <td>rio de janeiro</td>\n",
              "      <td>RJ</td>\n",
              "    </tr>\n",
              "    <tr>\n",
              "      <th>3</th>\n",
              "      <td>c0f3eea2e14555b6faeea3dd58c1b1c3</td>\n",
              "      <td>4195</td>\n",
              "      <td>sao paulo</td>\n",
              "      <td>SP</td>\n",
              "    </tr>\n",
              "    <tr>\n",
              "      <th>4</th>\n",
              "      <td>51a04a8a6bdcb23deccc82b0b80742cf</td>\n",
              "      <td>12914</td>\n",
              "      <td>braganca paulista</td>\n",
              "      <td>SP</td>\n",
              "    </tr>\n",
              "  </tbody>\n",
              "</table>\n",
              "</div>\n",
              "      <button class=\"colab-df-convert\" onclick=\"convertToInteractive('df-7d11e410-920d-456d-b575-f1730ede3d96')\"\n",
              "              title=\"Convert this dataframe to an interactive table.\"\n",
              "              style=\"display:none;\">\n",
              "        \n",
              "  <svg xmlns=\"http://www.w3.org/2000/svg\" height=\"24px\"viewBox=\"0 0 24 24\"\n",
              "       width=\"24px\">\n",
              "    <path d=\"M0 0h24v24H0V0z\" fill=\"none\"/>\n",
              "    <path d=\"M18.56 5.44l.94 2.06.94-2.06 2.06-.94-2.06-.94-.94-2.06-.94 2.06-2.06.94zm-11 1L8.5 8.5l.94-2.06 2.06-.94-2.06-.94L8.5 2.5l-.94 2.06-2.06.94zm10 10l.94 2.06.94-2.06 2.06-.94-2.06-.94-.94-2.06-.94 2.06-2.06.94z\"/><path d=\"M17.41 7.96l-1.37-1.37c-.4-.4-.92-.59-1.43-.59-.52 0-1.04.2-1.43.59L10.3 9.45l-7.72 7.72c-.78.78-.78 2.05 0 2.83L4 21.41c.39.39.9.59 1.41.59.51 0 1.02-.2 1.41-.59l7.78-7.78 2.81-2.81c.8-.78.8-2.07 0-2.86zM5.41 20L4 18.59l7.72-7.72 1.47 1.35L5.41 20z\"/>\n",
              "  </svg>\n",
              "      </button>\n",
              "      \n",
              "  <style>\n",
              "    .colab-df-container {\n",
              "      display:flex;\n",
              "      flex-wrap:wrap;\n",
              "      gap: 12px;\n",
              "    }\n",
              "\n",
              "    .colab-df-convert {\n",
              "      background-color: #E8F0FE;\n",
              "      border: none;\n",
              "      border-radius: 50%;\n",
              "      cursor: pointer;\n",
              "      display: none;\n",
              "      fill: #1967D2;\n",
              "      height: 32px;\n",
              "      padding: 0 0 0 0;\n",
              "      width: 32px;\n",
              "    }\n",
              "\n",
              "    .colab-df-convert:hover {\n",
              "      background-color: #E2EBFA;\n",
              "      box-shadow: 0px 1px 2px rgba(60, 64, 67, 0.3), 0px 1px 3px 1px rgba(60, 64, 67, 0.15);\n",
              "      fill: #174EA6;\n",
              "    }\n",
              "\n",
              "    [theme=dark] .colab-df-convert {\n",
              "      background-color: #3B4455;\n",
              "      fill: #D2E3FC;\n",
              "    }\n",
              "\n",
              "    [theme=dark] .colab-df-convert:hover {\n",
              "      background-color: #434B5C;\n",
              "      box-shadow: 0px 1px 3px 1px rgba(0, 0, 0, 0.15);\n",
              "      filter: drop-shadow(0px 1px 2px rgba(0, 0, 0, 0.3));\n",
              "      fill: #FFFFFF;\n",
              "    }\n",
              "  </style>\n",
              "\n",
              "      <script>\n",
              "        const buttonEl =\n",
              "          document.querySelector('#df-7d11e410-920d-456d-b575-f1730ede3d96 button.colab-df-convert');\n",
              "        buttonEl.style.display =\n",
              "          google.colab.kernel.accessAllowed ? 'block' : 'none';\n",
              "\n",
              "        async function convertToInteractive(key) {\n",
              "          const element = document.querySelector('#df-7d11e410-920d-456d-b575-f1730ede3d96');\n",
              "          const dataTable =\n",
              "            await google.colab.kernel.invokeFunction('convertToInteractive',\n",
              "                                                     [key], {});\n",
              "          if (!dataTable) return;\n",
              "\n",
              "          const docLinkHtml = 'Like what you see? Visit the ' +\n",
              "            '<a target=\"_blank\" href=https://colab.research.google.com/notebooks/data_table.ipynb>data table notebook</a>'\n",
              "            + ' to learn more about interactive tables.';\n",
              "          element.innerHTML = '';\n",
              "          dataTable['output_type'] = 'display_data';\n",
              "          await google.colab.output.renderOutput(dataTable, element);\n",
              "          const docLink = document.createElement('div');\n",
              "          docLink.innerHTML = docLinkHtml;\n",
              "          element.appendChild(docLink);\n",
              "        }\n",
              "      </script>\n",
              "    </div>\n",
              "  </div>\n",
              "  "
            ]
          },
          "metadata": {},
          "execution_count": 145
        }
      ],
      "source": [
        "# carrega dataset sobre os vendedores: olist_sellers_dataset.csv\n",
        "sellers = pd.read_csv(diretorio + 'olist_sellers_dataset.csv')\n",
        "sellers.head()\n"
      ]
    },
    {
      "cell_type": "code",
      "execution_count": 146,
      "id": "0ba8dcb6",
      "metadata": {
        "id": "0ba8dcb6",
        "outputId": "721e09b9-23b5-4779-c3c8-de8c98b7b82a",
        "colab": {
          "base_uri": "https://localhost:8080/",
          "height": 424
        }
      },
      "outputs": [
        {
          "output_type": "execute_result",
          "data": {
            "text/plain": [
              "            product_category_name product_category_name_english\n",
              "0                    beleza_saude                 health_beauty\n",
              "1          informatica_acessorios         computers_accessories\n",
              "2                      automotivo                          auto\n",
              "3                 cama_mesa_banho                bed_bath_table\n",
              "4                moveis_decoracao               furniture_decor\n",
              "..                            ...                           ...\n",
              "66                         flores                       flowers\n",
              "67             artes_e_artesanato         arts_and_craftmanship\n",
              "68                fraldas_higiene           diapers_and_hygiene\n",
              "69  fashion_roupa_infanto_juvenil     fashion_childrens_clothes\n",
              "70             seguros_e_servicos         security_and_services\n",
              "\n",
              "[71 rows x 2 columns]"
            ],
            "text/html": [
              "\n",
              "  <div id=\"df-c3a5f862-815b-4237-a2e0-4c9db6030b34\">\n",
              "    <div class=\"colab-df-container\">\n",
              "      <div>\n",
              "<style scoped>\n",
              "    .dataframe tbody tr th:only-of-type {\n",
              "        vertical-align: middle;\n",
              "    }\n",
              "\n",
              "    .dataframe tbody tr th {\n",
              "        vertical-align: top;\n",
              "    }\n",
              "\n",
              "    .dataframe thead th {\n",
              "        text-align: right;\n",
              "    }\n",
              "</style>\n",
              "<table border=\"1\" class=\"dataframe\">\n",
              "  <thead>\n",
              "    <tr style=\"text-align: right;\">\n",
              "      <th></th>\n",
              "      <th>product_category_name</th>\n",
              "      <th>product_category_name_english</th>\n",
              "    </tr>\n",
              "  </thead>\n",
              "  <tbody>\n",
              "    <tr>\n",
              "      <th>0</th>\n",
              "      <td>beleza_saude</td>\n",
              "      <td>health_beauty</td>\n",
              "    </tr>\n",
              "    <tr>\n",
              "      <th>1</th>\n",
              "      <td>informatica_acessorios</td>\n",
              "      <td>computers_accessories</td>\n",
              "    </tr>\n",
              "    <tr>\n",
              "      <th>2</th>\n",
              "      <td>automotivo</td>\n",
              "      <td>auto</td>\n",
              "    </tr>\n",
              "    <tr>\n",
              "      <th>3</th>\n",
              "      <td>cama_mesa_banho</td>\n",
              "      <td>bed_bath_table</td>\n",
              "    </tr>\n",
              "    <tr>\n",
              "      <th>4</th>\n",
              "      <td>moveis_decoracao</td>\n",
              "      <td>furniture_decor</td>\n",
              "    </tr>\n",
              "    <tr>\n",
              "      <th>...</th>\n",
              "      <td>...</td>\n",
              "      <td>...</td>\n",
              "    </tr>\n",
              "    <tr>\n",
              "      <th>66</th>\n",
              "      <td>flores</td>\n",
              "      <td>flowers</td>\n",
              "    </tr>\n",
              "    <tr>\n",
              "      <th>67</th>\n",
              "      <td>artes_e_artesanato</td>\n",
              "      <td>arts_and_craftmanship</td>\n",
              "    </tr>\n",
              "    <tr>\n",
              "      <th>68</th>\n",
              "      <td>fraldas_higiene</td>\n",
              "      <td>diapers_and_hygiene</td>\n",
              "    </tr>\n",
              "    <tr>\n",
              "      <th>69</th>\n",
              "      <td>fashion_roupa_infanto_juvenil</td>\n",
              "      <td>fashion_childrens_clothes</td>\n",
              "    </tr>\n",
              "    <tr>\n",
              "      <th>70</th>\n",
              "      <td>seguros_e_servicos</td>\n",
              "      <td>security_and_services</td>\n",
              "    </tr>\n",
              "  </tbody>\n",
              "</table>\n",
              "<p>71 rows × 2 columns</p>\n",
              "</div>\n",
              "      <button class=\"colab-df-convert\" onclick=\"convertToInteractive('df-c3a5f862-815b-4237-a2e0-4c9db6030b34')\"\n",
              "              title=\"Convert this dataframe to an interactive table.\"\n",
              "              style=\"display:none;\">\n",
              "        \n",
              "  <svg xmlns=\"http://www.w3.org/2000/svg\" height=\"24px\"viewBox=\"0 0 24 24\"\n",
              "       width=\"24px\">\n",
              "    <path d=\"M0 0h24v24H0V0z\" fill=\"none\"/>\n",
              "    <path d=\"M18.56 5.44l.94 2.06.94-2.06 2.06-.94-2.06-.94-.94-2.06-.94 2.06-2.06.94zm-11 1L8.5 8.5l.94-2.06 2.06-.94-2.06-.94L8.5 2.5l-.94 2.06-2.06.94zm10 10l.94 2.06.94-2.06 2.06-.94-2.06-.94-.94-2.06-.94 2.06-2.06.94z\"/><path d=\"M17.41 7.96l-1.37-1.37c-.4-.4-.92-.59-1.43-.59-.52 0-1.04.2-1.43.59L10.3 9.45l-7.72 7.72c-.78.78-.78 2.05 0 2.83L4 21.41c.39.39.9.59 1.41.59.51 0 1.02-.2 1.41-.59l7.78-7.78 2.81-2.81c.8-.78.8-2.07 0-2.86zM5.41 20L4 18.59l7.72-7.72 1.47 1.35L5.41 20z\"/>\n",
              "  </svg>\n",
              "      </button>\n",
              "      \n",
              "  <style>\n",
              "    .colab-df-container {\n",
              "      display:flex;\n",
              "      flex-wrap:wrap;\n",
              "      gap: 12px;\n",
              "    }\n",
              "\n",
              "    .colab-df-convert {\n",
              "      background-color: #E8F0FE;\n",
              "      border: none;\n",
              "      border-radius: 50%;\n",
              "      cursor: pointer;\n",
              "      display: none;\n",
              "      fill: #1967D2;\n",
              "      height: 32px;\n",
              "      padding: 0 0 0 0;\n",
              "      width: 32px;\n",
              "    }\n",
              "\n",
              "    .colab-df-convert:hover {\n",
              "      background-color: #E2EBFA;\n",
              "      box-shadow: 0px 1px 2px rgba(60, 64, 67, 0.3), 0px 1px 3px 1px rgba(60, 64, 67, 0.15);\n",
              "      fill: #174EA6;\n",
              "    }\n",
              "\n",
              "    [theme=dark] .colab-df-convert {\n",
              "      background-color: #3B4455;\n",
              "      fill: #D2E3FC;\n",
              "    }\n",
              "\n",
              "    [theme=dark] .colab-df-convert:hover {\n",
              "      background-color: #434B5C;\n",
              "      box-shadow: 0px 1px 3px 1px rgba(0, 0, 0, 0.15);\n",
              "      filter: drop-shadow(0px 1px 2px rgba(0, 0, 0, 0.3));\n",
              "      fill: #FFFFFF;\n",
              "    }\n",
              "  </style>\n",
              "\n",
              "      <script>\n",
              "        const buttonEl =\n",
              "          document.querySelector('#df-c3a5f862-815b-4237-a2e0-4c9db6030b34 button.colab-df-convert');\n",
              "        buttonEl.style.display =\n",
              "          google.colab.kernel.accessAllowed ? 'block' : 'none';\n",
              "\n",
              "        async function convertToInteractive(key) {\n",
              "          const element = document.querySelector('#df-c3a5f862-815b-4237-a2e0-4c9db6030b34');\n",
              "          const dataTable =\n",
              "            await google.colab.kernel.invokeFunction('convertToInteractive',\n",
              "                                                     [key], {});\n",
              "          if (!dataTable) return;\n",
              "\n",
              "          const docLinkHtml = 'Like what you see? Visit the ' +\n",
              "            '<a target=\"_blank\" href=https://colab.research.google.com/notebooks/data_table.ipynb>data table notebook</a>'\n",
              "            + ' to learn more about interactive tables.';\n",
              "          element.innerHTML = '';\n",
              "          dataTable['output_type'] = 'display_data';\n",
              "          await google.colab.output.renderOutput(dataTable, element);\n",
              "          const docLink = document.createElement('div');\n",
              "          docLink.innerHTML = docLinkHtml;\n",
              "          element.appendChild(docLink);\n",
              "        }\n",
              "      </script>\n",
              "    </div>\n",
              "  </div>\n",
              "  "
            ]
          },
          "metadata": {},
          "execution_count": 146
        }
      ],
      "source": [
        "# carrega dataset com a tradução dos produtos:  product_category_name_translation\n",
        "product_translation = pd.read_csv(diretorio + 'product_category_name_translation.csv')\n",
        "product_translation"
      ]
    },
    {
      "cell_type": "markdown",
      "id": "2b621d6d",
      "metadata": {
        "id": "2b621d6d"
      },
      "source": [
        "## Merge dos datasets"
      ]
    },
    {
      "cell_type": "markdown",
      "source": [
        "Fica difícil trabalhar com várias tabelas, certo? Mas é geralmente assim que acontece no mundo real. O ideal é criarmos uma tabela só com todas as informações que vamos utilizar para a nossa análise. Felizmente temos a função Merge que faz isso para a gente."
      ],
      "metadata": {
        "id": "CIbxZnDppsN9"
      },
      "id": "CIbxZnDppsN9"
    },
    {
      "cell_type": "markdown",
      "id": "31e736ba",
      "metadata": {
        "id": "31e736ba"
      },
      "source": [
        "### Merge de todos os datasets referentes ao consumidor"
      ]
    },
    {
      "cell_type": "code",
      "execution_count": 147,
      "id": "0c020d4d",
      "metadata": {
        "id": "0c020d4d",
        "outputId": "08f667a0-3c34-4dd0-d7d7-de1fc4ac046b",
        "colab": {
          "base_uri": "https://localhost:8080/",
          "height": 0
        }
      },
      "outputs": [
        {
          "output_type": "execute_result",
          "data": {
            "text/plain": [
              "                           order_id                       customer_id  \\\n",
              "0  e481f51cbdc54678b7cc49136f2d6af7  9ef432eb6251297304e76186b10a928d   \n",
              "1  e481f51cbdc54678b7cc49136f2d6af7  9ef432eb6251297304e76186b10a928d   \n",
              "2  e481f51cbdc54678b7cc49136f2d6af7  9ef432eb6251297304e76186b10a928d   \n",
              "3  53cdb2fc8bc7dce0b6741e2150273451  b0830fb4747a6c6d20dea0b8c802d7ef   \n",
              "4  47770eb9100c2d0c44946d9cf07ec65d  41ce2a54c0b03bf3443c3d931a367089   \n",
              "\n",
              "  order_status order_purchase_timestamp    order_approved_at  \\\n",
              "0    delivered      2017-10-02 10:56:33  2017-10-02 11:07:15   \n",
              "1    delivered      2017-10-02 10:56:33  2017-10-02 11:07:15   \n",
              "2    delivered      2017-10-02 10:56:33  2017-10-02 11:07:15   \n",
              "3    delivered      2018-07-24 20:41:37  2018-07-26 03:24:27   \n",
              "4    delivered      2018-08-08 08:38:49  2018-08-08 08:55:23   \n",
              "\n",
              "  order_delivered_carrier_date order_delivered_customer_date  \\\n",
              "0          2017-10-04 19:55:00           2017-10-10 21:25:13   \n",
              "1          2017-10-04 19:55:00           2017-10-10 21:25:13   \n",
              "2          2017-10-04 19:55:00           2017-10-10 21:25:13   \n",
              "3          2018-07-26 14:31:00           2018-08-07 15:27:45   \n",
              "4          2018-08-08 13:50:00           2018-08-17 18:06:29   \n",
              "\n",
              "  order_estimated_delivery_date                         review_id  \\\n",
              "0           2017-10-18 00:00:00  a54f0611adc9ed256b57ede6b6eb5114   \n",
              "1           2017-10-18 00:00:00  a54f0611adc9ed256b57ede6b6eb5114   \n",
              "2           2017-10-18 00:00:00  a54f0611adc9ed256b57ede6b6eb5114   \n",
              "3           2018-08-13 00:00:00  8d5266042046a06655c8db133d120ba5   \n",
              "4           2018-09-04 00:00:00  e73b67b67587f7644d5bd1a52deb1b01   \n",
              "\n",
              "   review_score  ... review_creation_date review_answer_timestamp  \\\n",
              "0             4  ...  2017-10-11 00:00:00     2017-10-12 03:43:48   \n",
              "1             4  ...  2017-10-11 00:00:00     2017-10-12 03:43:48   \n",
              "2             4  ...  2017-10-11 00:00:00     2017-10-12 03:43:48   \n",
              "3             4  ...  2018-08-08 00:00:00     2018-08-08 18:37:50   \n",
              "4             5  ...  2018-08-18 00:00:00     2018-08-22 19:07:58   \n",
              "\n",
              "  payment_sequential payment_type  payment_installments payment_value  \\\n",
              "0                  1  credit_card                     1         18.12   \n",
              "1                  3      voucher                     1          2.00   \n",
              "2                  2      voucher                     1         18.59   \n",
              "3                  1       boleto                     1        141.46   \n",
              "4                  1  credit_card                     3        179.12   \n",
              "\n",
              "                 customer_unique_id  customer_zip_code_prefix customer_city  \\\n",
              "0  7c396fd4830fd04220f754e42b4e5bff                      3149     sao paulo   \n",
              "1  7c396fd4830fd04220f754e42b4e5bff                      3149     sao paulo   \n",
              "2  7c396fd4830fd04220f754e42b4e5bff                      3149     sao paulo   \n",
              "3  af07308b275d755c9edb36a90c618231                     47813     barreiras   \n",
              "4  3a653a41f6f9fc3d2a113cf8398680e8                     75265    vianopolis   \n",
              "\n",
              "   customer_state  \n",
              "0              SP  \n",
              "1              SP  \n",
              "2              SP  \n",
              "3              BA  \n",
              "4              GO  \n",
              "\n",
              "[5 rows x 22 columns]"
            ],
            "text/html": [
              "\n",
              "  <div id=\"df-59516c70-5f31-4161-8ebb-c1dbcdab85ed\">\n",
              "    <div class=\"colab-df-container\">\n",
              "      <div>\n",
              "<style scoped>\n",
              "    .dataframe tbody tr th:only-of-type {\n",
              "        vertical-align: middle;\n",
              "    }\n",
              "\n",
              "    .dataframe tbody tr th {\n",
              "        vertical-align: top;\n",
              "    }\n",
              "\n",
              "    .dataframe thead th {\n",
              "        text-align: right;\n",
              "    }\n",
              "</style>\n",
              "<table border=\"1\" class=\"dataframe\">\n",
              "  <thead>\n",
              "    <tr style=\"text-align: right;\">\n",
              "      <th></th>\n",
              "      <th>order_id</th>\n",
              "      <th>customer_id</th>\n",
              "      <th>order_status</th>\n",
              "      <th>order_purchase_timestamp</th>\n",
              "      <th>order_approved_at</th>\n",
              "      <th>order_delivered_carrier_date</th>\n",
              "      <th>order_delivered_customer_date</th>\n",
              "      <th>order_estimated_delivery_date</th>\n",
              "      <th>review_id</th>\n",
              "      <th>review_score</th>\n",
              "      <th>...</th>\n",
              "      <th>review_creation_date</th>\n",
              "      <th>review_answer_timestamp</th>\n",
              "      <th>payment_sequential</th>\n",
              "      <th>payment_type</th>\n",
              "      <th>payment_installments</th>\n",
              "      <th>payment_value</th>\n",
              "      <th>customer_unique_id</th>\n",
              "      <th>customer_zip_code_prefix</th>\n",
              "      <th>customer_city</th>\n",
              "      <th>customer_state</th>\n",
              "    </tr>\n",
              "  </thead>\n",
              "  <tbody>\n",
              "    <tr>\n",
              "      <th>0</th>\n",
              "      <td>e481f51cbdc54678b7cc49136f2d6af7</td>\n",
              "      <td>9ef432eb6251297304e76186b10a928d</td>\n",
              "      <td>delivered</td>\n",
              "      <td>2017-10-02 10:56:33</td>\n",
              "      <td>2017-10-02 11:07:15</td>\n",
              "      <td>2017-10-04 19:55:00</td>\n",
              "      <td>2017-10-10 21:25:13</td>\n",
              "      <td>2017-10-18 00:00:00</td>\n",
              "      <td>a54f0611adc9ed256b57ede6b6eb5114</td>\n",
              "      <td>4</td>\n",
              "      <td>...</td>\n",
              "      <td>2017-10-11 00:00:00</td>\n",
              "      <td>2017-10-12 03:43:48</td>\n",
              "      <td>1</td>\n",
              "      <td>credit_card</td>\n",
              "      <td>1</td>\n",
              "      <td>18.12</td>\n",
              "      <td>7c396fd4830fd04220f754e42b4e5bff</td>\n",
              "      <td>3149</td>\n",
              "      <td>sao paulo</td>\n",
              "      <td>SP</td>\n",
              "    </tr>\n",
              "    <tr>\n",
              "      <th>1</th>\n",
              "      <td>e481f51cbdc54678b7cc49136f2d6af7</td>\n",
              "      <td>9ef432eb6251297304e76186b10a928d</td>\n",
              "      <td>delivered</td>\n",
              "      <td>2017-10-02 10:56:33</td>\n",
              "      <td>2017-10-02 11:07:15</td>\n",
              "      <td>2017-10-04 19:55:00</td>\n",
              "      <td>2017-10-10 21:25:13</td>\n",
              "      <td>2017-10-18 00:00:00</td>\n",
              "      <td>a54f0611adc9ed256b57ede6b6eb5114</td>\n",
              "      <td>4</td>\n",
              "      <td>...</td>\n",
              "      <td>2017-10-11 00:00:00</td>\n",
              "      <td>2017-10-12 03:43:48</td>\n",
              "      <td>3</td>\n",
              "      <td>voucher</td>\n",
              "      <td>1</td>\n",
              "      <td>2.00</td>\n",
              "      <td>7c396fd4830fd04220f754e42b4e5bff</td>\n",
              "      <td>3149</td>\n",
              "      <td>sao paulo</td>\n",
              "      <td>SP</td>\n",
              "    </tr>\n",
              "    <tr>\n",
              "      <th>2</th>\n",
              "      <td>e481f51cbdc54678b7cc49136f2d6af7</td>\n",
              "      <td>9ef432eb6251297304e76186b10a928d</td>\n",
              "      <td>delivered</td>\n",
              "      <td>2017-10-02 10:56:33</td>\n",
              "      <td>2017-10-02 11:07:15</td>\n",
              "      <td>2017-10-04 19:55:00</td>\n",
              "      <td>2017-10-10 21:25:13</td>\n",
              "      <td>2017-10-18 00:00:00</td>\n",
              "      <td>a54f0611adc9ed256b57ede6b6eb5114</td>\n",
              "      <td>4</td>\n",
              "      <td>...</td>\n",
              "      <td>2017-10-11 00:00:00</td>\n",
              "      <td>2017-10-12 03:43:48</td>\n",
              "      <td>2</td>\n",
              "      <td>voucher</td>\n",
              "      <td>1</td>\n",
              "      <td>18.59</td>\n",
              "      <td>7c396fd4830fd04220f754e42b4e5bff</td>\n",
              "      <td>3149</td>\n",
              "      <td>sao paulo</td>\n",
              "      <td>SP</td>\n",
              "    </tr>\n",
              "    <tr>\n",
              "      <th>3</th>\n",
              "      <td>53cdb2fc8bc7dce0b6741e2150273451</td>\n",
              "      <td>b0830fb4747a6c6d20dea0b8c802d7ef</td>\n",
              "      <td>delivered</td>\n",
              "      <td>2018-07-24 20:41:37</td>\n",
              "      <td>2018-07-26 03:24:27</td>\n",
              "      <td>2018-07-26 14:31:00</td>\n",
              "      <td>2018-08-07 15:27:45</td>\n",
              "      <td>2018-08-13 00:00:00</td>\n",
              "      <td>8d5266042046a06655c8db133d120ba5</td>\n",
              "      <td>4</td>\n",
              "      <td>...</td>\n",
              "      <td>2018-08-08 00:00:00</td>\n",
              "      <td>2018-08-08 18:37:50</td>\n",
              "      <td>1</td>\n",
              "      <td>boleto</td>\n",
              "      <td>1</td>\n",
              "      <td>141.46</td>\n",
              "      <td>af07308b275d755c9edb36a90c618231</td>\n",
              "      <td>47813</td>\n",
              "      <td>barreiras</td>\n",
              "      <td>BA</td>\n",
              "    </tr>\n",
              "    <tr>\n",
              "      <th>4</th>\n",
              "      <td>47770eb9100c2d0c44946d9cf07ec65d</td>\n",
              "      <td>41ce2a54c0b03bf3443c3d931a367089</td>\n",
              "      <td>delivered</td>\n",
              "      <td>2018-08-08 08:38:49</td>\n",
              "      <td>2018-08-08 08:55:23</td>\n",
              "      <td>2018-08-08 13:50:00</td>\n",
              "      <td>2018-08-17 18:06:29</td>\n",
              "      <td>2018-09-04 00:00:00</td>\n",
              "      <td>e73b67b67587f7644d5bd1a52deb1b01</td>\n",
              "      <td>5</td>\n",
              "      <td>...</td>\n",
              "      <td>2018-08-18 00:00:00</td>\n",
              "      <td>2018-08-22 19:07:58</td>\n",
              "      <td>1</td>\n",
              "      <td>credit_card</td>\n",
              "      <td>3</td>\n",
              "      <td>179.12</td>\n",
              "      <td>3a653a41f6f9fc3d2a113cf8398680e8</td>\n",
              "      <td>75265</td>\n",
              "      <td>vianopolis</td>\n",
              "      <td>GO</td>\n",
              "    </tr>\n",
              "  </tbody>\n",
              "</table>\n",
              "<p>5 rows × 22 columns</p>\n",
              "</div>\n",
              "      <button class=\"colab-df-convert\" onclick=\"convertToInteractive('df-59516c70-5f31-4161-8ebb-c1dbcdab85ed')\"\n",
              "              title=\"Convert this dataframe to an interactive table.\"\n",
              "              style=\"display:none;\">\n",
              "        \n",
              "  <svg xmlns=\"http://www.w3.org/2000/svg\" height=\"24px\"viewBox=\"0 0 24 24\"\n",
              "       width=\"24px\">\n",
              "    <path d=\"M0 0h24v24H0V0z\" fill=\"none\"/>\n",
              "    <path d=\"M18.56 5.44l.94 2.06.94-2.06 2.06-.94-2.06-.94-.94-2.06-.94 2.06-2.06.94zm-11 1L8.5 8.5l.94-2.06 2.06-.94-2.06-.94L8.5 2.5l-.94 2.06-2.06.94zm10 10l.94 2.06.94-2.06 2.06-.94-2.06-.94-.94-2.06-.94 2.06-2.06.94z\"/><path d=\"M17.41 7.96l-1.37-1.37c-.4-.4-.92-.59-1.43-.59-.52 0-1.04.2-1.43.59L10.3 9.45l-7.72 7.72c-.78.78-.78 2.05 0 2.83L4 21.41c.39.39.9.59 1.41.59.51 0 1.02-.2 1.41-.59l7.78-7.78 2.81-2.81c.8-.78.8-2.07 0-2.86zM5.41 20L4 18.59l7.72-7.72 1.47 1.35L5.41 20z\"/>\n",
              "  </svg>\n",
              "      </button>\n",
              "      \n",
              "  <style>\n",
              "    .colab-df-container {\n",
              "      display:flex;\n",
              "      flex-wrap:wrap;\n",
              "      gap: 12px;\n",
              "    }\n",
              "\n",
              "    .colab-df-convert {\n",
              "      background-color: #E8F0FE;\n",
              "      border: none;\n",
              "      border-radius: 50%;\n",
              "      cursor: pointer;\n",
              "      display: none;\n",
              "      fill: #1967D2;\n",
              "      height: 32px;\n",
              "      padding: 0 0 0 0;\n",
              "      width: 32px;\n",
              "    }\n",
              "\n",
              "    .colab-df-convert:hover {\n",
              "      background-color: #E2EBFA;\n",
              "      box-shadow: 0px 1px 2px rgba(60, 64, 67, 0.3), 0px 1px 3px 1px rgba(60, 64, 67, 0.15);\n",
              "      fill: #174EA6;\n",
              "    }\n",
              "\n",
              "    [theme=dark] .colab-df-convert {\n",
              "      background-color: #3B4455;\n",
              "      fill: #D2E3FC;\n",
              "    }\n",
              "\n",
              "    [theme=dark] .colab-df-convert:hover {\n",
              "      background-color: #434B5C;\n",
              "      box-shadow: 0px 1px 3px 1px rgba(0, 0, 0, 0.15);\n",
              "      filter: drop-shadow(0px 1px 2px rgba(0, 0, 0, 0.3));\n",
              "      fill: #FFFFFF;\n",
              "    }\n",
              "  </style>\n",
              "\n",
              "      <script>\n",
              "        const buttonEl =\n",
              "          document.querySelector('#df-59516c70-5f31-4161-8ebb-c1dbcdab85ed button.colab-df-convert');\n",
              "        buttonEl.style.display =\n",
              "          google.colab.kernel.accessAllowed ? 'block' : 'none';\n",
              "\n",
              "        async function convertToInteractive(key) {\n",
              "          const element = document.querySelector('#df-59516c70-5f31-4161-8ebb-c1dbcdab85ed');\n",
              "          const dataTable =\n",
              "            await google.colab.kernel.invokeFunction('convertToInteractive',\n",
              "                                                     [key], {});\n",
              "          if (!dataTable) return;\n",
              "\n",
              "          const docLinkHtml = 'Like what you see? Visit the ' +\n",
              "            '<a target=\"_blank\" href=https://colab.research.google.com/notebooks/data_table.ipynb>data table notebook</a>'\n",
              "            + ' to learn more about interactive tables.';\n",
              "          element.innerHTML = '';\n",
              "          dataTable['output_type'] = 'display_data';\n",
              "          await google.colab.output.renderOutput(dataTable, element);\n",
              "          const docLink = document.createElement('div');\n",
              "          docLink.innerHTML = docLinkHtml;\n",
              "          element.appendChild(docLink);\n",
              "        }\n",
              "      </script>\n",
              "    </div>\n",
              "  </div>\n",
              "  "
            ]
          },
          "metadata": {},
          "execution_count": 147
        }
      ],
      "source": [
        "# A = olist_orders_dataset.csv, olist_order_reviews_dataset.csv, olist_order_payments_dataset.csv\n",
        "# em order_id\n",
        "\n",
        "# customer_df = A e olist_customers_dataset.csv em customer_id\n",
        "\n",
        "A = pd.merge(orders, order_reviews, on='order_id')\n",
        "A = pd.merge(A, order_payments,on='order_id')\n",
        "A = pd.merge(A, customer,on='customer_id')\n",
        "A.head()\n"
      ]
    },
    {
      "cell_type": "markdown",
      "id": "bd64bedb",
      "metadata": {
        "id": "bd64bedb"
      },
      "source": [
        "### Merge de todos os datasets referentes ao vendedor "
      ]
    },
    {
      "cell_type": "code",
      "execution_count": 148,
      "id": "c1b8dd5c",
      "metadata": {
        "id": "c1b8dd5c",
        "outputId": "fd0be545-e8c7-4b92-8e97-359dbe1cc610",
        "colab": {
          "base_uri": "https://localhost:8080/",
          "height": 0
        }
      },
      "outputs": [
        {
          "output_type": "execute_result",
          "data": {
            "text/plain": [
              "                           order_id  order_item_id  \\\n",
              "0  00010242fe8c5a6d1ba2dd792cb16214              1   \n",
              "1  130898c0987d1801452a8ed92a670612              1   \n",
              "2  532ed5e14e24ae1f0d735b91524b98b9              1   \n",
              "3  6f8c31653edb8c83e1a739408b5ff750              1   \n",
              "4  7d19f4ef4d04461989632411b7e588b9              1   \n",
              "\n",
              "                         product_id                         seller_id  \\\n",
              "0  4244733e06e7ecb4970a6e2683c13e61  48436dade18ac8b2bce089ec2a041202   \n",
              "1  4244733e06e7ecb4970a6e2683c13e61  48436dade18ac8b2bce089ec2a041202   \n",
              "2  4244733e06e7ecb4970a6e2683c13e61  48436dade18ac8b2bce089ec2a041202   \n",
              "3  4244733e06e7ecb4970a6e2683c13e61  48436dade18ac8b2bce089ec2a041202   \n",
              "4  4244733e06e7ecb4970a6e2683c13e61  48436dade18ac8b2bce089ec2a041202   \n",
              "\n",
              "   shipping_limit_date  price  freight_value product_category_name  \\\n",
              "0  2017-09-19 09:45:35   58.9          13.29            cool_stuff   \n",
              "1  2017-07-05 02:44:11   55.9          17.96            cool_stuff   \n",
              "2  2018-05-23 10:56:25   64.9          18.33            cool_stuff   \n",
              "3  2017-08-07 18:55:08   58.9          16.17            cool_stuff   \n",
              "4  2017-08-16 22:05:11   58.9          13.29            cool_stuff   \n",
              "\n",
              "   product_name_lenght  product_description_lenght  product_photos_qty  \\\n",
              "0                 58.0                       598.0                 4.0   \n",
              "1                 58.0                       598.0                 4.0   \n",
              "2                 58.0                       598.0                 4.0   \n",
              "3                 58.0                       598.0                 4.0   \n",
              "4                 58.0                       598.0                 4.0   \n",
              "\n",
              "   product_weight_g  product_length_cm  product_height_cm  product_width_cm  \\\n",
              "0             650.0               28.0                9.0              14.0   \n",
              "1             650.0               28.0                9.0              14.0   \n",
              "2             650.0               28.0                9.0              14.0   \n",
              "3             650.0               28.0                9.0              14.0   \n",
              "4             650.0               28.0                9.0              14.0   \n",
              "\n",
              "   seller_zip_code_prefix    seller_city seller_state  \\\n",
              "0                   27277  volta redonda           SP   \n",
              "1                   27277  volta redonda           SP   \n",
              "2                   27277  volta redonda           SP   \n",
              "3                   27277  volta redonda           SP   \n",
              "4                   27277  volta redonda           SP   \n",
              "\n",
              "  product_category_name_english  \n",
              "0                    cool_stuff  \n",
              "1                    cool_stuff  \n",
              "2                    cool_stuff  \n",
              "3                    cool_stuff  \n",
              "4                    cool_stuff  "
            ],
            "text/html": [
              "\n",
              "  <div id=\"df-327ff8fd-04e0-4024-9b18-6767d7e84496\">\n",
              "    <div class=\"colab-df-container\">\n",
              "      <div>\n",
              "<style scoped>\n",
              "    .dataframe tbody tr th:only-of-type {\n",
              "        vertical-align: middle;\n",
              "    }\n",
              "\n",
              "    .dataframe tbody tr th {\n",
              "        vertical-align: top;\n",
              "    }\n",
              "\n",
              "    .dataframe thead th {\n",
              "        text-align: right;\n",
              "    }\n",
              "</style>\n",
              "<table border=\"1\" class=\"dataframe\">\n",
              "  <thead>\n",
              "    <tr style=\"text-align: right;\">\n",
              "      <th></th>\n",
              "      <th>order_id</th>\n",
              "      <th>order_item_id</th>\n",
              "      <th>product_id</th>\n",
              "      <th>seller_id</th>\n",
              "      <th>shipping_limit_date</th>\n",
              "      <th>price</th>\n",
              "      <th>freight_value</th>\n",
              "      <th>product_category_name</th>\n",
              "      <th>product_name_lenght</th>\n",
              "      <th>product_description_lenght</th>\n",
              "      <th>product_photos_qty</th>\n",
              "      <th>product_weight_g</th>\n",
              "      <th>product_length_cm</th>\n",
              "      <th>product_height_cm</th>\n",
              "      <th>product_width_cm</th>\n",
              "      <th>seller_zip_code_prefix</th>\n",
              "      <th>seller_city</th>\n",
              "      <th>seller_state</th>\n",
              "      <th>product_category_name_english</th>\n",
              "    </tr>\n",
              "  </thead>\n",
              "  <tbody>\n",
              "    <tr>\n",
              "      <th>0</th>\n",
              "      <td>00010242fe8c5a6d1ba2dd792cb16214</td>\n",
              "      <td>1</td>\n",
              "      <td>4244733e06e7ecb4970a6e2683c13e61</td>\n",
              "      <td>48436dade18ac8b2bce089ec2a041202</td>\n",
              "      <td>2017-09-19 09:45:35</td>\n",
              "      <td>58.9</td>\n",
              "      <td>13.29</td>\n",
              "      <td>cool_stuff</td>\n",
              "      <td>58.0</td>\n",
              "      <td>598.0</td>\n",
              "      <td>4.0</td>\n",
              "      <td>650.0</td>\n",
              "      <td>28.0</td>\n",
              "      <td>9.0</td>\n",
              "      <td>14.0</td>\n",
              "      <td>27277</td>\n",
              "      <td>volta redonda</td>\n",
              "      <td>SP</td>\n",
              "      <td>cool_stuff</td>\n",
              "    </tr>\n",
              "    <tr>\n",
              "      <th>1</th>\n",
              "      <td>130898c0987d1801452a8ed92a670612</td>\n",
              "      <td>1</td>\n",
              "      <td>4244733e06e7ecb4970a6e2683c13e61</td>\n",
              "      <td>48436dade18ac8b2bce089ec2a041202</td>\n",
              "      <td>2017-07-05 02:44:11</td>\n",
              "      <td>55.9</td>\n",
              "      <td>17.96</td>\n",
              "      <td>cool_stuff</td>\n",
              "      <td>58.0</td>\n",
              "      <td>598.0</td>\n",
              "      <td>4.0</td>\n",
              "      <td>650.0</td>\n",
              "      <td>28.0</td>\n",
              "      <td>9.0</td>\n",
              "      <td>14.0</td>\n",
              "      <td>27277</td>\n",
              "      <td>volta redonda</td>\n",
              "      <td>SP</td>\n",
              "      <td>cool_stuff</td>\n",
              "    </tr>\n",
              "    <tr>\n",
              "      <th>2</th>\n",
              "      <td>532ed5e14e24ae1f0d735b91524b98b9</td>\n",
              "      <td>1</td>\n",
              "      <td>4244733e06e7ecb4970a6e2683c13e61</td>\n",
              "      <td>48436dade18ac8b2bce089ec2a041202</td>\n",
              "      <td>2018-05-23 10:56:25</td>\n",
              "      <td>64.9</td>\n",
              "      <td>18.33</td>\n",
              "      <td>cool_stuff</td>\n",
              "      <td>58.0</td>\n",
              "      <td>598.0</td>\n",
              "      <td>4.0</td>\n",
              "      <td>650.0</td>\n",
              "      <td>28.0</td>\n",
              "      <td>9.0</td>\n",
              "      <td>14.0</td>\n",
              "      <td>27277</td>\n",
              "      <td>volta redonda</td>\n",
              "      <td>SP</td>\n",
              "      <td>cool_stuff</td>\n",
              "    </tr>\n",
              "    <tr>\n",
              "      <th>3</th>\n",
              "      <td>6f8c31653edb8c83e1a739408b5ff750</td>\n",
              "      <td>1</td>\n",
              "      <td>4244733e06e7ecb4970a6e2683c13e61</td>\n",
              "      <td>48436dade18ac8b2bce089ec2a041202</td>\n",
              "      <td>2017-08-07 18:55:08</td>\n",
              "      <td>58.9</td>\n",
              "      <td>16.17</td>\n",
              "      <td>cool_stuff</td>\n",
              "      <td>58.0</td>\n",
              "      <td>598.0</td>\n",
              "      <td>4.0</td>\n",
              "      <td>650.0</td>\n",
              "      <td>28.0</td>\n",
              "      <td>9.0</td>\n",
              "      <td>14.0</td>\n",
              "      <td>27277</td>\n",
              "      <td>volta redonda</td>\n",
              "      <td>SP</td>\n",
              "      <td>cool_stuff</td>\n",
              "    </tr>\n",
              "    <tr>\n",
              "      <th>4</th>\n",
              "      <td>7d19f4ef4d04461989632411b7e588b9</td>\n",
              "      <td>1</td>\n",
              "      <td>4244733e06e7ecb4970a6e2683c13e61</td>\n",
              "      <td>48436dade18ac8b2bce089ec2a041202</td>\n",
              "      <td>2017-08-16 22:05:11</td>\n",
              "      <td>58.9</td>\n",
              "      <td>13.29</td>\n",
              "      <td>cool_stuff</td>\n",
              "      <td>58.0</td>\n",
              "      <td>598.0</td>\n",
              "      <td>4.0</td>\n",
              "      <td>650.0</td>\n",
              "      <td>28.0</td>\n",
              "      <td>9.0</td>\n",
              "      <td>14.0</td>\n",
              "      <td>27277</td>\n",
              "      <td>volta redonda</td>\n",
              "      <td>SP</td>\n",
              "      <td>cool_stuff</td>\n",
              "    </tr>\n",
              "  </tbody>\n",
              "</table>\n",
              "</div>\n",
              "      <button class=\"colab-df-convert\" onclick=\"convertToInteractive('df-327ff8fd-04e0-4024-9b18-6767d7e84496')\"\n",
              "              title=\"Convert this dataframe to an interactive table.\"\n",
              "              style=\"display:none;\">\n",
              "        \n",
              "  <svg xmlns=\"http://www.w3.org/2000/svg\" height=\"24px\"viewBox=\"0 0 24 24\"\n",
              "       width=\"24px\">\n",
              "    <path d=\"M0 0h24v24H0V0z\" fill=\"none\"/>\n",
              "    <path d=\"M18.56 5.44l.94 2.06.94-2.06 2.06-.94-2.06-.94-.94-2.06-.94 2.06-2.06.94zm-11 1L8.5 8.5l.94-2.06 2.06-.94-2.06-.94L8.5 2.5l-.94 2.06-2.06.94zm10 10l.94 2.06.94-2.06 2.06-.94-2.06-.94-.94-2.06-.94 2.06-2.06.94z\"/><path d=\"M17.41 7.96l-1.37-1.37c-.4-.4-.92-.59-1.43-.59-.52 0-1.04.2-1.43.59L10.3 9.45l-7.72 7.72c-.78.78-.78 2.05 0 2.83L4 21.41c.39.39.9.59 1.41.59.51 0 1.02-.2 1.41-.59l7.78-7.78 2.81-2.81c.8-.78.8-2.07 0-2.86zM5.41 20L4 18.59l7.72-7.72 1.47 1.35L5.41 20z\"/>\n",
              "  </svg>\n",
              "      </button>\n",
              "      \n",
              "  <style>\n",
              "    .colab-df-container {\n",
              "      display:flex;\n",
              "      flex-wrap:wrap;\n",
              "      gap: 12px;\n",
              "    }\n",
              "\n",
              "    .colab-df-convert {\n",
              "      background-color: #E8F0FE;\n",
              "      border: none;\n",
              "      border-radius: 50%;\n",
              "      cursor: pointer;\n",
              "      display: none;\n",
              "      fill: #1967D2;\n",
              "      height: 32px;\n",
              "      padding: 0 0 0 0;\n",
              "      width: 32px;\n",
              "    }\n",
              "\n",
              "    .colab-df-convert:hover {\n",
              "      background-color: #E2EBFA;\n",
              "      box-shadow: 0px 1px 2px rgba(60, 64, 67, 0.3), 0px 1px 3px 1px rgba(60, 64, 67, 0.15);\n",
              "      fill: #174EA6;\n",
              "    }\n",
              "\n",
              "    [theme=dark] .colab-df-convert {\n",
              "      background-color: #3B4455;\n",
              "      fill: #D2E3FC;\n",
              "    }\n",
              "\n",
              "    [theme=dark] .colab-df-convert:hover {\n",
              "      background-color: #434B5C;\n",
              "      box-shadow: 0px 1px 3px 1px rgba(0, 0, 0, 0.15);\n",
              "      filter: drop-shadow(0px 1px 2px rgba(0, 0, 0, 0.3));\n",
              "      fill: #FFFFFF;\n",
              "    }\n",
              "  </style>\n",
              "\n",
              "      <script>\n",
              "        const buttonEl =\n",
              "          document.querySelector('#df-327ff8fd-04e0-4024-9b18-6767d7e84496 button.colab-df-convert');\n",
              "        buttonEl.style.display =\n",
              "          google.colab.kernel.accessAllowed ? 'block' : 'none';\n",
              "\n",
              "        async function convertToInteractive(key) {\n",
              "          const element = document.querySelector('#df-327ff8fd-04e0-4024-9b18-6767d7e84496');\n",
              "          const dataTable =\n",
              "            await google.colab.kernel.invokeFunction('convertToInteractive',\n",
              "                                                     [key], {});\n",
              "          if (!dataTable) return;\n",
              "\n",
              "          const docLinkHtml = 'Like what you see? Visit the ' +\n",
              "            '<a target=\"_blank\" href=https://colab.research.google.com/notebooks/data_table.ipynb>data table notebook</a>'\n",
              "            + ' to learn more about interactive tables.';\n",
              "          element.innerHTML = '';\n",
              "          dataTable['output_type'] = 'display_data';\n",
              "          await google.colab.output.renderOutput(dataTable, element);\n",
              "          const docLink = document.createElement('div');\n",
              "          docLink.innerHTML = docLinkHtml;\n",
              "          element.appendChild(docLink);\n",
              "        }\n",
              "      </script>\n",
              "    </div>\n",
              "  </div>\n",
              "  "
            ]
          },
          "metadata": {},
          "execution_count": 148
        }
      ],
      "source": [
        "# B = olist_order_items_dataset e olist_products_dataset em product_id\n",
        "# C = B e olist_sellers_dataset em seller_id\n",
        "# seller_df = C e product_category_name_translation.csv em product_category_name\n",
        "\n",
        "B = pd.merge(order_items,products,on='product_id')\n",
        "B = pd.merge(B,sellers,on='seller_id')\n",
        "B = pd.merge(B,product_translation,on='product_category_name')\n",
        "B.head()"
      ]
    },
    {
      "cell_type": "markdown",
      "id": "ac99453c",
      "metadata": {
        "id": "ac99453c"
      },
      "source": [
        "### Merge dos datasets do consumidor e do vendedor"
      ]
    },
    {
      "cell_type": "code",
      "execution_count": 149,
      "id": "106546c8",
      "metadata": {
        "id": "106546c8",
        "outputId": "e6cc0eb1-1dac-4269-86c7-dbfd1c7c13ef",
        "colab": {
          "base_uri": "https://localhost:8080/",
          "height": 0
        }
      },
      "outputs": [
        {
          "output_type": "execute_result",
          "data": {
            "text/plain": [
              "                           order_id                       customer_id  \\\n",
              "0  e481f51cbdc54678b7cc49136f2d6af7  9ef432eb6251297304e76186b10a928d   \n",
              "1  e481f51cbdc54678b7cc49136f2d6af7  9ef432eb6251297304e76186b10a928d   \n",
              "2  e481f51cbdc54678b7cc49136f2d6af7  9ef432eb6251297304e76186b10a928d   \n",
              "3  53cdb2fc8bc7dce0b6741e2150273451  b0830fb4747a6c6d20dea0b8c802d7ef   \n",
              "4  47770eb9100c2d0c44946d9cf07ec65d  41ce2a54c0b03bf3443c3d931a367089   \n",
              "\n",
              "  order_status order_purchase_timestamp    order_approved_at  \\\n",
              "0    delivered      2017-10-02 10:56:33  2017-10-02 11:07:15   \n",
              "1    delivered      2017-10-02 10:56:33  2017-10-02 11:07:15   \n",
              "2    delivered      2017-10-02 10:56:33  2017-10-02 11:07:15   \n",
              "3    delivered      2018-07-24 20:41:37  2018-07-26 03:24:27   \n",
              "4    delivered      2018-08-08 08:38:49  2018-08-08 08:55:23   \n",
              "\n",
              "  order_delivered_carrier_date order_delivered_customer_date  \\\n",
              "0          2017-10-04 19:55:00           2017-10-10 21:25:13   \n",
              "1          2017-10-04 19:55:00           2017-10-10 21:25:13   \n",
              "2          2017-10-04 19:55:00           2017-10-10 21:25:13   \n",
              "3          2018-07-26 14:31:00           2018-08-07 15:27:45   \n",
              "4          2018-08-08 13:50:00           2018-08-17 18:06:29   \n",
              "\n",
              "  order_estimated_delivery_date                         review_id  \\\n",
              "0           2017-10-18 00:00:00  a54f0611adc9ed256b57ede6b6eb5114   \n",
              "1           2017-10-18 00:00:00  a54f0611adc9ed256b57ede6b6eb5114   \n",
              "2           2017-10-18 00:00:00  a54f0611adc9ed256b57ede6b6eb5114   \n",
              "3           2018-08-13 00:00:00  8d5266042046a06655c8db133d120ba5   \n",
              "4           2018-09-04 00:00:00  e73b67b67587f7644d5bd1a52deb1b01   \n",
              "\n",
              "   review_score  ... product_description_lenght product_photos_qty  \\\n",
              "0             4  ...                      268.0                4.0   \n",
              "1             4  ...                      268.0                4.0   \n",
              "2             4  ...                      268.0                4.0   \n",
              "3             4  ...                      178.0                1.0   \n",
              "4             5  ...                      232.0                1.0   \n",
              "\n",
              "  product_weight_g product_length_cm  product_height_cm product_width_cm  \\\n",
              "0            500.0              19.0                8.0             13.0   \n",
              "1            500.0              19.0                8.0             13.0   \n",
              "2            500.0              19.0                8.0             13.0   \n",
              "3            400.0              19.0               13.0             19.0   \n",
              "4            420.0              24.0               19.0             21.0   \n",
              "\n",
              "   seller_zip_code_prefix     seller_city seller_state  \\\n",
              "0                    9350            maua           SP   \n",
              "1                    9350            maua           SP   \n",
              "2                    9350            maua           SP   \n",
              "3                   31570  belo horizonte           SP   \n",
              "4                   14840         guariba           SP   \n",
              "\n",
              "   product_category_name_english  \n",
              "0                     housewares  \n",
              "1                     housewares  \n",
              "2                     housewares  \n",
              "3                      perfumery  \n",
              "4                           auto  \n",
              "\n",
              "[5 rows x 40 columns]"
            ],
            "text/html": [
              "\n",
              "  <div id=\"df-68fd9840-5d07-4e46-955f-c62c02e63ff0\">\n",
              "    <div class=\"colab-df-container\">\n",
              "      <div>\n",
              "<style scoped>\n",
              "    .dataframe tbody tr th:only-of-type {\n",
              "        vertical-align: middle;\n",
              "    }\n",
              "\n",
              "    .dataframe tbody tr th {\n",
              "        vertical-align: top;\n",
              "    }\n",
              "\n",
              "    .dataframe thead th {\n",
              "        text-align: right;\n",
              "    }\n",
              "</style>\n",
              "<table border=\"1\" class=\"dataframe\">\n",
              "  <thead>\n",
              "    <tr style=\"text-align: right;\">\n",
              "      <th></th>\n",
              "      <th>order_id</th>\n",
              "      <th>customer_id</th>\n",
              "      <th>order_status</th>\n",
              "      <th>order_purchase_timestamp</th>\n",
              "      <th>order_approved_at</th>\n",
              "      <th>order_delivered_carrier_date</th>\n",
              "      <th>order_delivered_customer_date</th>\n",
              "      <th>order_estimated_delivery_date</th>\n",
              "      <th>review_id</th>\n",
              "      <th>review_score</th>\n",
              "      <th>...</th>\n",
              "      <th>product_description_lenght</th>\n",
              "      <th>product_photos_qty</th>\n",
              "      <th>product_weight_g</th>\n",
              "      <th>product_length_cm</th>\n",
              "      <th>product_height_cm</th>\n",
              "      <th>product_width_cm</th>\n",
              "      <th>seller_zip_code_prefix</th>\n",
              "      <th>seller_city</th>\n",
              "      <th>seller_state</th>\n",
              "      <th>product_category_name_english</th>\n",
              "    </tr>\n",
              "  </thead>\n",
              "  <tbody>\n",
              "    <tr>\n",
              "      <th>0</th>\n",
              "      <td>e481f51cbdc54678b7cc49136f2d6af7</td>\n",
              "      <td>9ef432eb6251297304e76186b10a928d</td>\n",
              "      <td>delivered</td>\n",
              "      <td>2017-10-02 10:56:33</td>\n",
              "      <td>2017-10-02 11:07:15</td>\n",
              "      <td>2017-10-04 19:55:00</td>\n",
              "      <td>2017-10-10 21:25:13</td>\n",
              "      <td>2017-10-18 00:00:00</td>\n",
              "      <td>a54f0611adc9ed256b57ede6b6eb5114</td>\n",
              "      <td>4</td>\n",
              "      <td>...</td>\n",
              "      <td>268.0</td>\n",
              "      <td>4.0</td>\n",
              "      <td>500.0</td>\n",
              "      <td>19.0</td>\n",
              "      <td>8.0</td>\n",
              "      <td>13.0</td>\n",
              "      <td>9350</td>\n",
              "      <td>maua</td>\n",
              "      <td>SP</td>\n",
              "      <td>housewares</td>\n",
              "    </tr>\n",
              "    <tr>\n",
              "      <th>1</th>\n",
              "      <td>e481f51cbdc54678b7cc49136f2d6af7</td>\n",
              "      <td>9ef432eb6251297304e76186b10a928d</td>\n",
              "      <td>delivered</td>\n",
              "      <td>2017-10-02 10:56:33</td>\n",
              "      <td>2017-10-02 11:07:15</td>\n",
              "      <td>2017-10-04 19:55:00</td>\n",
              "      <td>2017-10-10 21:25:13</td>\n",
              "      <td>2017-10-18 00:00:00</td>\n",
              "      <td>a54f0611adc9ed256b57ede6b6eb5114</td>\n",
              "      <td>4</td>\n",
              "      <td>...</td>\n",
              "      <td>268.0</td>\n",
              "      <td>4.0</td>\n",
              "      <td>500.0</td>\n",
              "      <td>19.0</td>\n",
              "      <td>8.0</td>\n",
              "      <td>13.0</td>\n",
              "      <td>9350</td>\n",
              "      <td>maua</td>\n",
              "      <td>SP</td>\n",
              "      <td>housewares</td>\n",
              "    </tr>\n",
              "    <tr>\n",
              "      <th>2</th>\n",
              "      <td>e481f51cbdc54678b7cc49136f2d6af7</td>\n",
              "      <td>9ef432eb6251297304e76186b10a928d</td>\n",
              "      <td>delivered</td>\n",
              "      <td>2017-10-02 10:56:33</td>\n",
              "      <td>2017-10-02 11:07:15</td>\n",
              "      <td>2017-10-04 19:55:00</td>\n",
              "      <td>2017-10-10 21:25:13</td>\n",
              "      <td>2017-10-18 00:00:00</td>\n",
              "      <td>a54f0611adc9ed256b57ede6b6eb5114</td>\n",
              "      <td>4</td>\n",
              "      <td>...</td>\n",
              "      <td>268.0</td>\n",
              "      <td>4.0</td>\n",
              "      <td>500.0</td>\n",
              "      <td>19.0</td>\n",
              "      <td>8.0</td>\n",
              "      <td>13.0</td>\n",
              "      <td>9350</td>\n",
              "      <td>maua</td>\n",
              "      <td>SP</td>\n",
              "      <td>housewares</td>\n",
              "    </tr>\n",
              "    <tr>\n",
              "      <th>3</th>\n",
              "      <td>53cdb2fc8bc7dce0b6741e2150273451</td>\n",
              "      <td>b0830fb4747a6c6d20dea0b8c802d7ef</td>\n",
              "      <td>delivered</td>\n",
              "      <td>2018-07-24 20:41:37</td>\n",
              "      <td>2018-07-26 03:24:27</td>\n",
              "      <td>2018-07-26 14:31:00</td>\n",
              "      <td>2018-08-07 15:27:45</td>\n",
              "      <td>2018-08-13 00:00:00</td>\n",
              "      <td>8d5266042046a06655c8db133d120ba5</td>\n",
              "      <td>4</td>\n",
              "      <td>...</td>\n",
              "      <td>178.0</td>\n",
              "      <td>1.0</td>\n",
              "      <td>400.0</td>\n",
              "      <td>19.0</td>\n",
              "      <td>13.0</td>\n",
              "      <td>19.0</td>\n",
              "      <td>31570</td>\n",
              "      <td>belo horizonte</td>\n",
              "      <td>SP</td>\n",
              "      <td>perfumery</td>\n",
              "    </tr>\n",
              "    <tr>\n",
              "      <th>4</th>\n",
              "      <td>47770eb9100c2d0c44946d9cf07ec65d</td>\n",
              "      <td>41ce2a54c0b03bf3443c3d931a367089</td>\n",
              "      <td>delivered</td>\n",
              "      <td>2018-08-08 08:38:49</td>\n",
              "      <td>2018-08-08 08:55:23</td>\n",
              "      <td>2018-08-08 13:50:00</td>\n",
              "      <td>2018-08-17 18:06:29</td>\n",
              "      <td>2018-09-04 00:00:00</td>\n",
              "      <td>e73b67b67587f7644d5bd1a52deb1b01</td>\n",
              "      <td>5</td>\n",
              "      <td>...</td>\n",
              "      <td>232.0</td>\n",
              "      <td>1.0</td>\n",
              "      <td>420.0</td>\n",
              "      <td>24.0</td>\n",
              "      <td>19.0</td>\n",
              "      <td>21.0</td>\n",
              "      <td>14840</td>\n",
              "      <td>guariba</td>\n",
              "      <td>SP</td>\n",
              "      <td>auto</td>\n",
              "    </tr>\n",
              "  </tbody>\n",
              "</table>\n",
              "<p>5 rows × 40 columns</p>\n",
              "</div>\n",
              "      <button class=\"colab-df-convert\" onclick=\"convertToInteractive('df-68fd9840-5d07-4e46-955f-c62c02e63ff0')\"\n",
              "              title=\"Convert this dataframe to an interactive table.\"\n",
              "              style=\"display:none;\">\n",
              "        \n",
              "  <svg xmlns=\"http://www.w3.org/2000/svg\" height=\"24px\"viewBox=\"0 0 24 24\"\n",
              "       width=\"24px\">\n",
              "    <path d=\"M0 0h24v24H0V0z\" fill=\"none\"/>\n",
              "    <path d=\"M18.56 5.44l.94 2.06.94-2.06 2.06-.94-2.06-.94-.94-2.06-.94 2.06-2.06.94zm-11 1L8.5 8.5l.94-2.06 2.06-.94-2.06-.94L8.5 2.5l-.94 2.06-2.06.94zm10 10l.94 2.06.94-2.06 2.06-.94-2.06-.94-.94-2.06-.94 2.06-2.06.94z\"/><path d=\"M17.41 7.96l-1.37-1.37c-.4-.4-.92-.59-1.43-.59-.52 0-1.04.2-1.43.59L10.3 9.45l-7.72 7.72c-.78.78-.78 2.05 0 2.83L4 21.41c.39.39.9.59 1.41.59.51 0 1.02-.2 1.41-.59l7.78-7.78 2.81-2.81c.8-.78.8-2.07 0-2.86zM5.41 20L4 18.59l7.72-7.72 1.47 1.35L5.41 20z\"/>\n",
              "  </svg>\n",
              "      </button>\n",
              "      \n",
              "  <style>\n",
              "    .colab-df-container {\n",
              "      display:flex;\n",
              "      flex-wrap:wrap;\n",
              "      gap: 12px;\n",
              "    }\n",
              "\n",
              "    .colab-df-convert {\n",
              "      background-color: #E8F0FE;\n",
              "      border: none;\n",
              "      border-radius: 50%;\n",
              "      cursor: pointer;\n",
              "      display: none;\n",
              "      fill: #1967D2;\n",
              "      height: 32px;\n",
              "      padding: 0 0 0 0;\n",
              "      width: 32px;\n",
              "    }\n",
              "\n",
              "    .colab-df-convert:hover {\n",
              "      background-color: #E2EBFA;\n",
              "      box-shadow: 0px 1px 2px rgba(60, 64, 67, 0.3), 0px 1px 3px 1px rgba(60, 64, 67, 0.15);\n",
              "      fill: #174EA6;\n",
              "    }\n",
              "\n",
              "    [theme=dark] .colab-df-convert {\n",
              "      background-color: #3B4455;\n",
              "      fill: #D2E3FC;\n",
              "    }\n",
              "\n",
              "    [theme=dark] .colab-df-convert:hover {\n",
              "      background-color: #434B5C;\n",
              "      box-shadow: 0px 1px 3px 1px rgba(0, 0, 0, 0.15);\n",
              "      filter: drop-shadow(0px 1px 2px rgba(0, 0, 0, 0.3));\n",
              "      fill: #FFFFFF;\n",
              "    }\n",
              "  </style>\n",
              "\n",
              "      <script>\n",
              "        const buttonEl =\n",
              "          document.querySelector('#df-68fd9840-5d07-4e46-955f-c62c02e63ff0 button.colab-df-convert');\n",
              "        buttonEl.style.display =\n",
              "          google.colab.kernel.accessAllowed ? 'block' : 'none';\n",
              "\n",
              "        async function convertToInteractive(key) {\n",
              "          const element = document.querySelector('#df-68fd9840-5d07-4e46-955f-c62c02e63ff0');\n",
              "          const dataTable =\n",
              "            await google.colab.kernel.invokeFunction('convertToInteractive',\n",
              "                                                     [key], {});\n",
              "          if (!dataTable) return;\n",
              "\n",
              "          const docLinkHtml = 'Like what you see? Visit the ' +\n",
              "            '<a target=\"_blank\" href=https://colab.research.google.com/notebooks/data_table.ipynb>data table notebook</a>'\n",
              "            + ' to learn more about interactive tables.';\n",
              "          element.innerHTML = '';\n",
              "          dataTable['output_type'] = 'display_data';\n",
              "          await google.colab.output.renderOutput(dataTable, element);\n",
              "          const docLink = document.createElement('div');\n",
              "          docLink.innerHTML = docLinkHtml;\n",
              "          element.appendChild(docLink);\n",
              "        }\n",
              "      </script>\n",
              "    </div>\n",
              "  </div>\n",
              "  "
            ]
          },
          "metadata": {},
          "execution_count": 149
        }
      ],
      "source": [
        "# df_ecommerce = merge do customer_df e do seller_df em order_id\n",
        "df_ecommerce = pd.merge(A, B, on = 'order_id')\n",
        "df_ecommerce.head()"
      ]
    },
    {
      "cell_type": "markdown",
      "id": "c1689200",
      "metadata": {
        "id": "c1689200"
      },
      "source": [
        "## Seleção dos dados do dataset"
      ]
    },
    {
      "cell_type": "markdown",
      "source": [
        "Agora que temos a nossa tabela final, vemos que temos muitas informações (colunas) que não precisamos. Vamos selecionar apenas aquelas que fazem sentido para a nossa análise."
      ],
      "metadata": {
        "id": "PSqSqegmqVC1"
      },
      "id": "PSqSqegmqVC1"
    },
    {
      "cell_type": "code",
      "execution_count": 150,
      "id": "e125d2f8",
      "metadata": {
        "id": "e125d2f8",
        "outputId": "112c609f-8417-45a3-f450-6c82ac0cffcf",
        "colab": {
          "base_uri": "https://localhost:8080/"
        }
      },
      "outputs": [
        {
          "output_type": "execute_result",
          "data": {
            "text/plain": [
              "Index(['order_id', 'customer_id', 'order_status', 'order_purchase_timestamp',\n",
              "       'order_approved_at', 'order_delivered_carrier_date',\n",
              "       'order_delivered_customer_date', 'order_estimated_delivery_date',\n",
              "       'review_id', 'review_score', 'review_comment_title',\n",
              "       'review_comment_message', 'review_creation_date',\n",
              "       'review_answer_timestamp', 'payment_sequential', 'payment_type',\n",
              "       'payment_installments', 'payment_value', 'customer_unique_id',\n",
              "       'customer_zip_code_prefix', 'customer_city', 'customer_state',\n",
              "       'order_item_id', 'product_id', 'seller_id', 'shipping_limit_date',\n",
              "       'price', 'freight_value', 'product_category_name',\n",
              "       'product_name_lenght', 'product_description_lenght',\n",
              "       'product_photos_qty', 'product_weight_g', 'product_length_cm',\n",
              "       'product_height_cm', 'product_width_cm', 'seller_zip_code_prefix',\n",
              "       'seller_city', 'seller_state', 'product_category_name_english'],\n",
              "      dtype='object')"
            ]
          },
          "metadata": {},
          "execution_count": 150
        }
      ],
      "source": [
        "# visualizar as colunas do dataset:\n",
        "df_ecommerce.columns"
      ]
    },
    {
      "cell_type": "code",
      "execution_count": 151,
      "id": "bd1db1cf",
      "metadata": {
        "id": "bd1db1cf"
      },
      "outputs": [],
      "source": [
        "# selecionar apenas as colunas: \n",
        "# 'order_status','order_purchase_timestamp','order_delivered_customer_date','order_estimated_delivery_date',\n",
        "# 'shipping_limit_date','payment_sequential','payment_type','payment_installments','payment_value',\n",
        "#  'price','freight_value','product_category_name_english','product_name_lenght','product_description_lenght',\n",
        "# 'product_photos_qty','review_score'"
      ]
    },
    {
      "cell_type": "code",
      "execution_count": 152,
      "id": "28466184",
      "metadata": {
        "id": "28466184",
        "outputId": "ffbaa3ef-cbf5-4981-bfae-b2ea380a4a03",
        "colab": {
          "base_uri": "https://localhost:8080/",
          "height": 0
        }
      },
      "outputs": [
        {
          "output_type": "execute_result",
          "data": {
            "text/plain": [
              "  order_status order_purchase_timestamp order_delivered_customer_date  \\\n",
              "0    delivered      2017-10-02 10:56:33           2017-10-10 21:25:13   \n",
              "1    delivered      2017-10-02 10:56:33           2017-10-10 21:25:13   \n",
              "2    delivered      2017-10-02 10:56:33           2017-10-10 21:25:13   \n",
              "3    delivered      2018-07-24 20:41:37           2018-08-07 15:27:45   \n",
              "4    delivered      2018-08-08 08:38:49           2018-08-17 18:06:29   \n",
              "\n",
              "  order_estimated_delivery_date  shipping_limit_date  payment_sequential  \\\n",
              "0           2017-10-18 00:00:00  2017-10-06 11:07:15                   1   \n",
              "1           2017-10-18 00:00:00  2017-10-06 11:07:15                   3   \n",
              "2           2017-10-18 00:00:00  2017-10-06 11:07:15                   2   \n",
              "3           2018-08-13 00:00:00  2018-07-30 03:24:27                   1   \n",
              "4           2018-09-04 00:00:00  2018-08-13 08:55:23                   1   \n",
              "\n",
              "  payment_type  payment_installments  payment_value   price  freight_value  \\\n",
              "0  credit_card                     1          18.12   29.99           8.72   \n",
              "1      voucher                     1           2.00   29.99           8.72   \n",
              "2      voucher                     1          18.59   29.99           8.72   \n",
              "3       boleto                     1         141.46  118.70          22.76   \n",
              "4  credit_card                     3         179.12  159.90          19.22   \n",
              "\n",
              "  product_category  product_name_length  product_description_length  \\\n",
              "0       housewares                 40.0                       268.0   \n",
              "1       housewares                 40.0                       268.0   \n",
              "2       housewares                 40.0                       268.0   \n",
              "3        perfumery                 29.0                       178.0   \n",
              "4             auto                 46.0                       232.0   \n",
              "\n",
              "   product_photos_qty  review_score  \n",
              "0                 4.0             4  \n",
              "1                 4.0             4  \n",
              "2                 4.0             4  \n",
              "3                 1.0             4  \n",
              "4                 1.0             5  "
            ],
            "text/html": [
              "\n",
              "  <div id=\"df-6c240937-4c56-458f-a066-b5f6fbef8167\">\n",
              "    <div class=\"colab-df-container\">\n",
              "      <div>\n",
              "<style scoped>\n",
              "    .dataframe tbody tr th:only-of-type {\n",
              "        vertical-align: middle;\n",
              "    }\n",
              "\n",
              "    .dataframe tbody tr th {\n",
              "        vertical-align: top;\n",
              "    }\n",
              "\n",
              "    .dataframe thead th {\n",
              "        text-align: right;\n",
              "    }\n",
              "</style>\n",
              "<table border=\"1\" class=\"dataframe\">\n",
              "  <thead>\n",
              "    <tr style=\"text-align: right;\">\n",
              "      <th></th>\n",
              "      <th>order_status</th>\n",
              "      <th>order_purchase_timestamp</th>\n",
              "      <th>order_delivered_customer_date</th>\n",
              "      <th>order_estimated_delivery_date</th>\n",
              "      <th>shipping_limit_date</th>\n",
              "      <th>payment_sequential</th>\n",
              "      <th>payment_type</th>\n",
              "      <th>payment_installments</th>\n",
              "      <th>payment_value</th>\n",
              "      <th>price</th>\n",
              "      <th>freight_value</th>\n",
              "      <th>product_category</th>\n",
              "      <th>product_name_length</th>\n",
              "      <th>product_description_length</th>\n",
              "      <th>product_photos_qty</th>\n",
              "      <th>review_score</th>\n",
              "    </tr>\n",
              "  </thead>\n",
              "  <tbody>\n",
              "    <tr>\n",
              "      <th>0</th>\n",
              "      <td>delivered</td>\n",
              "      <td>2017-10-02 10:56:33</td>\n",
              "      <td>2017-10-10 21:25:13</td>\n",
              "      <td>2017-10-18 00:00:00</td>\n",
              "      <td>2017-10-06 11:07:15</td>\n",
              "      <td>1</td>\n",
              "      <td>credit_card</td>\n",
              "      <td>1</td>\n",
              "      <td>18.12</td>\n",
              "      <td>29.99</td>\n",
              "      <td>8.72</td>\n",
              "      <td>housewares</td>\n",
              "      <td>40.0</td>\n",
              "      <td>268.0</td>\n",
              "      <td>4.0</td>\n",
              "      <td>4</td>\n",
              "    </tr>\n",
              "    <tr>\n",
              "      <th>1</th>\n",
              "      <td>delivered</td>\n",
              "      <td>2017-10-02 10:56:33</td>\n",
              "      <td>2017-10-10 21:25:13</td>\n",
              "      <td>2017-10-18 00:00:00</td>\n",
              "      <td>2017-10-06 11:07:15</td>\n",
              "      <td>3</td>\n",
              "      <td>voucher</td>\n",
              "      <td>1</td>\n",
              "      <td>2.00</td>\n",
              "      <td>29.99</td>\n",
              "      <td>8.72</td>\n",
              "      <td>housewares</td>\n",
              "      <td>40.0</td>\n",
              "      <td>268.0</td>\n",
              "      <td>4.0</td>\n",
              "      <td>4</td>\n",
              "    </tr>\n",
              "    <tr>\n",
              "      <th>2</th>\n",
              "      <td>delivered</td>\n",
              "      <td>2017-10-02 10:56:33</td>\n",
              "      <td>2017-10-10 21:25:13</td>\n",
              "      <td>2017-10-18 00:00:00</td>\n",
              "      <td>2017-10-06 11:07:15</td>\n",
              "      <td>2</td>\n",
              "      <td>voucher</td>\n",
              "      <td>1</td>\n",
              "      <td>18.59</td>\n",
              "      <td>29.99</td>\n",
              "      <td>8.72</td>\n",
              "      <td>housewares</td>\n",
              "      <td>40.0</td>\n",
              "      <td>268.0</td>\n",
              "      <td>4.0</td>\n",
              "      <td>4</td>\n",
              "    </tr>\n",
              "    <tr>\n",
              "      <th>3</th>\n",
              "      <td>delivered</td>\n",
              "      <td>2018-07-24 20:41:37</td>\n",
              "      <td>2018-08-07 15:27:45</td>\n",
              "      <td>2018-08-13 00:00:00</td>\n",
              "      <td>2018-07-30 03:24:27</td>\n",
              "      <td>1</td>\n",
              "      <td>boleto</td>\n",
              "      <td>1</td>\n",
              "      <td>141.46</td>\n",
              "      <td>118.70</td>\n",
              "      <td>22.76</td>\n",
              "      <td>perfumery</td>\n",
              "      <td>29.0</td>\n",
              "      <td>178.0</td>\n",
              "      <td>1.0</td>\n",
              "      <td>4</td>\n",
              "    </tr>\n",
              "    <tr>\n",
              "      <th>4</th>\n",
              "      <td>delivered</td>\n",
              "      <td>2018-08-08 08:38:49</td>\n",
              "      <td>2018-08-17 18:06:29</td>\n",
              "      <td>2018-09-04 00:00:00</td>\n",
              "      <td>2018-08-13 08:55:23</td>\n",
              "      <td>1</td>\n",
              "      <td>credit_card</td>\n",
              "      <td>3</td>\n",
              "      <td>179.12</td>\n",
              "      <td>159.90</td>\n",
              "      <td>19.22</td>\n",
              "      <td>auto</td>\n",
              "      <td>46.0</td>\n",
              "      <td>232.0</td>\n",
              "      <td>1.0</td>\n",
              "      <td>5</td>\n",
              "    </tr>\n",
              "  </tbody>\n",
              "</table>\n",
              "</div>\n",
              "      <button class=\"colab-df-convert\" onclick=\"convertToInteractive('df-6c240937-4c56-458f-a066-b5f6fbef8167')\"\n",
              "              title=\"Convert this dataframe to an interactive table.\"\n",
              "              style=\"display:none;\">\n",
              "        \n",
              "  <svg xmlns=\"http://www.w3.org/2000/svg\" height=\"24px\"viewBox=\"0 0 24 24\"\n",
              "       width=\"24px\">\n",
              "    <path d=\"M0 0h24v24H0V0z\" fill=\"none\"/>\n",
              "    <path d=\"M18.56 5.44l.94 2.06.94-2.06 2.06-.94-2.06-.94-.94-2.06-.94 2.06-2.06.94zm-11 1L8.5 8.5l.94-2.06 2.06-.94-2.06-.94L8.5 2.5l-.94 2.06-2.06.94zm10 10l.94 2.06.94-2.06 2.06-.94-2.06-.94-.94-2.06-.94 2.06-2.06.94z\"/><path d=\"M17.41 7.96l-1.37-1.37c-.4-.4-.92-.59-1.43-.59-.52 0-1.04.2-1.43.59L10.3 9.45l-7.72 7.72c-.78.78-.78 2.05 0 2.83L4 21.41c.39.39.9.59 1.41.59.51 0 1.02-.2 1.41-.59l7.78-7.78 2.81-2.81c.8-.78.8-2.07 0-2.86zM5.41 20L4 18.59l7.72-7.72 1.47 1.35L5.41 20z\"/>\n",
              "  </svg>\n",
              "      </button>\n",
              "      \n",
              "  <style>\n",
              "    .colab-df-container {\n",
              "      display:flex;\n",
              "      flex-wrap:wrap;\n",
              "      gap: 12px;\n",
              "    }\n",
              "\n",
              "    .colab-df-convert {\n",
              "      background-color: #E8F0FE;\n",
              "      border: none;\n",
              "      border-radius: 50%;\n",
              "      cursor: pointer;\n",
              "      display: none;\n",
              "      fill: #1967D2;\n",
              "      height: 32px;\n",
              "      padding: 0 0 0 0;\n",
              "      width: 32px;\n",
              "    }\n",
              "\n",
              "    .colab-df-convert:hover {\n",
              "      background-color: #E2EBFA;\n",
              "      box-shadow: 0px 1px 2px rgba(60, 64, 67, 0.3), 0px 1px 3px 1px rgba(60, 64, 67, 0.15);\n",
              "      fill: #174EA6;\n",
              "    }\n",
              "\n",
              "    [theme=dark] .colab-df-convert {\n",
              "      background-color: #3B4455;\n",
              "      fill: #D2E3FC;\n",
              "    }\n",
              "\n",
              "    [theme=dark] .colab-df-convert:hover {\n",
              "      background-color: #434B5C;\n",
              "      box-shadow: 0px 1px 3px 1px rgba(0, 0, 0, 0.15);\n",
              "      filter: drop-shadow(0px 1px 2px rgba(0, 0, 0, 0.3));\n",
              "      fill: #FFFFFF;\n",
              "    }\n",
              "  </style>\n",
              "\n",
              "      <script>\n",
              "        const buttonEl =\n",
              "          document.querySelector('#df-6c240937-4c56-458f-a066-b5f6fbef8167 button.colab-df-convert');\n",
              "        buttonEl.style.display =\n",
              "          google.colab.kernel.accessAllowed ? 'block' : 'none';\n",
              "\n",
              "        async function convertToInteractive(key) {\n",
              "          const element = document.querySelector('#df-6c240937-4c56-458f-a066-b5f6fbef8167');\n",
              "          const dataTable =\n",
              "            await google.colab.kernel.invokeFunction('convertToInteractive',\n",
              "                                                     [key], {});\n",
              "          if (!dataTable) return;\n",
              "\n",
              "          const docLinkHtml = 'Like what you see? Visit the ' +\n",
              "            '<a target=\"_blank\" href=https://colab.research.google.com/notebooks/data_table.ipynb>data table notebook</a>'\n",
              "            + ' to learn more about interactive tables.';\n",
              "          element.innerHTML = '';\n",
              "          dataTable['output_type'] = 'display_data';\n",
              "          await google.colab.output.renderOutput(dataTable, element);\n",
              "          const docLink = document.createElement('div');\n",
              "          docLink.innerHTML = docLinkHtml;\n",
              "          element.appendChild(docLink);\n",
              "        }\n",
              "      </script>\n",
              "    </div>\n",
              "  </div>\n",
              "  "
            ]
          },
          "metadata": {},
          "execution_count": 152
        }
      ],
      "source": [
        "# Selecionar apenas as colunas importantes\n",
        "df_ecommerce = df_ecommerce[['order_status','order_purchase_timestamp','order_delivered_customer_date','order_estimated_delivery_date',\n",
        "                              'shipping_limit_date','payment_sequential','payment_type','payment_installments','payment_value',\n",
        "                              'price','freight_value','product_category_name_english','product_name_lenght','product_description_lenght',\n",
        "                              'product_photos_qty','review_score']]\n",
        "\n",
        "#Fixing typos and column names\n",
        "df_ecommerce = df_ecommerce.rename(columns={'product_name_lenght': 'product_name_length', 'product_description_lenght': 'product_description_length',\n",
        "                                            'product_category_name_english': 'product_category'})\n",
        "\n",
        "df_ecommerce.head()"
      ]
    },
    {
      "cell_type": "code",
      "execution_count": 153,
      "id": "dc06cb51",
      "metadata": {
        "id": "dc06cb51",
        "outputId": "55a04970-0eaa-4026-8125-d37779ffa967",
        "colab": {
          "base_uri": "https://localhost:8080/"
        }
      },
      "outputs": [
        {
          "output_type": "execute_result",
          "data": {
            "text/plain": [
              "(115609, 16)"
            ]
          },
          "metadata": {},
          "execution_count": 153
        }
      ],
      "source": [
        "df_ecommerce.shape"
      ]
    },
    {
      "cell_type": "markdown",
      "id": "ee073495",
      "metadata": {
        "id": "ee073495"
      },
      "source": [
        "# Limpeza dos dados e pré processamento"
      ]
    },
    {
      "cell_type": "markdown",
      "source": [
        "Agora precisamos ver se temos valores faltantes na nossa tabela. Além disso, verificar se as informações fazem sentido e estão na forma correta - exemplo: será que vale a pena inserir uma coluna com data e hora na nossa análise? "
      ],
      "metadata": {
        "id": "pPqyR4e8qreS"
      },
      "id": "pPqyR4e8qreS"
    },
    {
      "cell_type": "markdown",
      "id": "c4906ff0",
      "metadata": {
        "id": "c4906ff0"
      },
      "source": [
        "## Remover valores nulos (NaN)"
      ]
    },
    {
      "cell_type": "code",
      "execution_count": 154,
      "id": "c54d97be",
      "metadata": {
        "id": "c54d97be",
        "outputId": "08e314f9-6559-4820-a90a-cb86f4683f05",
        "colab": {
          "base_uri": "https://localhost:8080/"
        }
      },
      "outputs": [
        {
          "output_type": "execute_result",
          "data": {
            "text/plain": [
              "order_status                        0\n",
              "order_purchase_timestamp            0\n",
              "order_delivered_customer_date    2400\n",
              "order_estimated_delivery_date       0\n",
              "shipping_limit_date                 0\n",
              "payment_sequential                  0\n",
              "payment_type                        0\n",
              "payment_installments                0\n",
              "payment_value                       0\n",
              "price                               0\n",
              "freight_value                       0\n",
              "product_category                    0\n",
              "product_name_length                 0\n",
              "product_description_length          0\n",
              "product_photos_qty                  0\n",
              "review_score                        0\n",
              "dtype: int64"
            ]
          },
          "metadata": {},
          "execution_count": 154
        }
      ],
      "source": [
        "df_ecommerce.isnull().sum()"
      ]
    },
    {
      "cell_type": "code",
      "execution_count": 155,
      "id": "9f7418db",
      "metadata": {
        "id": "9f7418db",
        "outputId": "0fa026d9-f2f6-42cc-f711-20806552a8bc",
        "colab": {
          "base_uri": "https://localhost:8080/"
        }
      },
      "outputs": [
        {
          "output_type": "execute_result",
          "data": {
            "text/plain": [
              "(113209, 16)"
            ]
          },
          "metadata": {},
          "execution_count": 155
        }
      ],
      "source": [
        "df_ecommerce.dropna(how='any',inplace=True)\n",
        "df_ecommerce.shape"
      ]
    },
    {
      "cell_type": "markdown",
      "id": "97c1ca85",
      "metadata": {
        "id": "97c1ca85"
      },
      "source": [
        "## Converter em formato de data"
      ]
    },
    {
      "cell_type": "code",
      "execution_count": 156,
      "id": "c61631ad",
      "metadata": {
        "id": "c61631ad",
        "outputId": "3e1ae16b-78b6-401f-ac1a-1d373b3a271d",
        "colab": {
          "base_uri": "https://localhost:8080/"
        }
      },
      "outputs": [
        {
          "output_type": "execute_result",
          "data": {
            "text/plain": [
              "0         2017-10-02 10:56:33\n",
              "1         2017-10-02 10:56:33\n",
              "2         2017-10-02 10:56:33\n",
              "3         2018-07-24 20:41:37\n",
              "4         2018-08-08 08:38:49\n",
              "                 ...         \n",
              "115604    2018-02-06 12:58:58\n",
              "115605    2017-08-27 14:46:43\n",
              "115606    2018-01-08 21:28:27\n",
              "115607    2018-01-08 21:28:27\n",
              "115608    2018-03-08 20:57:30\n",
              "Name: order_purchase_timestamp, Length: 113209, dtype: object"
            ]
          },
          "metadata": {},
          "execution_count": 156
        }
      ],
      "source": [
        "df_ecommerce['order_purchase_timestamp']"
      ]
    },
    {
      "cell_type": "markdown",
      "id": "66de18fd",
      "metadata": {
        "id": "66de18fd"
      },
      "source": [
        "Não precisamos do horário, apenas da data."
      ]
    },
    {
      "cell_type": "code",
      "execution_count": 157,
      "id": "c209e632",
      "metadata": {
        "id": "c209e632"
      },
      "outputs": [],
      "source": [
        "cols = ['order_purchase_timestamp', 'order_estimated_delivery_date', 'order_delivered_customer_date', 'shipping_limit_date']\n",
        "for col in cols:\n",
        "    df_ecommerce[col] = pd.to_datetime(df_ecommerce[col]).dt.date"
      ]
    },
    {
      "cell_type": "code",
      "execution_count": 158,
      "id": "13364b7c",
      "metadata": {
        "id": "13364b7c"
      },
      "outputs": [],
      "source": [
        "df_ecommerce['order_purchase_timestamp'] = pd.to_datetime(df_ecommerce['order_purchase_timestamp']).dt.date\n",
        "df_ecommerce['order_estimated_delivery_date'] = pd.to_datetime(df_ecommerce['order_estimated_delivery_date']).dt.date\n",
        "df_ecommerce['order_delivered_customer_date'] = pd.to_datetime(df_ecommerce['order_delivered_customer_date']).dt.date\n",
        "df_ecommerce['shipping_limit_date'] = pd.to_datetime(df_ecommerce['shipping_limit_date']).dt.date"
      ]
    },
    {
      "cell_type": "code",
      "execution_count": 159,
      "id": "0ff16dcd",
      "metadata": {
        "id": "0ff16dcd",
        "outputId": "82a1e7db-387c-4103-d666-899bd71128fd",
        "colab": {
          "base_uri": "https://localhost:8080/"
        }
      },
      "outputs": [
        {
          "output_type": "execute_result",
          "data": {
            "text/plain": [
              "0         2017-10-06\n",
              "1         2017-10-06\n",
              "2         2017-10-06\n",
              "3         2018-07-30\n",
              "4         2018-08-13\n",
              "             ...    \n",
              "115604    2018-02-12\n",
              "115605    2017-09-05\n",
              "115606    2018-01-12\n",
              "115607    2018-01-12\n",
              "115608    2018-03-15\n",
              "Name: shipping_limit_date, Length: 113209, dtype: object"
            ]
          },
          "metadata": {},
          "execution_count": 159
        }
      ],
      "source": [
        "df_ecommerce['shipping_limit_date']"
      ]
    },
    {
      "cell_type": "markdown",
      "id": "2b288cac",
      "metadata": {
        "id": "2b288cac"
      },
      "source": [
        "Será que faz sentido termos a data de entrega? Não é melhor criarmos colunas com quantos dias demorou para a entrega, quantos dias estimados para entrega, etc?"
      ]
    },
    {
      "cell_type": "code",
      "execution_count": 160,
      "id": "8dc8e107",
      "metadata": {
        "id": "8dc8e107"
      },
      "outputs": [],
      "source": [
        "df_ecommerce['delivery_days'] = df_ecommerce['order_delivered_customer_date'] - df_ecommerce['order_purchase_timestamp']\n",
        "df_ecommerce['estimated_days'] = df_ecommerce['order_estimated_delivery_date'] - df_ecommerce['order_purchase_timestamp']\n",
        "df_ecommerce['shipping_days'] = df_ecommerce['shipping_limit_date'] - df_ecommerce['order_purchase_timestamp']"
      ]
    },
    {
      "cell_type": "code",
      "execution_count": 161,
      "id": "f9cbda52",
      "metadata": {
        "id": "f9cbda52",
        "outputId": "a1fbd446-4f01-4cbc-c1a7-343ae92b4032",
        "colab": {
          "base_uri": "https://localhost:8080/"
        }
      },
      "outputs": [
        {
          "output_type": "execute_result",
          "data": {
            "text/plain": [
              "0        4 days\n",
              "1        4 days\n",
              "2        4 days\n",
              "3        6 days\n",
              "4        5 days\n",
              "          ...  \n",
              "115604   6 days\n",
              "115605   9 days\n",
              "115606   4 days\n",
              "115607   4 days\n",
              "115608   7 days\n",
              "Name: shipping_days, Length: 113209, dtype: timedelta64[ns]"
            ]
          },
          "metadata": {},
          "execution_count": 161
        }
      ],
      "source": [
        "df_ecommerce['shipping_days']"
      ]
    },
    {
      "cell_type": "markdown",
      "id": "cd99fc37",
      "metadata": {
        "id": "cd99fc37"
      },
      "source": [
        "OK. Conseguimos o que tínhamos em mente. Porém,o resultado é uma string, ou seja, um texto (1 days, 2 days). Precisamos que seja um valor inteiro (1, 2,)  para que nosso algoritmo entenda melhor a nossa análise. Por isso. transformaremos o timedelta em um valor inteiro."
      ]
    },
    {
      "cell_type": "code",
      "execution_count": 162,
      "id": "486aab8d",
      "metadata": {
        "id": "486aab8d"
      },
      "outputs": [],
      "source": [
        "cols = ['delivery_days', 'estimated_days', 'shipping_days']\n",
        "for col in cols:\n",
        "    df_ecommerce[col] = df_ecommerce[col].apply(lambda x: x.days)"
      ]
    },
    {
      "cell_type": "code",
      "execution_count": 163,
      "id": "bd792835",
      "metadata": {
        "id": "bd792835",
        "outputId": "4959951e-72e5-44d1-9124-c0386c1e0a70",
        "colab": {
          "base_uri": "https://localhost:8080/"
        }
      },
      "outputs": [
        {
          "output_type": "execute_result",
          "data": {
            "text/plain": [
              "0          8\n",
              "1          8\n",
              "2          8\n",
              "3         14\n",
              "4          9\n",
              "          ..\n",
              "115604    22\n",
              "115605    25\n",
              "115606    17\n",
              "115607    17\n",
              "115608     8\n",
              "Name: delivery_days, Length: 113209, dtype: int64"
            ]
          },
          "metadata": {},
          "execution_count": 163
        }
      ],
      "source": [
        "df_ecommerce['delivery_days']"
      ]
    },
    {
      "cell_type": "markdown",
      "id": "d9355d68",
      "metadata": {
        "id": "d9355d68"
      },
      "source": [
        "## Removeremos as colunas que não utilizaremos"
      ]
    },
    {
      "cell_type": "markdown",
      "source": [
        "Vamos remover as colunas com as datas, uma vez que já extraímos as informações que gostaríamos e elas não serão mais necessárias para a nossa análise."
      ],
      "metadata": {
        "id": "fFuXDYyXr3Cf"
      },
      "id": "fFuXDYyXr3Cf"
    },
    {
      "cell_type": "code",
      "execution_count": 164,
      "id": "168de7ec",
      "metadata": {
        "id": "168de7ec"
      },
      "outputs": [],
      "source": [
        "df_ecommerce.drop(['order_purchase_timestamp', 'order_delivered_customer_date', 'order_estimated_delivery_date',\n",
        "                   'shipping_limit_date'],axis=1,inplace=True)"
      ]
    },
    {
      "cell_type": "code",
      "execution_count": 165,
      "id": "64f52053",
      "metadata": {
        "id": "64f52053",
        "outputId": "d79421bd-e2c3-4f48-be68-3ff756254f45",
        "colab": {
          "base_uri": "https://localhost:8080/",
          "height": 0
        }
      },
      "outputs": [
        {
          "output_type": "execute_result",
          "data": {
            "text/plain": [
              "  order_status  payment_sequential payment_type  payment_installments  \\\n",
              "0    delivered                   1  credit_card                     1   \n",
              "1    delivered                   3      voucher                     1   \n",
              "2    delivered                   2      voucher                     1   \n",
              "3    delivered                   1       boleto                     1   \n",
              "4    delivered                   1  credit_card                     3   \n",
              "\n",
              "   payment_value   price  freight_value product_category  product_name_length  \\\n",
              "0          18.12   29.99           8.72       housewares                 40.0   \n",
              "1           2.00   29.99           8.72       housewares                 40.0   \n",
              "2          18.59   29.99           8.72       housewares                 40.0   \n",
              "3         141.46  118.70          22.76        perfumery                 29.0   \n",
              "4         179.12  159.90          19.22             auto                 46.0   \n",
              "\n",
              "   product_description_length  product_photos_qty  review_score  \\\n",
              "0                       268.0                 4.0             4   \n",
              "1                       268.0                 4.0             4   \n",
              "2                       268.0                 4.0             4   \n",
              "3                       178.0                 1.0             4   \n",
              "4                       232.0                 1.0             5   \n",
              "\n",
              "   delivery_days  estimated_days  shipping_days  \n",
              "0              8              16              4  \n",
              "1              8              16              4  \n",
              "2              8              16              4  \n",
              "3             14              20              6  \n",
              "4              9              27              5  "
            ],
            "text/html": [
              "\n",
              "  <div id=\"df-46b952dc-2ab9-481f-bf6e-d0ec839529a7\">\n",
              "    <div class=\"colab-df-container\">\n",
              "      <div>\n",
              "<style scoped>\n",
              "    .dataframe tbody tr th:only-of-type {\n",
              "        vertical-align: middle;\n",
              "    }\n",
              "\n",
              "    .dataframe tbody tr th {\n",
              "        vertical-align: top;\n",
              "    }\n",
              "\n",
              "    .dataframe thead th {\n",
              "        text-align: right;\n",
              "    }\n",
              "</style>\n",
              "<table border=\"1\" class=\"dataframe\">\n",
              "  <thead>\n",
              "    <tr style=\"text-align: right;\">\n",
              "      <th></th>\n",
              "      <th>order_status</th>\n",
              "      <th>payment_sequential</th>\n",
              "      <th>payment_type</th>\n",
              "      <th>payment_installments</th>\n",
              "      <th>payment_value</th>\n",
              "      <th>price</th>\n",
              "      <th>freight_value</th>\n",
              "      <th>product_category</th>\n",
              "      <th>product_name_length</th>\n",
              "      <th>product_description_length</th>\n",
              "      <th>product_photos_qty</th>\n",
              "      <th>review_score</th>\n",
              "      <th>delivery_days</th>\n",
              "      <th>estimated_days</th>\n",
              "      <th>shipping_days</th>\n",
              "    </tr>\n",
              "  </thead>\n",
              "  <tbody>\n",
              "    <tr>\n",
              "      <th>0</th>\n",
              "      <td>delivered</td>\n",
              "      <td>1</td>\n",
              "      <td>credit_card</td>\n",
              "      <td>1</td>\n",
              "      <td>18.12</td>\n",
              "      <td>29.99</td>\n",
              "      <td>8.72</td>\n",
              "      <td>housewares</td>\n",
              "      <td>40.0</td>\n",
              "      <td>268.0</td>\n",
              "      <td>4.0</td>\n",
              "      <td>4</td>\n",
              "      <td>8</td>\n",
              "      <td>16</td>\n",
              "      <td>4</td>\n",
              "    </tr>\n",
              "    <tr>\n",
              "      <th>1</th>\n",
              "      <td>delivered</td>\n",
              "      <td>3</td>\n",
              "      <td>voucher</td>\n",
              "      <td>1</td>\n",
              "      <td>2.00</td>\n",
              "      <td>29.99</td>\n",
              "      <td>8.72</td>\n",
              "      <td>housewares</td>\n",
              "      <td>40.0</td>\n",
              "      <td>268.0</td>\n",
              "      <td>4.0</td>\n",
              "      <td>4</td>\n",
              "      <td>8</td>\n",
              "      <td>16</td>\n",
              "      <td>4</td>\n",
              "    </tr>\n",
              "    <tr>\n",
              "      <th>2</th>\n",
              "      <td>delivered</td>\n",
              "      <td>2</td>\n",
              "      <td>voucher</td>\n",
              "      <td>1</td>\n",
              "      <td>18.59</td>\n",
              "      <td>29.99</td>\n",
              "      <td>8.72</td>\n",
              "      <td>housewares</td>\n",
              "      <td>40.0</td>\n",
              "      <td>268.0</td>\n",
              "      <td>4.0</td>\n",
              "      <td>4</td>\n",
              "      <td>8</td>\n",
              "      <td>16</td>\n",
              "      <td>4</td>\n",
              "    </tr>\n",
              "    <tr>\n",
              "      <th>3</th>\n",
              "      <td>delivered</td>\n",
              "      <td>1</td>\n",
              "      <td>boleto</td>\n",
              "      <td>1</td>\n",
              "      <td>141.46</td>\n",
              "      <td>118.70</td>\n",
              "      <td>22.76</td>\n",
              "      <td>perfumery</td>\n",
              "      <td>29.0</td>\n",
              "      <td>178.0</td>\n",
              "      <td>1.0</td>\n",
              "      <td>4</td>\n",
              "      <td>14</td>\n",
              "      <td>20</td>\n",
              "      <td>6</td>\n",
              "    </tr>\n",
              "    <tr>\n",
              "      <th>4</th>\n",
              "      <td>delivered</td>\n",
              "      <td>1</td>\n",
              "      <td>credit_card</td>\n",
              "      <td>3</td>\n",
              "      <td>179.12</td>\n",
              "      <td>159.90</td>\n",
              "      <td>19.22</td>\n",
              "      <td>auto</td>\n",
              "      <td>46.0</td>\n",
              "      <td>232.0</td>\n",
              "      <td>1.0</td>\n",
              "      <td>5</td>\n",
              "      <td>9</td>\n",
              "      <td>27</td>\n",
              "      <td>5</td>\n",
              "    </tr>\n",
              "  </tbody>\n",
              "</table>\n",
              "</div>\n",
              "      <button class=\"colab-df-convert\" onclick=\"convertToInteractive('df-46b952dc-2ab9-481f-bf6e-d0ec839529a7')\"\n",
              "              title=\"Convert this dataframe to an interactive table.\"\n",
              "              style=\"display:none;\">\n",
              "        \n",
              "  <svg xmlns=\"http://www.w3.org/2000/svg\" height=\"24px\"viewBox=\"0 0 24 24\"\n",
              "       width=\"24px\">\n",
              "    <path d=\"M0 0h24v24H0V0z\" fill=\"none\"/>\n",
              "    <path d=\"M18.56 5.44l.94 2.06.94-2.06 2.06-.94-2.06-.94-.94-2.06-.94 2.06-2.06.94zm-11 1L8.5 8.5l.94-2.06 2.06-.94-2.06-.94L8.5 2.5l-.94 2.06-2.06.94zm10 10l.94 2.06.94-2.06 2.06-.94-2.06-.94-.94-2.06-.94 2.06-2.06.94z\"/><path d=\"M17.41 7.96l-1.37-1.37c-.4-.4-.92-.59-1.43-.59-.52 0-1.04.2-1.43.59L10.3 9.45l-7.72 7.72c-.78.78-.78 2.05 0 2.83L4 21.41c.39.39.9.59 1.41.59.51 0 1.02-.2 1.41-.59l7.78-7.78 2.81-2.81c.8-.78.8-2.07 0-2.86zM5.41 20L4 18.59l7.72-7.72 1.47 1.35L5.41 20z\"/>\n",
              "  </svg>\n",
              "      </button>\n",
              "      \n",
              "  <style>\n",
              "    .colab-df-container {\n",
              "      display:flex;\n",
              "      flex-wrap:wrap;\n",
              "      gap: 12px;\n",
              "    }\n",
              "\n",
              "    .colab-df-convert {\n",
              "      background-color: #E8F0FE;\n",
              "      border: none;\n",
              "      border-radius: 50%;\n",
              "      cursor: pointer;\n",
              "      display: none;\n",
              "      fill: #1967D2;\n",
              "      height: 32px;\n",
              "      padding: 0 0 0 0;\n",
              "      width: 32px;\n",
              "    }\n",
              "\n",
              "    .colab-df-convert:hover {\n",
              "      background-color: #E2EBFA;\n",
              "      box-shadow: 0px 1px 2px rgba(60, 64, 67, 0.3), 0px 1px 3px 1px rgba(60, 64, 67, 0.15);\n",
              "      fill: #174EA6;\n",
              "    }\n",
              "\n",
              "    [theme=dark] .colab-df-convert {\n",
              "      background-color: #3B4455;\n",
              "      fill: #D2E3FC;\n",
              "    }\n",
              "\n",
              "    [theme=dark] .colab-df-convert:hover {\n",
              "      background-color: #434B5C;\n",
              "      box-shadow: 0px 1px 3px 1px rgba(0, 0, 0, 0.15);\n",
              "      filter: drop-shadow(0px 1px 2px rgba(0, 0, 0, 0.3));\n",
              "      fill: #FFFFFF;\n",
              "    }\n",
              "  </style>\n",
              "\n",
              "      <script>\n",
              "        const buttonEl =\n",
              "          document.querySelector('#df-46b952dc-2ab9-481f-bf6e-d0ec839529a7 button.colab-df-convert');\n",
              "        buttonEl.style.display =\n",
              "          google.colab.kernel.accessAllowed ? 'block' : 'none';\n",
              "\n",
              "        async function convertToInteractive(key) {\n",
              "          const element = document.querySelector('#df-46b952dc-2ab9-481f-bf6e-d0ec839529a7');\n",
              "          const dataTable =\n",
              "            await google.colab.kernel.invokeFunction('convertToInteractive',\n",
              "                                                     [key], {});\n",
              "          if (!dataTable) return;\n",
              "\n",
              "          const docLinkHtml = 'Like what you see? Visit the ' +\n",
              "            '<a target=\"_blank\" href=https://colab.research.google.com/notebooks/data_table.ipynb>data table notebook</a>'\n",
              "            + ' to learn more about interactive tables.';\n",
              "          element.innerHTML = '';\n",
              "          dataTable['output_type'] = 'display_data';\n",
              "          await google.colab.output.renderOutput(dataTable, element);\n",
              "          const docLink = document.createElement('div');\n",
              "          docLink.innerHTML = docLinkHtml;\n",
              "          element.appendChild(docLink);\n",
              "        }\n",
              "      </script>\n",
              "    </div>\n",
              "  </div>\n",
              "  "
            ]
          },
          "metadata": {},
          "execution_count": 165
        }
      ],
      "source": [
        "df_ecommerce.head()"
      ]
    },
    {
      "cell_type": "markdown",
      "id": "3282da36",
      "metadata": {
        "id": "3282da36"
      },
      "source": [
        "## Visualização rápida dos dados"
      ]
    },
    {
      "cell_type": "markdown",
      "source": [
        "Vamos visualizar rapidamente como ficaram os dados da nossa tabela? "
      ],
      "metadata": {
        "id": "U997ske8sGzG"
      },
      "id": "U997ske8sGzG"
    },
    {
      "cell_type": "code",
      "execution_count": 166,
      "id": "d04fb6ac",
      "metadata": {
        "id": "d04fb6ac",
        "outputId": "8b330126-d277-4bb3-c0a2-f9420fda3d9f",
        "colab": {
          "base_uri": "https://localhost:8080/",
          "height": 298
        }
      },
      "outputs": [
        {
          "output_type": "execute_result",
          "data": {
            "text/plain": [
              "<matplotlib.axes._subplots.AxesSubplot at 0x7fd3547a3150>"
            ]
          },
          "metadata": {},
          "execution_count": 166
        },
        {
          "output_type": "display_data",
          "data": {
            "text/plain": [
              "<Figure size 432x288 with 1 Axes>"
            ],
            "image/png": "[encoded data removed]"
          },
          "metadata": {
            "needs_background": "light"
          }
        }
      ],
      "source": [
        "sns.histplot(x='review_score', data=df_ecommerce)"
      ]
    },
    {
      "cell_type": "code",
      "execution_count": 167,
      "id": "a29d7532",
      "metadata": {
        "id": "a29d7532",
        "outputId": "076964a6-9781-44a8-8440-0bb1db5a9b44",
        "colab": {
          "base_uri": "https://localhost:8080/",
          "height": 298
        }
      },
      "outputs": [
        {
          "output_type": "execute_result",
          "data": {
            "text/plain": [
              "<matplotlib.axes._subplots.AxesSubplot at 0x7fd352ce42d0>"
            ]
          },
          "metadata": {},
          "execution_count": 167
        },
        {
          "output_type": "display_data",
          "data": {
            "text/plain": [
              "<Figure size 432x288 with 1 Axes>"
            ],
            "image/png": "[encoded data removed]"
          },
          "metadata": {
            "needs_background": "light"
          }
        }
      ],
      "source": [
        "sns.histplot(x='estimated_days', data=df_ecommerce)"
      ]
    },
    {
      "cell_type": "code",
      "execution_count": 168,
      "id": "950b6e94",
      "metadata": {
        "id": "950b6e94",
        "outputId": "fbec67d1-8c53-43a7-96c8-1fe8cdb5bbbc",
        "colab": {
          "base_uri": "https://localhost:8080/",
          "height": 298
        }
      },
      "outputs": [
        {
          "output_type": "execute_result",
          "data": {
            "text/plain": [
              "(0.0, 2000.0)"
            ]
          },
          "metadata": {},
          "execution_count": 168
        },
        {
          "output_type": "display_data",
          "data": {
            "text/plain": [
              "<Figure size 432x288 with 1 Axes>"
            ],
            "image/png": "[encoded data removed]"
          },
          "metadata": {
            "needs_background": "light"
          }
        }
      ],
      "source": [
        "sns.histplot(x='payment_value', data=df_ecommerce)\n",
        "plt.xlim([0,2000])"
      ]
    },
    {
      "cell_type": "code",
      "source": [
        "sns.histplot( x='payment_type', data=df_ecommerce)\n",
        "#plt.xlim([0,2000])"
      ],
      "metadata": {
        "colab": {
          "base_uri": "https://localhost:8080/",
          "height": 299
        },
        "id": "1eGypnQRslRj",
        "outputId": "e04eb5dc-adbf-4b5b-dfc7-e5f71ab67559"
      },
      "id": "1eGypnQRslRj",
      "execution_count": 169,
      "outputs": [
        {
          "output_type": "execute_result",
          "data": {
            "text/plain": [
              "<matplotlib.axes._subplots.AxesSubplot at 0x7fd34b419190>"
            ]
          },
          "metadata": {},
          "execution_count": 169
        },
        {
          "output_type": "display_data",
          "data": {
            "text/plain": [
              "<Figure size 432x288 with 1 Axes>"
            ],
            "image/png": "[encoded data removed]"
          },
          "metadata": {
            "needs_background": "light"
          }
        }
      ]
    },
    {
      "cell_type": "markdown",
      "source": [
        "# Exploratory Data Analysis"
      ],
      "metadata": {
        "id": "i4hspU3tb_xU"
      },
      "id": "i4hspU3tb_xU"
    },
    {
      "cell_type": "markdown",
      "source": [
        "Vamos iniciar a exploração dos dados para que consigamos entender melhor sobre os negócios e tirar alguns insights."
      ],
      "metadata": {
        "id": "F9k1MWa8VdnX"
      },
      "id": "F9k1MWa8VdnX"
    },
    {
      "cell_type": "markdown",
      "source": [
        "## Os 10 produtos mais comprados pelos clientes"
      ],
      "metadata": {
        "id": "fDkHxq08cSPt"
      },
      "id": "fDkHxq08cSPt"
    },
    {
      "cell_type": "code",
      "source": [
        "fig_size = (18,8)\n",
        "font_size = 16\n",
        "title_font_size = 20"
      ],
      "metadata": {
        "id": "X61TFSKghTXM"
      },
      "id": "X61TFSKghTXM",
      "execution_count": 170,
      "outputs": []
    },
    {
      "cell_type": "code",
      "source": [
        "# definição do gráfico de barras\n",
        "fig = plt.figure(figsize = fig_size)\n",
        "\n",
        "sns.barplot(x = df_ecommerce.product_category.value_counts().index[:10], \n",
        "            y = df_ecommerce.product_category.value_counts()[:10])\n",
        "\n",
        "# definição dos nomes dos eixos e título\n",
        "plt.xlabel('Categoria do produto', fontsize = font_size)\n",
        "plt.ylabel('Quantidade do pedido', fontsize = font_size)\n",
        "plt.title(\"Os 10 produtos mais comprados pelos clientes\", fontsize = title_font_size)\n",
        "\n",
        "plt.show()"
      ],
      "metadata": {
        "colab": {
          "base_uri": "https://localhost:8080/",
          "height": 524
        },
        "id": "Jqyorl-yb3bV",
        "outputId": "69771a7f-a7aa-4518-e2e3-44e3076040ec"
      },
      "id": "Jqyorl-yb3bV",
      "execution_count": 171,
      "outputs": [
        {
          "output_type": "display_data",
          "data": {
            "text/plain": [
              "<Figure size 1296x576 with 1 Axes>"
            ],
            "image/png": "[encoded data removed]"
          },
          "metadata": {
            "needs_background": "light"
          }
        }
      ]
    },
    {
      "cell_type": "markdown",
      "source": [
        "**Insights sobre o negócio**\n",
        "\n",
        "* Os principais itens comprados são das  categorias de cama mesa e banho, de saúde e beleza, esporte e lazer, móveis e decoração e acessórios de informática.\n",
        "\n",
        "* Cama, mesa e banho recebeu mais de 10 mil pedidos!"
      ],
      "metadata": {
        "id": "k1EGnZgsXYzm"
      },
      "id": "k1EGnZgsXYzm"
    },
    {
      "cell_type": "markdown",
      "source": [
        "## Valor de pagamento por cliente com base no tipo de pagamento"
      ],
      "metadata": {
        "id": "7oHREYsfe6dR"
      },
      "id": "7oHREYsfe6dR"
    },
    {
      "cell_type": "code",
      "source": [
        "def bar_plot_df(x_var, y_var, title):\n",
        "  # definição do gráfico de barras\n",
        "  fig = plt.figure(figsize = fig_size)\n",
        "  sns.barplot(x = x_var, \n",
        "              y = y_var, data=df_ecommerce)\n",
        "  \n",
        "  # definição dos nomes dos eixos e título\n",
        "  plt.xlabel(x_var, fontsize = font_size)\n",
        "  plt.ylabel(y_var, fontsize = font_size)\n",
        "  plt.title(title, fontsize = title_font_size)\n",
        "  \n",
        "  plt.show()"
      ],
      "metadata": {
        "id": "nK6TtUDYodKq"
      },
      "id": "nK6TtUDYodKq",
      "execution_count": 172,
      "outputs": []
    },
    {
      "cell_type": "code",
      "source": [
        "bar_plot_df('payment_type', 'payment_value', 'Valor de pagamento por cliente com base no tipo de pagamento')"
      ],
      "metadata": {
        "colab": {
          "base_uri": "https://localhost:8080/",
          "height": 524
        },
        "id": "x4DrmRRrczEw",
        "outputId": "cb2ce774-e871-43a8-c1bd-2c43a1f8faf1"
      },
      "id": "x4DrmRRrczEw",
      "execution_count": 173,
      "outputs": [
        {
          "output_type": "display_data",
          "data": {
            "text/plain": [
              "<Figure size 1296x576 with 1 Axes>"
            ],
            "image/png": "[encoded data removed]"
          },
          "metadata": {
            "needs_background": "light"
          }
        }
      ]
    },
    {
      "cell_type": "markdown",
      "source": [
        "**Insights sobre o negócio**\n",
        "\n",
        "\n",
        "* Os cartões de crédito têm o maior valor de pagamento, seguidos pelo boleto, cartões de débito e vouchers."
      ],
      "metadata": {
        "id": "Pzjy9edsX1jt"
      },
      "id": "Pzjy9edsX1jt"
    },
    {
      "cell_type": "markdown",
      "source": [
        "## Avaliação do cliente com base no valor da transação"
      ],
      "metadata": {
        "id": "mp10uztpfPam"
      },
      "id": "mp10uztpfPam"
    },
    {
      "cell_type": "code",
      "source": [
        "bar_plot_df('review_score', 'payment_value', 'Avaliação do cliente com base no valor da transação')"
      ],
      "metadata": {
        "colab": {
          "base_uri": "https://localhost:8080/",
          "height": 524
        },
        "id": "9L2mmsv5ecS_",
        "outputId": "a245ad2a-34a5-4f5d-e083-832ec17183ed"
      },
      "id": "9L2mmsv5ecS_",
      "execution_count": 174,
      "outputs": [
        {
          "output_type": "display_data",
          "data": {
            "text/plain": [
              "<Figure size 1296x576 with 1 Axes>"
            ],
            "image/png": "[encoded data removed]"
          },
          "metadata": {
            "needs_background": "light"
          }
        }
      ]
    },
    {
      "cell_type": "markdown",
      "source": [
        "**Insights sobre o negócio**\n",
        "\n",
        "* A avaliação aumenta um pouco à medida que o valor do pagamento diminui."
      ],
      "metadata": {
        "id": "NdgTFc8pZLiw"
      },
      "id": "NdgTFc8pZLiw"
    },
    {
      "cell_type": "markdown",
      "source": [
        "## Avaliação do cliente com base no valor de cada item"
      ],
      "metadata": {
        "id": "8mkE8037gmvj"
      },
      "id": "8mkE8037gmvj"
    },
    {
      "cell_type": "code",
      "source": [
        "bar_plot_df('review_score', 'price', 'Avaliação do cliente com base no valor de cada item')"
      ],
      "metadata": {
        "colab": {
          "base_uri": "https://localhost:8080/",
          "height": 524
        },
        "id": "Rshn8mpugx6L",
        "outputId": "b3b92a54-a89f-4101-f700-c1e1c5cbb9f8"
      },
      "id": "Rshn8mpugx6L",
      "execution_count": 175,
      "outputs": [
        {
          "output_type": "display_data",
          "data": {
            "text/plain": [
              "<Figure size 1296x576 with 1 Axes>"
            ],
            "image/png": "[encoded data removed]"
          },
          "metadata": {
            "needs_background": "light"
          }
        }
      ]
    },
    {
      "cell_type": "markdown",
      "source": [
        "**Insights sobre o negócio**\n",
        "* O valor do preço parece não ter efeito sobre a avaliação do consumidor."
      ],
      "metadata": {
        "id": "iFUMSCytZgSZ"
      },
      "id": "iFUMSCytZgSZ"
    },
    {
      "cell_type": "markdown",
      "source": [
        "## Avaliação do cliente com base no valor do frete"
      ],
      "metadata": {
        "id": "leBG8e9OgaEd"
      },
      "id": "leBG8e9OgaEd"
    },
    {
      "cell_type": "code",
      "source": [
        "bar_plot_df('review_score', 'freight_value', 'Avaliação do cliente com base no valor do frete')"
      ],
      "metadata": {
        "colab": {
          "base_uri": "https://localhost:8080/",
          "height": 524
        },
        "id": "2x5wBY4ZfYJ9",
        "outputId": "46e297ee-ee62-4052-b1a1-790c36dfb5cc"
      },
      "id": "2x5wBY4ZfYJ9",
      "execution_count": 176,
      "outputs": [
        {
          "output_type": "display_data",
          "data": {
            "text/plain": [
              "<Figure size 1296x576 with 1 Axes>"
            ],
            "image/png": "[encoded data removed]"
          },
          "metadata": {
            "needs_background": "light"
          }
        }
      ]
    },
    {
      "cell_type": "markdown",
      "source": [
        "**Insights sobre o negócio**\n",
        "\n",
        "* O cliente provavelmente dará uma melhor avaliação à medida que o valor do frete diminuir."
      ],
      "metadata": {
        "id": "kEwnOFJZZ5dB"
      },
      "id": "kEwnOFJZZ5dB"
    },
    {
      "cell_type": "markdown",
      "source": [
        "## Correlação entre o conjunto de dados"
      ],
      "metadata": {
        "id": "VWZHdGl4kPEN"
      },
      "id": "VWZHdGl4kPEN"
    },
    {
      "cell_type": "markdown",
      "source": [
        "Vamos avaliar o quanto uma variável influencia na outra. Lembre que a corraleção positiva (em vermelho, valores próximos a 1) mostra que quando uma variável aumenta seu valor, a outra também aumenta. Enquanto que a correlação negativa mostra que enquanto uma variável aumenta seu valor, a outra diminui (em vermelho, valores próximos a -1).\n",
        "\n",
        "Quando uma variável não possui correlação uma com a outra, o valor é 0, que são as cores mais fracas.\n",
        "\n",
        "Aqui temos apenas uma correlação linear! Não conseguimos pegar outros comportamentos como correlações quadráticas e exponenciais.\n",
        "\n",
        "Reparem nisso: Na diagonal temos uma correlação de 1, que é a variável contra ela mesma. O triângulo inferior é o espelho do triângulo superior."
      ],
      "metadata": {
        "id": "ztJr0TAZaHax"
      },
      "id": "ztJr0TAZaHax"
    },
    {
      "cell_type": "code",
      "source": [
        "plt.figure(figsize=(15,8))\n",
        "sns.heatmap(df_ecommerce.corr(),cmap=\"RdBu_r\",vmin=-1, vmax=1)"
      ],
      "metadata": {
        "colab": {
          "base_uri": "https://localhost:8080/",
          "height": 631
        },
        "id": "aFIXiGmbkRJd",
        "outputId": "69a34a4f-7f85-4099-c1c8-7a72208c0ddf"
      },
      "id": "aFIXiGmbkRJd",
      "execution_count": 177,
      "outputs": [
        {
          "output_type": "execute_result",
          "data": {
            "text/plain": [
              "<matplotlib.axes._subplots.AxesSubplot at 0x7fd34b5ebb90>"
            ]
          },
          "metadata": {},
          "execution_count": 177
        },
        {
          "output_type": "display_data",
          "data": {
            "text/plain": [
              "<Figure size 1080x576 with 2 Axes>"
            ],
            "image/png": "[encoded data removed]"
          },
          "metadata": {
            "needs_background": "light"
          }
        }
      ]
    },
    {
      "cell_type": "markdown",
      "source": [
        "Percebemos que:\n",
        "* os dias para a entrega (delivery_days) possuem correlação postiva com os dias estimados para entrega (estimated_days)\n",
        "* o valor do frete (freight_value) possui correlação positiva com os dias estimados (estimated_days). Faz sentido: quanto mais dias para entrega, maior o frete (mais distante)\n",
        "* dias para entrega (delivery_days) possui uma correlação negativa com a avaliação do consumidor (review_score). Faz sentido: quanto mais tempo demora para o cliente receber o pedido, pior vai ser a sua avaliação."
      ],
      "metadata": {
        "id": "Dn11KSuqasWY"
      },
      "id": "Dn11KSuqasWY"
    },
    {
      "cell_type": "markdown",
      "source": [
        "## Correlação entre o valor da transação e o preço do produto"
      ],
      "metadata": {
        "id": "IXSAuMBWogBw"
      },
      "id": "IXSAuMBWogBw"
    },
    {
      "cell_type": "code",
      "source": [
        "def scatter_plot_df(x_var, y_var, title):\n",
        "  # definição do gráfico de barras\n",
        "  fig = plt.figure(figsize = fig_size)\n",
        "\n",
        "  sns.scatterplot(x=x_var, y=y_var, hue=\"review_score\",\n",
        "                data = df_ecommerce)\n",
        "\n",
        "  # definição dos nomes dos eixos e título\n",
        "  plt.xlabel(x_var, fontsize = font_size)\n",
        "  plt.ylabel(y_var, fontsize = font_size)\n",
        "\n",
        "  plt.title(title, fontsize = title_font_size)\n",
        "\n",
        "  plt.show()"
      ],
      "metadata": {
        "id": "FCea6FaBpvog"
      },
      "id": "FCea6FaBpvog",
      "execution_count": 178,
      "outputs": []
    },
    {
      "cell_type": "code",
      "source": [
        "scatter_plot_df('payment_value', 'price', 'Correlação entre o valor da transação e o preço do produto')"
      ],
      "metadata": {
        "colab": {
          "base_uri": "https://localhost:8080/",
          "height": 524
        },
        "id": "WL9DfC1MqABO",
        "outputId": "1770a87e-21f3-408a-c97d-445c01c962ab"
      },
      "id": "WL9DfC1MqABO",
      "execution_count": 179,
      "outputs": [
        {
          "output_type": "display_data",
          "data": {
            "text/plain": [
              "<Figure size 1296x576 with 1 Axes>"
            ],
            "image/png": "[encoded data removed]"
          },
          "metadata": {
            "needs_background": "light"
          }
        }
      ]
    },
    {
      "cell_type": "markdown",
      "source": [
        "**Insights de negócio**\n",
        "\n",
        "* A maior parte da pontuação de boa avaliação de 4 e 5 ocorre quando o preço e o valor do pagamento têm o mesmo valor.\n",
        "\n",
        "\n",
        "* A maior parte da pontuação de avaliação de 5 também aconteceu quando o valor do pagamento é inferior ao preço real dos produtos.\n",
        "\n",
        "* A maior parte da pontuação de avaliação de 1 aconteceu quando o valor do pagamento é superior ao preço real dos produtos."
      ],
      "metadata": {
        "id": "XJm_v_l9beg5"
      },
      "id": "XJm_v_l9beg5"
    },
    {
      "cell_type": "markdown",
      "source": [
        "## Correlação entre a estimativa para entrega e dias para a entrega"
      ],
      "metadata": {
        "id": "7VAg87iYpNX-"
      },
      "id": "7VAg87iYpNX-"
    },
    {
      "cell_type": "code",
      "source": [
        "scatter_plot_df('delivery_days', 'estimated_days', 'Correlação entre a estimativa para entrega e dias para a entrega')"
      ],
      "metadata": {
        "colab": {
          "base_uri": "https://localhost:8080/",
          "height": 524
        },
        "id": "2q7lDV8mqQB0",
        "outputId": "85faee0b-d112-4786-a175-81f5a48dd873"
      },
      "id": "2q7lDV8mqQB0",
      "execution_count": 180,
      "outputs": [
        {
          "output_type": "display_data",
          "data": {
            "text/plain": [
              "<Figure size 1296x576 with 1 Axes>"
            ],
            "image/png": "[encoded data removed]"
          },
          "metadata": {
            "needs_background": "light"
          }
        }
      ]
    },
    {
      "cell_type": "markdown",
      "source": [
        "**Insights do negócio** \n",
        "\n",
        "* A maioria das avaliações 4 e 5 tem longos dias de estimativa de entrega, mas os dias reais de entrega do produto chegam antes ou no prazo, fazendo com que o produto chegue na mão do cliente mais rápido do que o tempo esperado.\n",
        "\n",
        "* A maioria das avaliações negativas de 1 e 2 tem estimativa de dias entrega curtos, mas os dias de entrega reais do produto são mais longos do que o tempo esperado."
      ],
      "metadata": {
        "id": "DwK18TePcopx"
      },
      "id": "DwK18TePcopx"
    },
    {
      "cell_type": "markdown",
      "source": [
        "# Feature Engineering"
      ],
      "metadata": {
        "id": "E6YmeibL1sj_"
      },
      "id": "E6YmeibL1sj_"
    },
    {
      "cell_type": "markdown",
      "source": [
        "Para tornar os dados mais precisos, o feature engineering é usada para criar novas features, como novas colunas e variáveis fictícias que fazem mais sentido para a criação do nosso modelo."
      ],
      "metadata": {
        "id": "u2EE31DvfdaJ"
      },
      "id": "u2EE31DvfdaJ"
    },
    {
      "cell_type": "markdown",
      "source": [
        "## Cria coluna se o produto chegou atrasado ou não"
      ],
      "metadata": {
        "id": "VHzvtQBL2Cc1"
      },
      "id": "VHzvtQBL2Cc1"
    },
    {
      "cell_type": "markdown",
      "source": [
        "Vamos criar uma propriedade chamada arrival_time para saber se o produto chegou atrasado ou não."
      ],
      "metadata": {
        "id": "8Qp1Vj3Qi9hZ"
      },
      "id": "8Qp1Vj3Qi9hZ"
    },
    {
      "cell_type": "code",
      "source": [
        "df_ecommerce['arrival_time'] = (df_ecommerce['estimated_days'] - df_ecommerce['delivery_days'])\n",
        "\n",
        "df_ecommerce['arrival_time'] = df_ecommerce.arrival_time.apply(lambda x: 0 if x < 0 else 1)"
      ],
      "metadata": {
        "id": "4vbx9M9X1vFL"
      },
      "id": "4vbx9M9X1vFL",
      "execution_count": 181,
      "outputs": []
    },
    {
      "cell_type": "markdown",
      "source": [
        "## Cria coluna com avaliação boa ou ruim"
      ],
      "metadata": {
        "id": "DXAsk1g52Y7i"
      },
      "id": "DXAsk1g52Y7i"
    },
    {
      "cell_type": "markdown",
      "source": [
        "Criaremos uma coluna, considerando as avaliações de 1 a 5, se a avaliação é ruim (0) ou boa (1). A avaliação 3 vai ser descartada por ser neutra."
      ],
      "metadata": {
        "id": "euGUX0vygAmV"
      },
      "id": "euGUX0vygAmV"
    },
    {
      "cell_type": "code",
      "source": [
        "df_ecommerce.drop(df_ecommerce[df_ecommerce['review_score'] == 3].index, inplace=True)\n",
        "\n",
        "df_ecommerce['review_score'] = df_ecommerce['review_score'].apply(lambda x: 0 if x < 3 else 1)"
      ],
      "metadata": {
        "id": "zupv70M32K2S"
      },
      "id": "zupv70M32K2S",
      "execution_count": 182,
      "outputs": []
    },
    {
      "cell_type": "markdown",
      "source": [
        "## Cria coluna numérica para o status do pedido"
      ],
      "metadata": {
        "id": "8ucEuz5S3fDo"
      },
      "id": "8ucEuz5S3fDo"
    },
    {
      "cell_type": "markdown",
      "source": [
        "Por que precisamos de uma coluna numérica para o pedido? Não basta elas serem strings como entregue ou cancelado? Na verdade, alguns algoritmos não entendem variáveis categóricas (strings), por isso é melhor transformarmos em números (0 ou 1)."
      ],
      "metadata": {
        "id": "NpR9RyBJgUsR"
      },
      "id": "NpR9RyBJgUsR"
    },
    {
      "cell_type": "code",
      "source": [
        "df_ecommerce['order_status'] = df_ecommerce['order_status'].replace(['canceled','delivered'],[0,1])"
      ],
      "metadata": {
        "id": "77pbjcKW3fxK"
      },
      "id": "77pbjcKW3fxK",
      "execution_count": 183,
      "outputs": []
    },
    {
      "cell_type": "markdown",
      "source": [
        "## Cria variável numérica para o tipo de pagamento"
      ],
      "metadata": {
        "id": "IMvtugyA4BEF"
      },
      "id": "IMvtugyA4BEF"
    },
    {
      "cell_type": "markdown",
      "source": [
        "Nós temos mais de um tipo de pagamento: pode ser boleto, cartão de crédito, voucher, etc. Podemos criar 0, 1, 2? Na verdade, não. Isso seria uma regressão! O algoritmo entenderia que, por exemplo, o cartão de crédito (1) está mais próximo do boleto (0) do que o voucher (2), e isso não faz sentido nenhum. Melho usar as variáveis dummies nesse caso."
      ],
      "metadata": {
        "id": "DCiA3qUBgmOT"
      },
      "id": "DCiA3qUBgmOT"
    },
    {
      "cell_type": "code",
      "source": [
        "payment_type_dummies = pd.get_dummies(df_ecommerce['payment_type'])\n",
        "df_ecommerce = df_ecommerce.join(payment_type_dummies)"
      ],
      "metadata": {
        "id": "De8gIufO4DQi"
      },
      "id": "De8gIufO4DQi",
      "execution_count": 184,
      "outputs": []
    },
    {
      "cell_type": "markdown",
      "source": [
        "## Remove colunas desnecessárias para o modelo de predição"
      ],
      "metadata": {
        "id": "O52aHYZI4rTM"
      },
      "id": "O52aHYZI4rTM"
    },
    {
      "cell_type": "code",
      "source": [
        "df_ecommerce.drop(['payment_type','product_category'],axis=1,inplace=True)\n",
        "\n",
        "df_ecommerce.head()"
      ],
      "metadata": {
        "colab": {
          "base_uri": "https://localhost:8080/",
          "height": 270
        },
        "id": "bpO4DiYU4vTS",
        "outputId": "13370650-91ac-4d4d-8fd3-6cbf230c7138"
      },
      "id": "bpO4DiYU4vTS",
      "execution_count": 185,
      "outputs": [
        {
          "output_type": "execute_result",
          "data": {
            "text/plain": [
              "   order_status  payment_sequential  payment_installments  payment_value  \\\n",
              "0             1                   1                     1          18.12   \n",
              "1             1                   3                     1           2.00   \n",
              "2             1                   2                     1          18.59   \n",
              "3             1                   1                     1         141.46   \n",
              "4             1                   1                     3         179.12   \n",
              "\n",
              "    price  freight_value  product_name_length  product_description_length  \\\n",
              "0   29.99           8.72                 40.0                       268.0   \n",
              "1   29.99           8.72                 40.0                       268.0   \n",
              "2   29.99           8.72                 40.0                       268.0   \n",
              "3  118.70          22.76                 29.0                       178.0   \n",
              "4  159.90          19.22                 46.0                       232.0   \n",
              "\n",
              "   product_photos_qty  review_score  delivery_days  estimated_days  \\\n",
              "0                 4.0             1              8              16   \n",
              "1                 4.0             1              8              16   \n",
              "2                 4.0             1              8              16   \n",
              "3                 1.0             1             14              20   \n",
              "4                 1.0             1              9              27   \n",
              "\n",
              "   shipping_days  arrival_time  boleto  credit_card  debit_card  voucher  \n",
              "0              4             1       0            1           0        0  \n",
              "1              4             1       0            0           0        1  \n",
              "2              4             1       0            0           0        1  \n",
              "3              6             1       1            0           0        0  \n",
              "4              5             1       0            1           0        0  "
            ],
            "text/html": [
              "\n",
              "  <div id=\"df-0aa2fe13-a58b-411d-8469-727e8cfba312\">\n",
              "    <div class=\"colab-df-container\">\n",
              "      <div>\n",
              "<style scoped>\n",
              "    .dataframe tbody tr th:only-of-type {\n",
              "        vertical-align: middle;\n",
              "    }\n",
              "\n",
              "    .dataframe tbody tr th {\n",
              "        vertical-align: top;\n",
              "    }\n",
              "\n",
              "    .dataframe thead th {\n",
              "        text-align: right;\n",
              "    }\n",
              "</style>\n",
              "<table border=\"1\" class=\"dataframe\">\n",
              "  <thead>\n",
              "    <tr style=\"text-align: right;\">\n",
              "      <th></th>\n",
              "      <th>order_status</th>\n",
              "      <th>payment_sequential</th>\n",
              "      <th>payment_installments</th>\n",
              "      <th>payment_value</th>\n",
              "      <th>price</th>\n",
              "      <th>freight_value</th>\n",
              "      <th>product_name_length</th>\n",
              "      <th>product_description_length</th>\n",
              "      <th>product_photos_qty</th>\n",
              "      <th>review_score</th>\n",
              "      <th>delivery_days</th>\n",
              "      <th>estimated_days</th>\n",
              "      <th>shipping_days</th>\n",
              "      <th>arrival_time</th>\n",
              "      <th>boleto</th>\n",
              "      <th>credit_card</th>\n",
              "      <th>debit_card</th>\n",
              "      <th>voucher</th>\n",
              "    </tr>\n",
              "  </thead>\n",
              "  <tbody>\n",
              "    <tr>\n",
              "      <th>0</th>\n",
              "      <td>1</td>\n",
              "      <td>1</td>\n",
              "      <td>1</td>\n",
              "      <td>18.12</td>\n",
              "      <td>29.99</td>\n",
              "      <td>8.72</td>\n",
              "      <td>40.0</td>\n",
              "      <td>268.0</td>\n",
              "      <td>4.0</td>\n",
              "      <td>1</td>\n",
              "      <td>8</td>\n",
              "      <td>16</td>\n",
              "      <td>4</td>\n",
              "      <td>1</td>\n",
              "      <td>0</td>\n",
              "      <td>1</td>\n",
              "      <td>0</td>\n",
              "      <td>0</td>\n",
              "    </tr>\n",
              "    <tr>\n",
              "      <th>1</th>\n",
              "      <td>1</td>\n",
              "      <td>3</td>\n",
              "      <td>1</td>\n",
              "      <td>2.00</td>\n",
              "      <td>29.99</td>\n",
              "      <td>8.72</td>\n",
              "      <td>40.0</td>\n",
              "      <td>268.0</td>\n",
              "      <td>4.0</td>\n",
              "      <td>1</td>\n",
              "      <td>8</td>\n",
              "      <td>16</td>\n",
              "      <td>4</td>\n",
              "      <td>1</td>\n",
              "      <td>0</td>\n",
              "      <td>0</td>\n",
              "      <td>0</td>\n",
              "      <td>1</td>\n",
              "    </tr>\n",
              "    <tr>\n",
              "      <th>2</th>\n",
              "      <td>1</td>\n",
              "      <td>2</td>\n",
              "      <td>1</td>\n",
              "      <td>18.59</td>\n",
              "      <td>29.99</td>\n",
              "      <td>8.72</td>\n",
              "      <td>40.0</td>\n",
              "      <td>268.0</td>\n",
              "      <td>4.0</td>\n",
              "      <td>1</td>\n",
              "      <td>8</td>\n",
              "      <td>16</td>\n",
              "      <td>4</td>\n",
              "      <td>1</td>\n",
              "      <td>0</td>\n",
              "      <td>0</td>\n",
              "      <td>0</td>\n",
              "      <td>1</td>\n",
              "    </tr>\n",
              "    <tr>\n",
              "      <th>3</th>\n",
              "      <td>1</td>\n",
              "      <td>1</td>\n",
              "      <td>1</td>\n",
              "      <td>141.46</td>\n",
              "      <td>118.70</td>\n",
              "      <td>22.76</td>\n",
              "      <td>29.0</td>\n",
              "      <td>178.0</td>\n",
              "      <td>1.0</td>\n",
              "      <td>1</td>\n",
              "      <td>14</td>\n",
              "      <td>20</td>\n",
              "      <td>6</td>\n",
              "      <td>1</td>\n",
              "      <td>1</td>\n",
              "      <td>0</td>\n",
              "      <td>0</td>\n",
              "      <td>0</td>\n",
              "    </tr>\n",
              "    <tr>\n",
              "      <th>4</th>\n",
              "      <td>1</td>\n",
              "      <td>1</td>\n",
              "      <td>3</td>\n",
              "      <td>179.12</td>\n",
              "      <td>159.90</td>\n",
              "      <td>19.22</td>\n",
              "      <td>46.0</td>\n",
              "      <td>232.0</td>\n",
              "      <td>1.0</td>\n",
              "      <td>1</td>\n",
              "      <td>9</td>\n",
              "      <td>27</td>\n",
              "      <td>5</td>\n",
              "      <td>1</td>\n",
              "      <td>0</td>\n",
              "      <td>1</td>\n",
              "      <td>0</td>\n",
              "      <td>0</td>\n",
              "    </tr>\n",
              "  </tbody>\n",
              "</table>\n",
              "</div>\n",
              "      <button class=\"colab-df-convert\" onclick=\"convertToInteractive('df-0aa2fe13-a58b-411d-8469-727e8cfba312')\"\n",
              "              title=\"Convert this dataframe to an interactive table.\"\n",
              "              style=\"display:none;\">\n",
              "        \n",
              "  <svg xmlns=\"http://www.w3.org/2000/svg\" height=\"24px\"viewBox=\"0 0 24 24\"\n",
              "       width=\"24px\">\n",
              "    <path d=\"M0 0h24v24H0V0z\" fill=\"none\"/>\n",
              "    <path d=\"M18.56 5.44l.94 2.06.94-2.06 2.06-.94-2.06-.94-.94-2.06-.94 2.06-2.06.94zm-11 1L8.5 8.5l.94-2.06 2.06-.94-2.06-.94L8.5 2.5l-.94 2.06-2.06.94zm10 10l.94 2.06.94-2.06 2.06-.94-2.06-.94-.94-2.06-.94 2.06-2.06.94z\"/><path d=\"M17.41 7.96l-1.37-1.37c-.4-.4-.92-.59-1.43-.59-.52 0-1.04.2-1.43.59L10.3 9.45l-7.72 7.72c-.78.78-.78 2.05 0 2.83L4 21.41c.39.39.9.59 1.41.59.51 0 1.02-.2 1.41-.59l7.78-7.78 2.81-2.81c.8-.78.8-2.07 0-2.86zM5.41 20L4 18.59l7.72-7.72 1.47 1.35L5.41 20z\"/>\n",
              "  </svg>\n",
              "      </button>\n",
              "      \n",
              "  <style>\n",
              "    .colab-df-container {\n",
              "      display:flex;\n",
              "      flex-wrap:wrap;\n",
              "      gap: 12px;\n",
              "    }\n",
              "\n",
              "    .colab-df-convert {\n",
              "      background-color: #E8F0FE;\n",
              "      border: none;\n",
              "      border-radius: 50%;\n",
              "      cursor: pointer;\n",
              "      display: none;\n",
              "      fill: #1967D2;\n",
              "      height: 32px;\n",
              "      padding: 0 0 0 0;\n",
              "      width: 32px;\n",
              "    }\n",
              "\n",
              "    .colab-df-convert:hover {\n",
              "      background-color: #E2EBFA;\n",
              "      box-shadow: 0px 1px 2px rgba(60, 64, 67, 0.3), 0px 1px 3px 1px rgba(60, 64, 67, 0.15);\n",
              "      fill: #174EA6;\n",
              "    }\n",
              "\n",
              "    [theme=dark] .colab-df-convert {\n",
              "      background-color: #3B4455;\n",
              "      fill: #D2E3FC;\n",
              "    }\n",
              "\n",
              "    [theme=dark] .colab-df-convert:hover {\n",
              "      background-color: #434B5C;\n",
              "      box-shadow: 0px 1px 3px 1px rgba(0, 0, 0, 0.15);\n",
              "      filter: drop-shadow(0px 1px 2px rgba(0, 0, 0, 0.3));\n",
              "      fill: #FFFFFF;\n",
              "    }\n",
              "  </style>\n",
              "\n",
              "      <script>\n",
              "        const buttonEl =\n",
              "          document.querySelector('#df-0aa2fe13-a58b-411d-8469-727e8cfba312 button.colab-df-convert');\n",
              "        buttonEl.style.display =\n",
              "          google.colab.kernel.accessAllowed ? 'block' : 'none';\n",
              "\n",
              "        async function convertToInteractive(key) {\n",
              "          const element = document.querySelector('#df-0aa2fe13-a58b-411d-8469-727e8cfba312');\n",
              "          const dataTable =\n",
              "            await google.colab.kernel.invokeFunction('convertToInteractive',\n",
              "                                                     [key], {});\n",
              "          if (!dataTable) return;\n",
              "\n",
              "          const docLinkHtml = 'Like what you see? Visit the ' +\n",
              "            '<a target=\"_blank\" href=https://colab.research.google.com/notebooks/data_table.ipynb>data table notebook</a>'\n",
              "            + ' to learn more about interactive tables.';\n",
              "          element.innerHTML = '';\n",
              "          dataTable['output_type'] = 'display_data';\n",
              "          await google.colab.output.renderOutput(dataTable, element);\n",
              "          const docLink = document.createElement('div');\n",
              "          docLink.innerHTML = docLinkHtml;\n",
              "          element.appendChild(docLink);\n",
              "        }\n",
              "      </script>\n",
              "    </div>\n",
              "  </div>\n",
              "  "
            ]
          },
          "metadata": {},
          "execution_count": 185
        }
      ]
    },
    {
      "cell_type": "code",
      "source": [
        "df_ecommerce[df_ecommerce['review_score'] == 1]"
      ],
      "metadata": {
        "colab": {
          "base_uri": "https://localhost:8080/",
          "height": 488
        },
        "id": "VPEt18P2-gvd",
        "outputId": "0a726912-6598-4163-81b3-a750c53f8788"
      },
      "id": "VPEt18P2-gvd",
      "execution_count": 186,
      "outputs": [
        {
          "output_type": "execute_result",
          "data": {
            "text/plain": [
              "        order_status  payment_sequential  payment_installments  payment_value  \\\n",
              "0                  1                   1                     1          18.12   \n",
              "1                  1                   3                     1           2.00   \n",
              "2                  1                   2                     1          18.59   \n",
              "3                  1                   1                     1         141.46   \n",
              "4                  1                   1                     3         179.12   \n",
              "...              ...                 ...                   ...            ...   \n",
              "115602             1                   1                     3         155.99   \n",
              "115603             1                   1                     3          85.08   \n",
              "115604             1                   1                     3         195.00   \n",
              "115605             1                   1                     5         271.01   \n",
              "115608             1                   1                     1          86.86   \n",
              "\n",
              "         price  freight_value  product_name_length  \\\n",
              "0        29.99           8.72                 40.0   \n",
              "1        29.99           8.72                 40.0   \n",
              "2        29.99           8.72                 40.0   \n",
              "3       118.70          22.76                 29.0   \n",
              "4       159.90          19.22                 46.0   \n",
              "...        ...            ...                  ...   \n",
              "115602  139.90          16.09                 63.0   \n",
              "115603   72.00          13.08                 50.0   \n",
              "115604  174.90          20.10                 52.0   \n",
              "115605  205.99          65.02                 51.0   \n",
              "115608   68.50          18.36                 45.0   \n",
              "\n",
              "        product_description_length  product_photos_qty  review_score  \\\n",
              "0                            268.0                 4.0             1   \n",
              "1                            268.0                 4.0             1   \n",
              "2                            268.0                 4.0             1   \n",
              "3                            178.0                 1.0             1   \n",
              "4                            232.0                 1.0             1   \n",
              "...                            ...                 ...           ...   \n",
              "115602                       254.0                 2.0             1   \n",
              "115603                      1517.0                 1.0             1   \n",
              "115604                       828.0                 4.0             1   \n",
              "115605                       500.0                 2.0             1   \n",
              "115608                       569.0                 1.0             1   \n",
              "\n",
              "        delivery_days  estimated_days  shipping_days  arrival_time  boleto  \\\n",
              "0                   8              16              4             1       0   \n",
              "1                   8              16              4             1       0   \n",
              "2                   8              16              4             1       0   \n",
              "3                  14              20              6             1       1   \n",
              "4                   9              27              5             1       0   \n",
              "...               ...             ...            ...           ...     ...   \n",
              "115602             11              27              4             1       0   \n",
              "115603              8              19              6             1       0   \n",
              "115604             22              24              6             1       0   \n",
              "115605             25              31              9             1       0   \n",
              "115608              8              26              7             1       0   \n",
              "\n",
              "        credit_card  debit_card  voucher  \n",
              "0                 1           0        0  \n",
              "1                 0           0        1  \n",
              "2                 0           0        1  \n",
              "3                 0           0        0  \n",
              "4                 1           0        0  \n",
              "...             ...         ...      ...  \n",
              "115602            1           0        0  \n",
              "115603            1           0        0  \n",
              "115604            1           0        0  \n",
              "115605            1           0        0  \n",
              "115608            0           1        0  \n",
              "\n",
              "[86970 rows x 18 columns]"
            ],
            "text/html": [
              "\n",
              "  <div id=\"df-fe53bd51-81cb-4600-a8ce-82330123d413\">\n",
              "    <div class=\"colab-df-container\">\n",
              "      <div>\n",
              "<style scoped>\n",
              "    .dataframe tbody tr th:only-of-type {\n",
              "        vertical-align: middle;\n",
              "    }\n",
              "\n",
              "    .dataframe tbody tr th {\n",
              "        vertical-align: top;\n",
              "    }\n",
              "\n",
              "    .dataframe thead th {\n",
              "        text-align: right;\n",
              "    }\n",
              "</style>\n",
              "<table border=\"1\" class=\"dataframe\">\n",
              "  <thead>\n",
              "    <tr style=\"text-align: right;\">\n",
              "      <th></th>\n",
              "      <th>order_status</th>\n",
              "      <th>payment_sequential</th>\n",
              "      <th>payment_installments</th>\n",
              "      <th>payment_value</th>\n",
              "      <th>price</th>\n",
              "      <th>freight_value</th>\n",
              "      <th>product_name_length</th>\n",
              "      <th>product_description_length</th>\n",
              "      <th>product_photos_qty</th>\n",
              "      <th>review_score</th>\n",
              "      <th>delivery_days</th>\n",
              "      <th>estimated_days</th>\n",
              "      <th>shipping_days</th>\n",
              "      <th>arrival_time</th>\n",
              "      <th>boleto</th>\n",
              "      <th>credit_card</th>\n",
              "      <th>debit_card</th>\n",
              "      <th>voucher</th>\n",
              "    </tr>\n",
              "  </thead>\n",
              "  <tbody>\n",
              "    <tr>\n",
              "      <th>0</th>\n",
              "      <td>1</td>\n",
              "      <td>1</td>\n",
              "      <td>1</td>\n",
              "      <td>18.12</td>\n",
              "      <td>29.99</td>\n",
              "      <td>8.72</td>\n",
              "      <td>40.0</td>\n",
              "      <td>268.0</td>\n",
              "      <td>4.0</td>\n",
              "      <td>1</td>\n",
              "      <td>8</td>\n",
              "      <td>16</td>\n",
              "      <td>4</td>\n",
              "      <td>1</td>\n",
              "      <td>0</td>\n",
              "      <td>1</td>\n",
              "      <td>0</td>\n",
              "      <td>0</td>\n",
              "    </tr>\n",
              "    <tr>\n",
              "      <th>1</th>\n",
              "      <td>1</td>\n",
              "      <td>3</td>\n",
              "      <td>1</td>\n",
              "      <td>2.00</td>\n",
              "      <td>29.99</td>\n",
              "      <td>8.72</td>\n",
              "      <td>40.0</td>\n",
              "      <td>268.0</td>\n",
              "      <td>4.0</td>\n",
              "      <td>1</td>\n",
              "      <td>8</td>\n",
              "      <td>16</td>\n",
              "      <td>4</td>\n",
              "      <td>1</td>\n",
              "      <td>0</td>\n",
              "      <td>0</td>\n",
              "      <td>0</td>\n",
              "      <td>1</td>\n",
              "    </tr>\n",
              "    <tr>\n",
              "      <th>2</th>\n",
              "      <td>1</td>\n",
              "      <td>2</td>\n",
              "      <td>1</td>\n",
              "      <td>18.59</td>\n",
              "      <td>29.99</td>\n",
              "      <td>8.72</td>\n",
              "      <td>40.0</td>\n",
              "      <td>268.0</td>\n",
              "      <td>4.0</td>\n",
              "      <td>1</td>\n",
              "      <td>8</td>\n",
              "      <td>16</td>\n",
              "      <td>4</td>\n",
              "      <td>1</td>\n",
              "      <td>0</td>\n",
              "      <td>0</td>\n",
              "      <td>0</td>\n",
              "      <td>1</td>\n",
              "    </tr>\n",
              "    <tr>\n",
              "      <th>3</th>\n",
              "      <td>1</td>\n",
              "      <td>1</td>\n",
              "      <td>1</td>\n",
              "      <td>141.46</td>\n",
              "      <td>118.70</td>\n",
              "      <td>22.76</td>\n",
              "      <td>29.0</td>\n",
              "      <td>178.0</td>\n",
              "      <td>1.0</td>\n",
              "      <td>1</td>\n",
              "      <td>14</td>\n",
              "      <td>20</td>\n",
              "      <td>6</td>\n",
              "      <td>1</td>\n",
              "      <td>1</td>\n",
              "      <td>0</td>\n",
              "      <td>0</td>\n",
              "      <td>0</td>\n",
              "    </tr>\n",
              "    <tr>\n",
              "      <th>4</th>\n",
              "      <td>1</td>\n",
              "      <td>1</td>\n",
              "      <td>3</td>\n",
              "      <td>179.12</td>\n",
              "      <td>159.90</td>\n",
              "      <td>19.22</td>\n",
              "      <td>46.0</td>\n",
              "      <td>232.0</td>\n",
              "      <td>1.0</td>\n",
              "      <td>1</td>\n",
              "      <td>9</td>\n",
              "      <td>27</td>\n",
              "      <td>5</td>\n",
              "      <td>1</td>\n",
              "      <td>0</td>\n",
              "      <td>1</td>\n",
              "      <td>0</td>\n",
              "      <td>0</td>\n",
              "    </tr>\n",
              "    <tr>\n",
              "      <th>...</th>\n",
              "      <td>...</td>\n",
              "      <td>...</td>\n",
              "      <td>...</td>\n",
              "      <td>...</td>\n",
              "      <td>...</td>\n",
              "      <td>...</td>\n",
              "      <td>...</td>\n",
              "      <td>...</td>\n",
              "      <td>...</td>\n",
              "      <td>...</td>\n",
              "      <td>...</td>\n",
              "      <td>...</td>\n",
              "      <td>...</td>\n",
              "      <td>...</td>\n",
              "      <td>...</td>\n",
              "      <td>...</td>\n",
              "      <td>...</td>\n",
              "      <td>...</td>\n",
              "    </tr>\n",
              "    <tr>\n",
              "      <th>115602</th>\n",
              "      <td>1</td>\n",
              "      <td>1</td>\n",
              "      <td>3</td>\n",
              "      <td>155.99</td>\n",
              "      <td>139.90</td>\n",
              "      <td>16.09</td>\n",
              "      <td>63.0</td>\n",
              "      <td>254.0</td>\n",
              "      <td>2.0</td>\n",
              "      <td>1</td>\n",
              "      <td>11</td>\n",
              "      <td>27</td>\n",
              "      <td>4</td>\n",
              "      <td>1</td>\n",
              "      <td>0</td>\n",
              "      <td>1</td>\n",
              "      <td>0</td>\n",
              "      <td>0</td>\n",
              "    </tr>\n",
              "    <tr>\n",
              "      <th>115603</th>\n",
              "      <td>1</td>\n",
              "      <td>1</td>\n",
              "      <td>3</td>\n",
              "      <td>85.08</td>\n",
              "      <td>72.00</td>\n",
              "      <td>13.08</td>\n",
              "      <td>50.0</td>\n",
              "      <td>1517.0</td>\n",
              "      <td>1.0</td>\n",
              "      <td>1</td>\n",
              "      <td>8</td>\n",
              "      <td>19</td>\n",
              "      <td>6</td>\n",
              "      <td>1</td>\n",
              "      <td>0</td>\n",
              "      <td>1</td>\n",
              "      <td>0</td>\n",
              "      <td>0</td>\n",
              "    </tr>\n",
              "    <tr>\n",
              "      <th>115604</th>\n",
              "      <td>1</td>\n",
              "      <td>1</td>\n",
              "      <td>3</td>\n",
              "      <td>195.00</td>\n",
              "      <td>174.90</td>\n",
              "      <td>20.10</td>\n",
              "      <td>52.0</td>\n",
              "      <td>828.0</td>\n",
              "      <td>4.0</td>\n",
              "      <td>1</td>\n",
              "      <td>22</td>\n",
              "      <td>24</td>\n",
              "      <td>6</td>\n",
              "      <td>1</td>\n",
              "      <td>0</td>\n",
              "      <td>1</td>\n",
              "      <td>0</td>\n",
              "      <td>0</td>\n",
              "    </tr>\n",
              "    <tr>\n",
              "      <th>115605</th>\n",
              "      <td>1</td>\n",
              "      <td>1</td>\n",
              "      <td>5</td>\n",
              "      <td>271.01</td>\n",
              "      <td>205.99</td>\n",
              "      <td>65.02</td>\n",
              "      <td>51.0</td>\n",
              "      <td>500.0</td>\n",
              "      <td>2.0</td>\n",
              "      <td>1</td>\n",
              "      <td>25</td>\n",
              "      <td>31</td>\n",
              "      <td>9</td>\n",
              "      <td>1</td>\n",
              "      <td>0</td>\n",
              "      <td>1</td>\n",
              "      <td>0</td>\n",
              "      <td>0</td>\n",
              "    </tr>\n",
              "    <tr>\n",
              "      <th>115608</th>\n",
              "      <td>1</td>\n",
              "      <td>1</td>\n",
              "      <td>1</td>\n",
              "      <td>86.86</td>\n",
              "      <td>68.50</td>\n",
              "      <td>18.36</td>\n",
              "      <td>45.0</td>\n",
              "      <td>569.0</td>\n",
              "      <td>1.0</td>\n",
              "      <td>1</td>\n",
              "      <td>8</td>\n",
              "      <td>26</td>\n",
              "      <td>7</td>\n",
              "      <td>1</td>\n",
              "      <td>0</td>\n",
              "      <td>0</td>\n",
              "      <td>1</td>\n",
              "      <td>0</td>\n",
              "    </tr>\n",
              "  </tbody>\n",
              "</table>\n",
              "<p>86970 rows × 18 columns</p>\n",
              "</div>\n",
              "      <button class=\"colab-df-convert\" onclick=\"convertToInteractive('df-fe53bd51-81cb-4600-a8ce-82330123d413')\"\n",
              "              title=\"Convert this dataframe to an interactive table.\"\n",
              "              style=\"display:none;\">\n",
              "        \n",
              "  <svg xmlns=\"http://www.w3.org/2000/svg\" height=\"24px\"viewBox=\"0 0 24 24\"\n",
              "       width=\"24px\">\n",
              "    <path d=\"M0 0h24v24H0V0z\" fill=\"none\"/>\n",
              "    <path d=\"M18.56 5.44l.94 2.06.94-2.06 2.06-.94-2.06-.94-.94-2.06-.94 2.06-2.06.94zm-11 1L8.5 8.5l.94-2.06 2.06-.94-2.06-.94L8.5 2.5l-.94 2.06-2.06.94zm10 10l.94 2.06.94-2.06 2.06-.94-2.06-.94-.94-2.06-.94 2.06-2.06.94z\"/><path d=\"M17.41 7.96l-1.37-1.37c-.4-.4-.92-.59-1.43-.59-.52 0-1.04.2-1.43.59L10.3 9.45l-7.72 7.72c-.78.78-.78 2.05 0 2.83L4 21.41c.39.39.9.59 1.41.59.51 0 1.02-.2 1.41-.59l7.78-7.78 2.81-2.81c.8-.78.8-2.07 0-2.86zM5.41 20L4 18.59l7.72-7.72 1.47 1.35L5.41 20z\"/>\n",
              "  </svg>\n",
              "      </button>\n",
              "      \n",
              "  <style>\n",
              "    .colab-df-container {\n",
              "      display:flex;\n",
              "      flex-wrap:wrap;\n",
              "      gap: 12px;\n",
              "    }\n",
              "\n",
              "    .colab-df-convert {\n",
              "      background-color: #E8F0FE;\n",
              "      border: none;\n",
              "      border-radius: 50%;\n",
              "      cursor: pointer;\n",
              "      display: none;\n",
              "      fill: #1967D2;\n",
              "      height: 32px;\n",
              "      padding: 0 0 0 0;\n",
              "      width: 32px;\n",
              "    }\n",
              "\n",
              "    .colab-df-convert:hover {\n",
              "      background-color: #E2EBFA;\n",
              "      box-shadow: 0px 1px 2px rgba(60, 64, 67, 0.3), 0px 1px 3px 1px rgba(60, 64, 67, 0.15);\n",
              "      fill: #174EA6;\n",
              "    }\n",
              "\n",
              "    [theme=dark] .colab-df-convert {\n",
              "      background-color: #3B4455;\n",
              "      fill: #D2E3FC;\n",
              "    }\n",
              "\n",
              "    [theme=dark] .colab-df-convert:hover {\n",
              "      background-color: #434B5C;\n",
              "      box-shadow: 0px 1px 3px 1px rgba(0, 0, 0, 0.15);\n",
              "      filter: drop-shadow(0px 1px 2px rgba(0, 0, 0, 0.3));\n",
              "      fill: #FFFFFF;\n",
              "    }\n",
              "  </style>\n",
              "\n",
              "      <script>\n",
              "        const buttonEl =\n",
              "          document.querySelector('#df-fe53bd51-81cb-4600-a8ce-82330123d413 button.colab-df-convert');\n",
              "        buttonEl.style.display =\n",
              "          google.colab.kernel.accessAllowed ? 'block' : 'none';\n",
              "\n",
              "        async function convertToInteractive(key) {\n",
              "          const element = document.querySelector('#df-fe53bd51-81cb-4600-a8ce-82330123d413');\n",
              "          const dataTable =\n",
              "            await google.colab.kernel.invokeFunction('convertToInteractive',\n",
              "                                                     [key], {});\n",
              "          if (!dataTable) return;\n",
              "\n",
              "          const docLinkHtml = 'Like what you see? Visit the ' +\n",
              "            '<a target=\"_blank\" href=https://colab.research.google.com/notebooks/data_table.ipynb>data table notebook</a>'\n",
              "            + ' to learn more about interactive tables.';\n",
              "          element.innerHTML = '';\n",
              "          dataTable['output_type'] = 'display_data';\n",
              "          await google.colab.output.renderOutput(dataTable, element);\n",
              "          const docLink = document.createElement('div');\n",
              "          docLink.innerHTML = docLinkHtml;\n",
              "          element.appendChild(docLink);\n",
              "        }\n",
              "      </script>\n",
              "    </div>\n",
              "  </div>\n",
              "  "
            ]
          },
          "metadata": {},
          "execution_count": 186
        }
      ]
    },
    {
      "cell_type": "markdown",
      "source": [
        "# Aprendizado de máquina (Machine Learning)"
      ],
      "metadata": {
        "id": "WMUfHXAu5Fi9"
      },
      "id": "WMUfHXAu5Fi9"
    },
    {
      "cell_type": "markdown",
      "source": [
        "## Separação dos dados em teste e treino"
      ],
      "metadata": {
        "id": "z0wVYIPK5J8U"
      },
      "id": "z0wVYIPK5J8U"
    },
    {
      "cell_type": "markdown",
      "source": [
        "Precisamos separar nossos dados em treino e teste. Por quê? Precisamos validar nossos modelo com dados que esse não tenha visto antes! Precisamos evitar que o modelo aprenda demais com os dados de treino e não seja representativo para os dados de teste."
      ],
      "metadata": {
        "id": "SG9lcM7yhcVm"
      },
      "id": "SG9lcM7yhcVm"
    },
    {
      "cell_type": "code",
      "source": [
        "y = df_ecommerce['review_score']\n",
        "x = df_ecommerce.drop(['review_score'], axis = 1)\n",
        "\n",
        "from sklearn.model_selection import train_test_split\n",
        "test_size = 0.20\n",
        "X_train, X_test, y_train, y_test = train_test_split(x, y, test_size = test_size, random_state = 206)"
      ],
      "metadata": {
        "id": "crQll-BM408H"
      },
      "id": "crQll-BM408H",
      "execution_count": 187,
      "outputs": []
    },
    {
      "cell_type": "markdown",
      "source": [
        "## Classificação utilizando florestas aleatórias\n",
        "\n"
      ],
      "metadata": {
        "id": "1wlR0y265uUO"
      },
      "id": "1wlR0y265uUO"
    },
    {
      "cell_type": "markdown",
      "source": [
        "O resultado do nosso modelo é se a avaliação é boa ou ruim (classificação), considerando todas as variáveis de entrada que utilizamos até agora.\n",
        "\n",
        "Nesse caso nós não normalizamos os dados! O algoritmo de árvores de decisão e florestas aleatórias não necessita desse tipo de processamento. Se você for utilizar outro tipo de modelo (regressão logística ou máquinas de vetores de suporte, por exemplo, você precisará normalizar os dados)."
      ],
      "metadata": {
        "id": "fgx3oHuth2w3"
      },
      "id": "fgx3oHuth2w3"
    },
    {
      "cell_type": "code",
      "source": [
        "from sklearn.ensemble import RandomForestClassifier\n",
        "\n",
        "rf = RandomForestClassifier(max_depth=7, random_state=44)\n",
        "rf.fit(X_train, y_train)\n",
        "y_pred_rf = rf.predict(X_test)"
      ],
      "metadata": {
        "id": "8AFm1sk45Yk1"
      },
      "id": "8AFm1sk45Yk1",
      "execution_count": 188,
      "outputs": []
    },
    {
      "cell_type": "markdown",
      "source": [
        "## Avaliação dos scores pra treino e teste"
      ],
      "metadata": {
        "id": "Kpkv-4qs5_Yw"
      },
      "id": "Kpkv-4qs5_Yw"
    },
    {
      "cell_type": "markdown",
      "source": [
        "Vamos avaliar o quão bem o modelo conseguiu acertar suas predições para os dados de treino e teste."
      ],
      "metadata": {
        "id": "lHutWZcjiOFV"
      },
      "id": "lHutWZcjiOFV"
    },
    {
      "cell_type": "code",
      "source": [
        "print('RF treino score:',rf.score(X_train,y_train))\n",
        "print('RF teste score:',rf.score(X_test,y_test))"
      ],
      "metadata": {
        "colab": {
          "base_uri": "https://localhost:8080/"
        },
        "id": "E-sJwATI54Xb",
        "outputId": "8bda71da-5fa8-46c7-c15e-0a4538a09362"
      },
      "id": "E-sJwATI54Xb",
      "execution_count": 189,
      "outputs": [
        {
          "output_type": "stream",
          "name": "stdout",
          "text": [
            "RF treino score: 0.8704485170002412\n",
            "RF teste score: 0.8651073064866168\n"
          ]
        }
      ]
    },
    {
      "cell_type": "markdown",
      "source": [
        "## Avaliação de quais features são mais relevantes para o modelo"
      ],
      "metadata": {
        "id": "qOjRELb07iEn"
      },
      "id": "qOjRELb07iEn"
    },
    {
      "cell_type": "markdown",
      "source": [
        "Quais são as variáveis que têm mais peso para o modelo? Ou seja, que variáveis influenciam mais? Observe que se a entrega atrasou e o tempo da entrega são extremamente significativos para decidir se a avaliação será positiva ou negativa. Faz sentido?"
      ],
      "metadata": {
        "id": "QDQIEKhjiWt0"
      },
      "id": "QDQIEKhjiWt0"
    },
    {
      "cell_type": "code",
      "source": [
        "feat_importances = pd.Series(rf.feature_importances_, index=X_train.columns)\n",
        "feat_importances.nlargest(20).plot(kind='barh')"
      ],
      "metadata": {
        "colab": {
          "base_uri": "https://localhost:8080/",
          "height": 283
        },
        "id": "BEHhcVd97Osk",
        "outputId": "65b70782-db32-4694-d79a-0886136e3537"
      },
      "id": "BEHhcVd97Osk",
      "execution_count": 190,
      "outputs": [
        {
          "output_type": "execute_result",
          "data": {
            "text/plain": [
              "<matplotlib.axes._subplots.AxesSubplot at 0x7fd352938710>"
            ]
          },
          "metadata": {},
          "execution_count": 190
        },
        {
          "output_type": "display_data",
          "data": {
            "text/plain": [
              "<Figure size 432x288 with 1 Axes>"
            ],
            "image/png": "[encoded data removed]"
          },
          "metadata": {
            "needs_background": "light"
          }
        }
      ]
    },
    {
      "cell_type": "markdown",
      "source": [
        "## Relatório da classificação utilizando florestas aleatórias"
      ],
      "metadata": {
        "id": "Gq4Nkz0Z6Ugg"
      },
      "id": "Gq4Nkz0Z6Ugg"
    },
    {
      "cell_type": "markdown",
      "source": [
        "Já avaliamos a acurácia do modelo, agora vamos gerar um relatório de classificação. Viu alguma coisa estranha aí? Fica para a próxima aula..."
      ],
      "metadata": {
        "id": "UMmZ_w3SintR"
      },
      "id": "UMmZ_w3SintR"
    },
    {
      "cell_type": "code",
      "source": [
        "from sklearn.metrics import classification_report\n",
        "print(classification_report(y_test, y_pred_rf))"
      ],
      "metadata": {
        "colab": {
          "base_uri": "https://localhost:8080/"
        },
        "id": "rMcn4YqJ597D",
        "outputId": "580945a0-83f5-4a02-d077-4f48d1b71e41"
      },
      "id": "rMcn4YqJ597D",
      "execution_count": 191,
      "outputs": [
        {
          "output_type": "stream",
          "name": "stdout",
          "text": [
            "              precision    recall  f1-score   support\n",
            "\n",
            "           0       0.78      0.24      0.37      3370\n",
            "           1       0.87      0.99      0.92     17365\n",
            "\n",
            "    accuracy                           0.87     20735\n",
            "   macro avg       0.82      0.61      0.64     20735\n",
            "weighted avg       0.85      0.87      0.83     20735\n",
            "\n"
          ]
        }
      ]
    },
    {
      "cell_type": "markdown",
      "source": [
        "# Melhoria do modelo de Machine Learning"
      ],
      "metadata": {
        "id": "gIAWPqm6LNn8"
      },
      "id": "gIAWPqm6LNn8"
    },
    {
      "cell_type": "markdown",
      "source": [
        "## Separação dos dados de treino e teste"
      ],
      "metadata": {
        "id": "Bl2O1P74PiS9"
      },
      "id": "Bl2O1P74PiS9"
    },
    {
      "cell_type": "markdown",
      "source": [
        "Vamos utilizar apenas as variáveis que tiveram mais relevância na criação do modelo: 'arrival_time', 'delivery_days', 'payment_value', 'price', 'estimated_days', 'freight_value'"
      ],
      "metadata": {
        "id": "_KinMnD8XaDR"
      },
      "id": "_KinMnD8XaDR"
    },
    {
      "cell_type": "code",
      "source": [
        "y = df_ecommerce['review_score']\n",
        "x = df_ecommerce[['arrival_time', 'delivery_days', 'payment_value', 'price', 'estimated_days', 'freight_value']]\n",
        "\n",
        "\n",
        "X_train, X_test, y_train, y_test = train_test_split(x, y, test_size = test_size, random_state = 206)"
      ],
      "metadata": {
        "id": "tPPq4KJ3LRId"
      },
      "id": "tPPq4KJ3LRId",
      "execution_count": 192,
      "outputs": []
    },
    {
      "cell_type": "markdown",
      "source": [
        "## Criação da função para o modelo de Machine Learning"
      ],
      "metadata": {
        "id": "1wZMZfqiPtFs"
      },
      "id": "1wZMZfqiPtFs"
    },
    {
      "cell_type": "markdown",
      "source": [
        "Para não ficar colando o tempo inteiro a criação do modelo em ML e toda a parte de avaliação, vamos encapsular tudo isso em uma função!"
      ],
      "metadata": {
        "id": "-s9LWojULRXo"
      },
      "id": "-s9LWojULRXo"
    },
    {
      "cell_type": "code",
      "source": [
        "def modelo_rf(X_train, X_test, y_train, y_test):\n",
        "  from sklearn.metrics import f1_score\n",
        "  rf = RandomForestClassifier(max_depth=7, random_state=44)\n",
        "  rf.fit(X_train, y_train)\n",
        "  y_pred_rf = rf.predict(X_test)\n",
        "\n",
        "  # score\n",
        "  print('RF treino accuracy:', rf.score(X_train,y_train))\n",
        "  print('RF teste accuracy:', rf.score(X_test,y_test))\n",
        "  print('f1 score', f1_score(y_test, y_pred_rf, average='macro'))\n",
        "  \n",
        "  # classification report\n",
        "  print('\\n Relatório de classificação')\n",
        "  print(classification_report(y_test, y_pred_rf))\n",
        "\n",
        "  return rf"
      ],
      "metadata": {
        "id": "3CUjaZeeNMeF"
      },
      "id": "3CUjaZeeNMeF",
      "execution_count": 193,
      "outputs": []
    },
    {
      "cell_type": "markdown",
      "source": [
        "Agora nós só precisamos chamar a função modelo_rf para treinar o modelo e retornar todas as avaliações necessárias."
      ],
      "metadata": {
        "id": "Go2gVqT4hYkn"
      },
      "id": "Go2gVqT4hYkn"
    },
    {
      "cell_type": "code",
      "source": [
        "rf = modelo_rf(X_train, X_test, y_train, y_test)"
      ],
      "metadata": {
        "colab": {
          "base_uri": "https://localhost:8080/"
        },
        "id": "yMFznPdcNx37",
        "outputId": "4eed6a49-e20c-4f4c-cebe-bc8932905b52"
      },
      "id": "yMFznPdcNx37",
      "execution_count": 194,
      "outputs": [
        {
          "output_type": "stream",
          "name": "stdout",
          "text": [
            "RF treino accuracy: 0.8715577525922353\n",
            "RF teste accuracy: 0.8661683144441765\n",
            "f1 score 0.6492653734910152\n",
            "\n",
            " Relatório de classificação\n",
            "              precision    recall  f1-score   support\n",
            "\n",
            "           0       0.78      0.25      0.37      3370\n",
            "           1       0.87      0.99      0.93     17365\n",
            "\n",
            "    accuracy                           0.87     20735\n",
            "   macro avg       0.83      0.62      0.65     20735\n",
            "weighted avg       0.86      0.87      0.84     20735\n",
            "\n"
          ]
        }
      ]
    },
    {
      "cell_type": "markdown",
      "source": [
        "A interpretação para o 0, ou seja, para as avaliaçõe ruins é:\n",
        "\n",
        "* Precision: de todas as avaliações negativas que o modelo fez predição, 78% realmente eram negativas\n",
        "\n",
        "\n",
        "* Recall: de todas as avaliações que realmente eram negativas, o modelo fez a predição correta de apenas 24%\n",
        "\n",
        "Ou seja, o modelo aprendeu muito mais com as avaliações positivas!\n",
        "\n",
        "A precisão é necessária para reduzir o número de falsos positivos e o recall é necessário para reduzir o número de falsos negativos. É por isso que usaremos a pontuação macro F1 como métrica."
      ],
      "metadata": {
        "id": "qXiqF5V0LnBl"
      },
      "id": "qXiqF5V0LnBl"
    },
    {
      "cell_type": "markdown",
      "source": [
        "## Balanceamento dos dados"
      ],
      "metadata": {
        "id": "TaXBSLY4P1t2"
      },
      "id": "TaXBSLY4P1t2"
    },
    {
      "cell_type": "markdown",
      "source": [
        "Vimos que temos muito mais avaliações boas do que ruins. Precisamos balancear os dados. Ou seja, vamos balancear a quantidade de exemplos bons e ruins no treinamento do modelo utilizando o método SMOTE."
      ],
      "metadata": {
        "id": "2_ActVzDQaJJ"
      },
      "id": "2_ActVzDQaJJ"
    },
    {
      "cell_type": "code",
      "source": [
        "y_train.value_counts()"
      ],
      "metadata": {
        "colab": {
          "base_uri": "https://localhost:8080/"
        },
        "id": "OHMvdrr6PgJL",
        "outputId": "cdf6c4c4-5b1a-4884-ab97-d5bcdc9c50e8"
      },
      "id": "OHMvdrr6PgJL",
      "execution_count": 195,
      "outputs": [
        {
          "output_type": "execute_result",
          "data": {
            "text/plain": [
              "1    69605\n",
              "0    13335\n",
              "Name: review_score, dtype: int64"
            ]
          },
          "metadata": {},
          "execution_count": 195
        }
      ]
    },
    {
      "cell_type": "code",
      "source": [
        "# reamostragem dos dados: balancear o tamanho dos exemplos bons e ruins no treinamento\n",
        "from imblearn.over_sampling import SMOTE\n",
        "sm = SMOTE(random_state=14)\n",
        "X_train, y_train = sm.fit_resample(X_train, y_train)"
      ],
      "metadata": {
        "id": "72OIwf27PgTz"
      },
      "id": "72OIwf27PgTz",
      "execution_count": 196,
      "outputs": []
    },
    {
      "cell_type": "code",
      "source": [
        "y_train.value_counts()"
      ],
      "metadata": {
        "colab": {
          "base_uri": "https://localhost:8080/"
        },
        "id": "1OvKpaXaQSWC",
        "outputId": "afecab20-bb15-4e7f-96a1-fefad4fb406f"
      },
      "id": "1OvKpaXaQSWC",
      "execution_count": 197,
      "outputs": [
        {
          "output_type": "execute_result",
          "data": {
            "text/plain": [
              "1    69605\n",
              "0    69605\n",
              "Name: review_score, dtype: int64"
            ]
          },
          "metadata": {},
          "execution_count": 197
        }
      ]
    },
    {
      "cell_type": "code",
      "source": [
        "rf = modelo_rf(X_train, X_test, y_train, y_test)"
      ],
      "metadata": {
        "colab": {
          "base_uri": "https://localhost:8080/"
        },
        "id": "zUTyY3_jQSe3",
        "outputId": "d8265e49-e8ba-4cde-872d-d97d31cce3bb"
      },
      "id": "zUTyY3_jQSe3",
      "execution_count": 198,
      "outputs": [
        {
          "output_type": "stream",
          "name": "stdout",
          "text": [
            "RF treino accuracy: 0.7186049852740464\n",
            "RF teste accuracy: 0.8211719315167592\n",
            "f1 score 0.6855629201171076\n",
            "\n",
            " Relatório de classificação\n",
            "              precision    recall  f1-score   support\n",
            "\n",
            "           0       0.45      0.51      0.48      3370\n",
            "           1       0.90      0.88      0.89     17365\n",
            "\n",
            "    accuracy                           0.82     20735\n",
            "   macro avg       0.68      0.69      0.69     20735\n",
            "weighted avg       0.83      0.82      0.82     20735\n",
            "\n"
          ]
        }
      ]
    },
    {
      "cell_type": "markdown",
      "source": [
        "Quando falamos sobre classificação, é importante não olhar apenas para a acurácia, mas precisamos considerar os falsos negativos e positivos. Pra isso serve o f1 score."
      ],
      "metadata": {
        "id": "J9639HToQqXa"
      },
      "id": "J9639HToQqXa"
    },
    {
      "cell_type": "markdown",
      "source": [
        "## Escalonamento dos dados"
      ],
      "metadata": {
        "id": "j5cgnIQKVjFz"
      },
      "id": "j5cgnIQKVjFz"
    },
    {
      "cell_type": "markdown",
      "source": [
        "- Se o modelo possui diferentes ordens de grandeza\n",
        "Exemplo: idades entre 0-100 e salários de 0-milhares\n",
        "- Alguns modelos podem não funcionar com propriedades com diferentes escalas\n",
        "- Pode resultar em algumas propriedades tendo mais peso que outras\n",
        "\n",
        "Esse pode não ser o caso aqui, pois temos apenas valores na ordem de 100, mas é interessante fazer o escalonamento dos dados."
      ],
      "metadata": {
        "id": "qtiVKQ75S36Q"
      },
      "id": "qtiVKQ75S36Q"
    },
    {
      "cell_type": "code",
      "source": [
        "plt.figure(figsize=(15,4))\n",
        "sns.boxplot(data=X_train)\n",
        "plt.ylim([0, 500])"
      ],
      "metadata": {
        "colab": {
          "base_uri": "https://localhost:8080/",
          "height": 288
        },
        "id": "WniYHCngXO9d",
        "outputId": "aef4794c-8d41-4c12-bf7e-4557b386a8f5"
      },
      "id": "WniYHCngXO9d",
      "execution_count": 199,
      "outputs": [
        {
          "output_type": "execute_result",
          "data": {
            "text/plain": [
              "(0.0, 500.0)"
            ]
          },
          "metadata": {},
          "execution_count": 199
        },
        {
          "output_type": "display_data",
          "data": {
            "text/plain": [
              "<Figure size 1080x288 with 1 Axes>"
            ],
            "image/png": "[encoded data removed]"
          },
          "metadata": {
            "needs_background": "light"
          }
        }
      ]
    },
    {
      "cell_type": "code",
      "source": [
        "from sklearn.preprocessing import MinMaxScaler\n",
        "\n",
        "scaler = MinMaxScaler()\n",
        "scaler.fit(X_train)\n",
        "\n",
        "X_train_scaled = scaler.transform(X_train)\n",
        "X_test_scaled = scaler.transform(X_test)"
      ],
      "metadata": {
        "id": "4LExUgdZQShf"
      },
      "id": "4LExUgdZQShf",
      "execution_count": 200,
      "outputs": []
    },
    {
      "cell_type": "code",
      "source": [
        "X_train_scaled = pd.DataFrame(data=X_train_scaled, columns=X_train.columns)\n",
        "X_test_scaled = pd.DataFrame(data=X_test_scaled, columns=X_train.columns)"
      ],
      "metadata": {
        "id": "9qYsRDgnWzDt"
      },
      "id": "9qYsRDgnWzDt",
      "execution_count": 201,
      "outputs": []
    },
    {
      "cell_type": "code",
      "source": [
        "X_train_scaled"
      ],
      "metadata": {
        "colab": {
          "base_uri": "https://localhost:8080/",
          "height": 424
        },
        "id": "zcAd8UcPWzNg",
        "outputId": "c134e48c-69ca-4294-f7ec-32dfccae6089"
      },
      "id": "zcAd8UcPWzNg",
      "execution_count": 202,
      "outputs": [
        {
          "output_type": "execute_result",
          "data": {
            "text/plain": [
              "        arrival_time  delivery_days  payment_value     price  estimated_days  \\\n",
              "0                1.0       0.052885       0.010548  0.018584        0.149660   \n",
              "1                1.0       0.033654       0.034000  0.065198        0.115646   \n",
              "2                1.0       0.028846       0.004686  0.007878        0.122449   \n",
              "3                1.0       0.086538       0.007343  0.012495        0.210884   \n",
              "4                1.0       0.043269       0.004032  0.005812        0.129252   \n",
              "...              ...            ...            ...       ...             ...   \n",
              "139205           1.0       0.024038       0.002747  0.001783        0.047619   \n",
              "139206           1.0       0.105769       0.013182  0.023523        0.210884   \n",
              "139207           0.0       0.139423       0.005550  0.007878        0.129252   \n",
              "139208           1.0       0.043269       0.005923  0.010118        0.095238   \n",
              "139209           1.0       0.028846       0.005329  0.003023        0.136054   \n",
              "\n",
              "        freight_value  \n",
              "0            0.048311  \n",
              "1            0.065764  \n",
              "2            0.026993  \n",
              "3            0.040903  \n",
              "4            0.040263  \n",
              "...               ...  \n",
              "139205       0.003661  \n",
              "139206       0.055597  \n",
              "139207       0.058457  \n",
              "139208       0.031825  \n",
              "139209       0.040516  \n",
              "\n",
              "[139210 rows x 6 columns]"
            ],
            "text/html": [
              "\n",
              "  <div id=\"df-7f999f55-3f1c-477a-bf18-d663d800a8b8\">\n",
              "    <div class=\"colab-df-container\">\n",
              "      <div>\n",
              "<style scoped>\n",
              "    .dataframe tbody tr th:only-of-type {\n",
              "        vertical-align: middle;\n",
              "    }\n",
              "\n",
              "    .dataframe tbody tr th {\n",
              "        vertical-align: top;\n",
              "    }\n",
              "\n",
              "    .dataframe thead th {\n",
              "        text-align: right;\n",
              "    }\n",
              "</style>\n",
              "<table border=\"1\" class=\"dataframe\">\n",
              "  <thead>\n",
              "    <tr style=\"text-align: right;\">\n",
              "      <th></th>\n",
              "      <th>arrival_time</th>\n",
              "      <th>delivery_days</th>\n",
              "      <th>payment_value</th>\n",
              "      <th>price</th>\n",
              "      <th>estimated_days</th>\n",
              "      <th>freight_value</th>\n",
              "    </tr>\n",
              "  </thead>\n",
              "  <tbody>\n",
              "    <tr>\n",
              "      <th>0</th>\n",
              "      <td>1.0</td>\n",
              "      <td>0.052885</td>\n",
              "      <td>0.010548</td>\n",
              "      <td>0.018584</td>\n",
              "      <td>0.149660</td>\n",
              "      <td>0.048311</td>\n",
              "    </tr>\n",
              "    <tr>\n",
              "      <th>1</th>\n",
              "      <td>1.0</td>\n",
              "      <td>0.033654</td>\n",
              "      <td>0.034000</td>\n",
              "      <td>0.065198</td>\n",
              "      <td>0.115646</td>\n",
              "      <td>0.065764</td>\n",
              "    </tr>\n",
              "    <tr>\n",
              "      <th>2</th>\n",
              "      <td>1.0</td>\n",
              "      <td>0.028846</td>\n",
              "      <td>0.004686</td>\n",
              "      <td>0.007878</td>\n",
              "      <td>0.122449</td>\n",
              "      <td>0.026993</td>\n",
              "    </tr>\n",
              "    <tr>\n",
              "      <th>3</th>\n",
              "      <td>1.0</td>\n",
              "      <td>0.086538</td>\n",
              "      <td>0.007343</td>\n",
              "      <td>0.012495</td>\n",
              "      <td>0.210884</td>\n",
              "      <td>0.040903</td>\n",
              "    </tr>\n",
              "    <tr>\n",
              "      <th>4</th>\n",
              "      <td>1.0</td>\n",
              "      <td>0.043269</td>\n",
              "      <td>0.004032</td>\n",
              "      <td>0.005812</td>\n",
              "      <td>0.129252</td>\n",
              "      <td>0.040263</td>\n",
              "    </tr>\n",
              "    <tr>\n",
              "      <th>...</th>\n",
              "      <td>...</td>\n",
              "      <td>...</td>\n",
              "      <td>...</td>\n",
              "      <td>...</td>\n",
              "      <td>...</td>\n",
              "      <td>...</td>\n",
              "    </tr>\n",
              "    <tr>\n",
              "      <th>139205</th>\n",
              "      <td>1.0</td>\n",
              "      <td>0.024038</td>\n",
              "      <td>0.002747</td>\n",
              "      <td>0.001783</td>\n",
              "      <td>0.047619</td>\n",
              "      <td>0.003661</td>\n",
              "    </tr>\n",
              "    <tr>\n",
              "      <th>139206</th>\n",
              "      <td>1.0</td>\n",
              "      <td>0.105769</td>\n",
              "      <td>0.013182</td>\n",
              "      <td>0.023523</td>\n",
              "      <td>0.210884</td>\n",
              "      <td>0.055597</td>\n",
              "    </tr>\n",
              "    <tr>\n",
              "      <th>139207</th>\n",
              "      <td>0.0</td>\n",
              "      <td>0.139423</td>\n",
              "      <td>0.005550</td>\n",
              "      <td>0.007878</td>\n",
              "      <td>0.129252</td>\n",
              "      <td>0.058457</td>\n",
              "    </tr>\n",
              "    <tr>\n",
              "      <th>139208</th>\n",
              "      <td>1.0</td>\n",
              "      <td>0.043269</td>\n",
              "      <td>0.005923</td>\n",
              "      <td>0.010118</td>\n",
              "      <td>0.095238</td>\n",
              "      <td>0.031825</td>\n",
              "    </tr>\n",
              "    <tr>\n",
              "      <th>139209</th>\n",
              "      <td>1.0</td>\n",
              "      <td>0.028846</td>\n",
              "      <td>0.005329</td>\n",
              "      <td>0.003023</td>\n",
              "      <td>0.136054</td>\n",
              "      <td>0.040516</td>\n",
              "    </tr>\n",
              "  </tbody>\n",
              "</table>\n",
              "<p>139210 rows × 6 columns</p>\n",
              "</div>\n",
              "      <button class=\"colab-df-convert\" onclick=\"convertToInteractive('df-7f999f55-3f1c-477a-bf18-d663d800a8b8')\"\n",
              "              title=\"Convert this dataframe to an interactive table.\"\n",
              "              style=\"display:none;\">\n",
              "        \n",
              "  <svg xmlns=\"http://www.w3.org/2000/svg\" height=\"24px\"viewBox=\"0 0 24 24\"\n",
              "       width=\"24px\">\n",
              "    <path d=\"M0 0h24v24H0V0z\" fill=\"none\"/>\n",
              "    <path d=\"M18.56 5.44l.94 2.06.94-2.06 2.06-.94-2.06-.94-.94-2.06-.94 2.06-2.06.94zm-11 1L8.5 8.5l.94-2.06 2.06-.94-2.06-.94L8.5 2.5l-.94 2.06-2.06.94zm10 10l.94 2.06.94-2.06 2.06-.94-2.06-.94-.94-2.06-.94 2.06-2.06.94z\"/><path d=\"M17.41 7.96l-1.37-1.37c-.4-.4-.92-.59-1.43-.59-.52 0-1.04.2-1.43.59L10.3 9.45l-7.72 7.72c-.78.78-.78 2.05 0 2.83L4 21.41c.39.39.9.59 1.41.59.51 0 1.02-.2 1.41-.59l7.78-7.78 2.81-2.81c.8-.78.8-2.07 0-2.86zM5.41 20L4 18.59l7.72-7.72 1.47 1.35L5.41 20z\"/>\n",
              "  </svg>\n",
              "      </button>\n",
              "      \n",
              "  <style>\n",
              "    .colab-df-container {\n",
              "      display:flex;\n",
              "      flex-wrap:wrap;\n",
              "      gap: 12px;\n",
              "    }\n",
              "\n",
              "    .colab-df-convert {\n",
              "      background-color: #E8F0FE;\n",
              "      border: none;\n",
              "      border-radius: 50%;\n",
              "      cursor: pointer;\n",
              "      display: none;\n",
              "      fill: #1967D2;\n",
              "      height: 32px;\n",
              "      padding: 0 0 0 0;\n",
              "      width: 32px;\n",
              "    }\n",
              "\n",
              "    .colab-df-convert:hover {\n",
              "      background-color: #E2EBFA;\n",
              "      box-shadow: 0px 1px 2px rgba(60, 64, 67, 0.3), 0px 1px 3px 1px rgba(60, 64, 67, 0.15);\n",
              "      fill: #174EA6;\n",
              "    }\n",
              "\n",
              "    [theme=dark] .colab-df-convert {\n",
              "      background-color: #3B4455;\n",
              "      fill: #D2E3FC;\n",
              "    }\n",
              "\n",
              "    [theme=dark] .colab-df-convert:hover {\n",
              "      background-color: #434B5C;\n",
              "      box-shadow: 0px 1px 3px 1px rgba(0, 0, 0, 0.15);\n",
              "      filter: drop-shadow(0px 1px 2px rgba(0, 0, 0, 0.3));\n",
              "      fill: #FFFFFF;\n",
              "    }\n",
              "  </style>\n",
              "\n",
              "      <script>\n",
              "        const buttonEl =\n",
              "          document.querySelector('#df-7f999f55-3f1c-477a-bf18-d663d800a8b8 button.colab-df-convert');\n",
              "        buttonEl.style.display =\n",
              "          google.colab.kernel.accessAllowed ? 'block' : 'none';\n",
              "\n",
              "        async function convertToInteractive(key) {\n",
              "          const element = document.querySelector('#df-7f999f55-3f1c-477a-bf18-d663d800a8b8');\n",
              "          const dataTable =\n",
              "            await google.colab.kernel.invokeFunction('convertToInteractive',\n",
              "                                                     [key], {});\n",
              "          if (!dataTable) return;\n",
              "\n",
              "          const docLinkHtml = 'Like what you see? Visit the ' +\n",
              "            '<a target=\"_blank\" href=https://colab.research.google.com/notebooks/data_table.ipynb>data table notebook</a>'\n",
              "            + ' to learn more about interactive tables.';\n",
              "          element.innerHTML = '';\n",
              "          dataTable['output_type'] = 'display_data';\n",
              "          await google.colab.output.renderOutput(dataTable, element);\n",
              "          const docLink = document.createElement('div');\n",
              "          docLink.innerHTML = docLinkHtml;\n",
              "          element.appendChild(docLink);\n",
              "        }\n",
              "      </script>\n",
              "    </div>\n",
              "  </div>\n",
              "  "
            ]
          },
          "metadata": {},
          "execution_count": 202
        }
      ]
    },
    {
      "cell_type": "code",
      "source": [
        "plt.figure(figsize=(15,4))\n",
        "sns.boxplot(data=X_train_scaled)"
      ],
      "metadata": {
        "colab": {
          "base_uri": "https://localhost:8080/",
          "height": 284
        },
        "id": "iBou4aRUZVnK",
        "outputId": "75244a25-256b-40ed-91f2-dc31f87ba13b"
      },
      "id": "iBou4aRUZVnK",
      "execution_count": 203,
      "outputs": [
        {
          "output_type": "execute_result",
          "data": {
            "text/plain": [
              "<matplotlib.axes._subplots.AxesSubplot at 0x7fd3528d3dd0>"
            ]
          },
          "metadata": {},
          "execution_count": 203
        },
        {
          "output_type": "display_data",
          "data": {
            "text/plain": [
              "<Figure size 1080x288 with 1 Axes>"
            ],
            "image/png": "[encoded data removed]"
          },
          "metadata": {
            "needs_background": "light"
          }
        }
      ]
    },
    {
      "cell_type": "code",
      "source": [
        "rf = modelo_rf(X_train_scaled, X_test_scaled, y_train, y_test)"
      ],
      "metadata": {
        "colab": {
          "base_uri": "https://localhost:8080/"
        },
        "id": "5XOj9487Zt8O",
        "outputId": "5e3d0f4f-9195-46b5-a983-f9700d34d6a3"
      },
      "id": "5XOj9487Zt8O",
      "execution_count": 204,
      "outputs": [
        {
          "output_type": "stream",
          "name": "stdout",
          "text": [
            "RF treino accuracy: 0.7186409022340349\n",
            "RF teste accuracy: 0.8203038340969375\n",
            "f1 score 0.684668289888228\n",
            "\n",
            " Relatório de classificação\n",
            "              precision    recall  f1-score   support\n",
            "\n",
            "           0       0.45      0.51      0.48      3370\n",
            "           1       0.90      0.88      0.89     17365\n",
            "\n",
            "    accuracy                           0.82     20735\n",
            "   macro avg       0.68      0.69      0.68     20735\n",
            "weighted avg       0.83      0.82      0.82     20735\n",
            "\n"
          ]
        }
      ]
    },
    {
      "cell_type": "markdown",
      "source": [
        "Percebam que a diferença na acurácia não mudou muito com o escalonamento. Os algoritmos baseados em árvore são bastante insensíveis à escala das variáveis. Uma árvore de decisão está dividindo apenas um nó com base em um única variável. Essa divisão de variável não é influenciada por outras variáveis. Portanto, praticamente não há efeito das variáveis restantes na divisão. Isso é o que os torna invariáveis ao dimensionamento das variáveis."
      ],
      "metadata": {
        "id": "Dwc8VIfZTCsz"
      },
      "id": "Dwc8VIfZTCsz"
    },
    {
      "cell_type": "markdown",
      "source": [
        "## Teste de overfitting"
      ],
      "metadata": {
        "id": "TU6ZSTp3bRD4"
      },
      "id": "TU6ZSTp3bRD4"
    },
    {
      "cell_type": "markdown",
      "source": [
        "max_depth é o que o nome sugere: a profundidade máxima que você permite que a árvore cresça. Quanto mais profundo você permitir, mais complexo seu modelo se tornará.\n",
        "\n",
        "Para erro de treinamento, é fácil ver o que vai acontecer. Se você aumentar max_depth, o erro de treinamento sempre diminuirá (ou pelo menos não aumentará).\n",
        "\n",
        "Para erros de teste, fica menos óbvio. Se você definir max_depth muito alto, a árvore de decisão pode simplesmente ajustar demais os dados de treinamento sem capturar padrões úteis como gostaríamos; isso fará com que o erro de teste aumente. Mas se você definir muito baixo, isso também não é bom; então você pode estar dando à árvore de decisão muito pouca flexibilidade para capturar os padrões e interações nos dados de treinamento. Isso também fará com que o erro de teste aumente.\n",
        "\n",
        "Há um bom ponto ótimo entre os extremos de muito alto e muito baixo. Normalmente, o modelo consideraria o max_depth como um hiperparâmetro e usaria algum tipo de grid search com validação cruzada para encontrar um bom número para max_depth."
      ],
      "metadata": {
        "id": "NJM9VdfvXEBP"
      },
      "id": "NJM9VdfvXEBP"
    },
    {
      "cell_type": "code",
      "source": [
        "from sklearn.tree import DecisionTreeClassifier\n",
        "\n",
        "rf = DecisionTreeClassifier(max_depth=100, random_state=44)\n",
        "rf.fit(X_train, y_train)\n",
        "y_pred_rf = rf.predict(X_test)\n",
        "\n",
        "print('RF treino score:',rf.score(X_train,y_train))\n",
        "print('RF teste score:',rf.score(X_test,y_test))"
      ],
      "metadata": {
        "colab": {
          "base_uri": "https://localhost:8080/"
        },
        "id": "2Uon6jpgOgfQ",
        "outputId": "d79b1fba-a6c0-45a4-c5fd-23a174b16c7c"
      },
      "id": "2Uon6jpgOgfQ",
      "execution_count": 205,
      "outputs": [
        {
          "output_type": "stream",
          "name": "stdout",
          "text": [
            "RF treino score: 0.9977803318727103\n",
            "RF teste score: 0.8073788280684833\n"
          ]
        }
      ]
    },
    {
      "cell_type": "code",
      "source": [
        ""
      ],
      "metadata": {
        "id": "bR-p0PLiMlhk"
      },
      "id": "bR-p0PLiMlhk",
      "execution_count": 205,
      "outputs": []
    }
  ],
  "metadata": {
    "kernelspec": {
      "display_name": "Python 3.8.10 ('venv': venv)",
      "language": "python",
      "name": "python3810jvsc74a57bd0b178ef004a88772546236cf693fa593692657404079804da2158f6c253bd66a2"
    },
    "language_info": {
      "codemirror_mode": {
        "name": "ipython",
        "version": 3
      },
      "file_extension": ".py",
      "mimetype": "text/x-python",
      "name": "python",
      "nbconvert_exporter": "python",
      "pygments_lexer": "ipython3",
      "version": "3.8.10"
    },
    "colab": {
      "name": "Customer_Satisfaction_Ecommerce_Project_aula4_completo.ipynb",
      "provenance": [],
      "collapsed_sections": [
        "31e736ba",
        "bd64bedb",
        "ac99453c",
        "c1689200",
        "c4906ff0",
        "97c1ca85",
        "d9355d68"
      ]
    }
  },
  "nbformat": 4,
  "nbformat_minor": 5
}